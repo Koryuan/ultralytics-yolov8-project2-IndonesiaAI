{
 "cells": [
  {
   "cell_type": "code",
   "execution_count": 11,
   "id": "6038ec76-60d6-407c-9c33-0e420d4519cf",
   "metadata": {},
   "outputs": [
    {
     "name": "stdout",
     "output_type": "stream",
     "text": [
      "Downloading https://github.com/ultralytics/assets/releases/download/v8.1.0/yolov8m.pt to 'yolov8m.pt'...\n"
     ]
    },
    {
     "name": "stderr",
     "output_type": "stream",
     "text": [
      "100%|█████████████████████████████████████████████████████████████████████████████| 49.7M/49.7M [00:42<00:00, 1.22MB/s]\n"
     ]
    }
   ],
   "source": [
    "from ultralytics import YOLO\n",
    "\n",
    "model = YOLO(\"yolov8m.pt\")  # load a pretrained model (recommended for training)"
   ]
  },
  {
   "cell_type": "code",
   "execution_count": 12,
   "id": "28c982ea-8f73-407c-ad43-a76fcbd17509",
   "metadata": {
    "scrolled": true
   },
   "outputs": [
    {
     "name": "stdout",
     "output_type": "stream",
     "text": [
      "New https://pypi.org/project/ultralytics/8.1.42 available 😃 Update with 'pip install -U ultralytics'\n",
      "Ultralytics YOLOv8.1.38 🚀 Python-3.11.5 torch-2.2.2+cu118 CUDA:0 (NVIDIA GeForce RTX 3050 Laptop GPU, 4096MiB)\n",
      "\u001b[34m\u001b[1mengine\\trainer: \u001b[0mtask=detect, mode=train, model=yolov8m.pt, data=data\\dataset.yaml, epochs=100, time=None, patience=50, batch=16, imgsz=320, save=True, save_period=-1, cache=False, device=None, workers=1, project=None, name=yolov8m_custom, exist_ok=False, pretrained=True, optimizer=auto, verbose=True, seed=0, deterministic=True, single_cls=False, rect=False, cos_lr=False, close_mosaic=10, resume=False, amp=True, fraction=1.0, profile=False, freeze=None, multi_scale=False, overlap_mask=True, mask_ratio=4, dropout=0.0, val=True, split=val, save_json=False, save_hybrid=False, conf=None, iou=0.7, max_det=300, half=False, dnn=False, plots=True, source=None, vid_stride=1, stream_buffer=False, visualize=False, augment=False, agnostic_nms=False, classes=None, retina_masks=False, embed=None, show=False, save_frames=False, save_txt=False, save_conf=False, save_crop=False, show_labels=True, show_conf=True, show_boxes=True, line_width=None, format=torchscript, keras=False, optimize=False, int8=False, dynamic=False, simplify=False, opset=None, workspace=4, nms=False, lr0=0.01, lrf=0.01, momentum=0.937, weight_decay=0.0005, warmup_epochs=3.0, warmup_momentum=0.8, warmup_bias_lr=0.1, box=7.5, cls=0.5, dfl=1.5, pose=12.0, kobj=1.0, label_smoothing=0.0, nbs=64, hsv_h=0.015, hsv_s=0.7, hsv_v=0.4, degrees=0.0, translate=0.1, scale=0.5, shear=0.0, perspective=0.0, flipud=0.0, fliplr=0.5, bgr=0.0, mosaic=1.0, mixup=0.0, copy_paste=0.0, auto_augment=randaugment, erasing=0.4, crop_fraction=1.0, cfg=None, tracker=botsort.yaml, save_dir=D:\\Programming\\Python\\AI\\Work\\ultralytics\\runs\\detect\\yolov8m_custom\n",
      "Overriding model.yaml nc=80 with nc=1\n",
      "\n",
      "                   from  n    params  module                                       arguments                     \n",
      "  0                  -1  1      1392  ultralytics.nn.modules.conv.Conv             [3, 48, 3, 2]                 \n",
      "  1                  -1  1     41664  ultralytics.nn.modules.conv.Conv             [48, 96, 3, 2]                \n",
      "  2                  -1  2    111360  ultralytics.nn.modules.block.C2f             [96, 96, 2, True]             \n",
      "  3                  -1  1    166272  ultralytics.nn.modules.conv.Conv             [96, 192, 3, 2]               \n",
      "  4                  -1  4    813312  ultralytics.nn.modules.block.C2f             [192, 192, 4, True]           \n",
      "  5                  -1  1    664320  ultralytics.nn.modules.conv.Conv             [192, 384, 3, 2]              \n",
      "  6                  -1  4   3248640  ultralytics.nn.modules.block.C2f             [384, 384, 4, True]           \n",
      "  7                  -1  1   1991808  ultralytics.nn.modules.conv.Conv             [384, 576, 3, 2]              \n",
      "  8                  -1  2   3985920  ultralytics.nn.modules.block.C2f             [576, 576, 2, True]           \n",
      "  9                  -1  1    831168  ultralytics.nn.modules.block.SPPF            [576, 576, 5]                 \n",
      " 10                  -1  1         0  torch.nn.modules.upsampling.Upsample         [None, 2, 'nearest']          \n",
      " 11             [-1, 6]  1         0  ultralytics.nn.modules.conv.Concat           [1]                           \n",
      " 12                  -1  2   1993728  ultralytics.nn.modules.block.C2f             [960, 384, 2]                 \n",
      " 13                  -1  1         0  torch.nn.modules.upsampling.Upsample         [None, 2, 'nearest']          \n",
      " 14             [-1, 4]  1         0  ultralytics.nn.modules.conv.Concat           [1]                           \n",
      " 15                  -1  2    517632  ultralytics.nn.modules.block.C2f             [576, 192, 2]                 \n",
      " 16                  -1  1    332160  ultralytics.nn.modules.conv.Conv             [192, 192, 3, 2]              \n",
      " 17            [-1, 12]  1         0  ultralytics.nn.modules.conv.Concat           [1]                           \n",
      " 18                  -1  2   1846272  ultralytics.nn.modules.block.C2f             [576, 384, 2]                 \n",
      " 19                  -1  1   1327872  ultralytics.nn.modules.conv.Conv             [384, 384, 3, 2]              \n",
      " 20             [-1, 9]  1         0  ultralytics.nn.modules.conv.Concat           [1]                           \n",
      " 21                  -1  2   4207104  ultralytics.nn.modules.block.C2f             [960, 576, 2]                 \n",
      " 22        [15, 18, 21]  1   3776275  ultralytics.nn.modules.head.Detect           [1, [192, 384, 576]]          \n",
      "Model summary: 295 layers, 25856899 parameters, 25856883 gradients, 79.1 GFLOPs\n",
      "\n",
      "Transferred 469/475 items from pretrained weights\n",
      "Freezing layer 'model.22.dfl.conv.weight'\n",
      "\u001b[34m\u001b[1mAMP: \u001b[0mrunning Automatic Mixed Precision (AMP) checks with YOLOv8n...\n",
      "\u001b[34m\u001b[1mAMP: \u001b[0mchecks passed ✅\n"
     ]
    },
    {
     "name": "stderr",
     "output_type": "stream",
     "text": [
      "\u001b[34m\u001b[1mtrain: \u001b[0mScanning D:\\Programming\\Python\\AI\\Work\\datasets\\data\\labels\\train.cache... 4000 images, 0 backgrounds, 0 corrupt\u001b[0m\n",
      "\u001b[34m\u001b[1mval: \u001b[0mScanning D:\\Programming\\Python\\AI\\Work\\datasets\\data\\labels\\val.cache... 500 images, 0 backgrounds, 0 corrupt: 100\u001b[0m\n"
     ]
    },
    {
     "name": "stdout",
     "output_type": "stream",
     "text": [
      "Plotting labels to D:\\Programming\\Python\\AI\\Work\\ultralytics\\runs\\detect\\yolov8m_custom\\labels.jpg... \n",
      "\u001b[34m\u001b[1moptimizer:\u001b[0m 'optimizer=auto' found, ignoring 'lr0=0.01' and 'momentum=0.937' and determining best 'optimizer', 'lr0' and 'momentum' automatically... \n",
      "\u001b[34m\u001b[1moptimizer:\u001b[0m AdamW(lr=0.002, momentum=0.9) with parameter groups 77 weight(decay=0.0), 84 weight(decay=0.0005), 83 bias(decay=0.0)\n",
      "Image sizes 320 train, 320 val\n",
      "Using 1 dataloader workers\n",
      "Logging results to \u001b[1mD:\\Programming\\Python\\AI\\Work\\ultralytics\\runs\\detect\\yolov8m_custom\u001b[0m\n",
      "Starting training for 100 epochs...\n",
      "\n",
      "      Epoch    GPU_mem   box_loss   cls_loss   dfl_loss  Instances       Size\n"
     ]
    },
    {
     "name": "stderr",
     "output_type": "stream",
     "text": [
      "      1/100      2.31G      1.413      1.242       1.33        114        320: 100%|██████████| 250/250 [01:00<00:00,  \n",
      "                 Class     Images  Instances      Box(P          R      mAP50  mAP50-95): 100%|██████████| 16/16 [00:04"
     ]
    },
    {
     "name": "stdout",
     "output_type": "stream",
     "text": [
      "                   all        500       2157     0.0208      0.402     0.0133    0.00604\n"
     ]
    },
    {
     "name": "stderr",
     "output_type": "stream",
     "text": [
      "\n"
     ]
    },
    {
     "name": "stdout",
     "output_type": "stream",
     "text": [
      "\n",
      "      Epoch    GPU_mem   box_loss   cls_loss   dfl_loss  Instances       Size\n"
     ]
    },
    {
     "name": "stderr",
     "output_type": "stream",
     "text": [
      "      2/100      2.53G      1.767      1.611      1.587         88        320: 100%|██████████| 250/250 [00:55<00:00,  \n",
      "                 Class     Images  Instances      Box(P          R      mAP50  mAP50-95): 100%|██████████| 16/16 [00:03\n"
     ]
    },
    {
     "name": "stdout",
     "output_type": "stream",
     "text": [
      "                   all        500       2157      0.378      0.294      0.245       0.11\n",
      "\n",
      "      Epoch    GPU_mem   box_loss   cls_loss   dfl_loss  Instances       Size\n"
     ]
    },
    {
     "name": "stderr",
     "output_type": "stream",
     "text": [
      "      3/100      2.53G      1.789      1.638      1.595        128        320: 100%|██████████| 250/250 [00:55<00:00,  \n",
      "                 Class     Images  Instances      Box(P          R      mAP50  mAP50-95): 100%|██████████| 16/16 [00:03"
     ]
    },
    {
     "name": "stdout",
     "output_type": "stream",
     "text": [
      "                   all        500       2157      0.514      0.334      0.338      0.157\n"
     ]
    },
    {
     "name": "stderr",
     "output_type": "stream",
     "text": [
      "\n"
     ]
    },
    {
     "name": "stdout",
     "output_type": "stream",
     "text": [
      "\n",
      "      Epoch    GPU_mem   box_loss   cls_loss   dfl_loss  Instances       Size\n"
     ]
    },
    {
     "name": "stderr",
     "output_type": "stream",
     "text": [
      "      4/100      2.51G      1.723      1.571      1.552        116        320: 100%|██████████| 250/250 [00:55<00:00,  \n",
      "                 Class     Images  Instances      Box(P          R      mAP50  mAP50-95): 100%|██████████| 16/16 [00:03\n"
     ]
    },
    {
     "name": "stdout",
     "output_type": "stream",
     "text": [
      "                   all        500       2157      0.544      0.373      0.379      0.189\n",
      "\n",
      "      Epoch    GPU_mem   box_loss   cls_loss   dfl_loss  Instances       Size\n"
     ]
    },
    {
     "name": "stderr",
     "output_type": "stream",
     "text": [
      "      5/100      2.52G      1.652      1.503      1.503         65        320: 100%|██████████| 250/250 [01:00<00:00,  \n",
      "                 Class     Images  Instances      Box(P          R      mAP50  mAP50-95): 100%|██████████| 16/16 [00:05"
     ]
    },
    {
     "name": "stdout",
     "output_type": "stream",
     "text": [
      "                   all        500       2157      0.542      0.364      0.372      0.195\n"
     ]
    },
    {
     "name": "stderr",
     "output_type": "stream",
     "text": [
      "\n"
     ]
    },
    {
     "name": "stdout",
     "output_type": "stream",
     "text": [
      "\n",
      "      Epoch    GPU_mem   box_loss   cls_loss   dfl_loss  Instances       Size\n"
     ]
    },
    {
     "name": "stderr",
     "output_type": "stream",
     "text": [
      "      6/100      2.55G      1.613      1.448      1.492        150        320: 100%|██████████| 250/250 [01:07<00:00,  \n",
      "                 Class     Images  Instances      Box(P          R      mAP50  mAP50-95): 100%|██████████| 16/16 [00:03\n"
     ]
    },
    {
     "name": "stdout",
     "output_type": "stream",
     "text": [
      "                   all        500       2157      0.576      0.407      0.434      0.221\n",
      "\n",
      "      Epoch    GPU_mem   box_loss   cls_loss   dfl_loss  Instances       Size\n"
     ]
    },
    {
     "name": "stderr",
     "output_type": "stream",
     "text": [
      "      7/100      2.51G      1.565        1.4      1.454        133        320: 100%|██████████| 250/250 [00:57<00:00,  \n",
      "                 Class     Images  Instances      Box(P          R      mAP50  mAP50-95): 100%|██████████| 16/16 [00:03\n"
     ]
    },
    {
     "name": "stdout",
     "output_type": "stream",
     "text": [
      "                   all        500       2157      0.613      0.401      0.451      0.239\n",
      "\n",
      "      Epoch    GPU_mem   box_loss   cls_loss   dfl_loss  Instances       Size\n"
     ]
    },
    {
     "name": "stderr",
     "output_type": "stream",
     "text": [
      "      8/100      2.46G      1.524       1.37      1.426         86        320: 100%|██████████| 250/250 [00:56<00:00,  \n",
      "                 Class     Images  Instances      Box(P          R      mAP50  mAP50-95): 100%|██████████| 16/16 [00:03\n"
     ]
    },
    {
     "name": "stdout",
     "output_type": "stream",
     "text": [
      "                   all        500       2157      0.579      0.417      0.451       0.24\n",
      "\n",
      "      Epoch    GPU_mem   box_loss   cls_loss   dfl_loss  Instances       Size\n"
     ]
    },
    {
     "name": "stderr",
     "output_type": "stream",
     "text": [
      "      9/100      2.52G      1.508      1.337      1.415         86        320: 100%|██████████| 250/250 [00:56<00:00,  \n",
      "                 Class     Images  Instances      Box(P          R      mAP50  mAP50-95): 100%|██████████| 16/16 [00:03"
     ]
    },
    {
     "name": "stdout",
     "output_type": "stream",
     "text": [
      "                   all        500       2157      0.628      0.432      0.478      0.265\n"
     ]
    },
    {
     "name": "stderr",
     "output_type": "stream",
     "text": [
      "\n"
     ]
    },
    {
     "name": "stdout",
     "output_type": "stream",
     "text": [
      "\n",
      "      Epoch    GPU_mem   box_loss   cls_loss   dfl_loss  Instances       Size\n"
     ]
    },
    {
     "name": "stderr",
     "output_type": "stream",
     "text": [
      "     10/100      2.47G       1.47      1.286      1.389        130        320: 100%|██████████| 250/250 [00:56<00:00,  \n",
      "                 Class     Images  Instances      Box(P          R      mAP50  mAP50-95): 100%|██████████| 16/16 [00:03\n"
     ]
    },
    {
     "name": "stdout",
     "output_type": "stream",
     "text": [
      "                   all        500       2157      0.634      0.436      0.488      0.279\n",
      "\n",
      "      Epoch    GPU_mem   box_loss   cls_loss   dfl_loss  Instances       Size\n"
     ]
    },
    {
     "name": "stderr",
     "output_type": "stream",
     "text": [
      "     11/100      2.52G      1.448      1.274      1.379        187        320: 100%|██████████| 250/250 [00:56<00:00,  \n",
      "                 Class     Images  Instances      Box(P          R      mAP50  mAP50-95): 100%|██████████| 16/16 [00:03\n"
     ]
    },
    {
     "name": "stdout",
     "output_type": "stream",
     "text": [
      "                   all        500       2157      0.654      0.437      0.494      0.275\n",
      "\n",
      "      Epoch    GPU_mem   box_loss   cls_loss   dfl_loss  Instances       Size\n"
     ]
    },
    {
     "name": "stderr",
     "output_type": "stream",
     "text": [
      "     12/100      2.47G      1.444      1.258      1.376        131        320: 100%|██████████| 250/250 [00:56<00:00,  \n",
      "                 Class     Images  Instances      Box(P          R      mAP50  mAP50-95): 100%|██████████| 16/16 [00:03\n"
     ]
    },
    {
     "name": "stdout",
     "output_type": "stream",
     "text": [
      "                   all        500       2157      0.615      0.466      0.494      0.269\n",
      "\n",
      "      Epoch    GPU_mem   box_loss   cls_loss   dfl_loss  Instances       Size\n"
     ]
    },
    {
     "name": "stderr",
     "output_type": "stream",
     "text": [
      "     13/100      2.52G      1.406      1.234      1.353        112        320: 100%|██████████| 250/250 [00:56<00:00,  \n",
      "                 Class     Images  Instances      Box(P          R      mAP50  mAP50-95): 100%|██████████| 16/16 [00:03"
     ]
    },
    {
     "name": "stdout",
     "output_type": "stream",
     "text": [
      "                   all        500       2157      0.604      0.443      0.476      0.267\n"
     ]
    },
    {
     "name": "stderr",
     "output_type": "stream",
     "text": [
      "\n"
     ]
    },
    {
     "name": "stdout",
     "output_type": "stream",
     "text": [
      "\n",
      "      Epoch    GPU_mem   box_loss   cls_loss   dfl_loss  Instances       Size\n"
     ]
    },
    {
     "name": "stderr",
     "output_type": "stream",
     "text": [
      "     14/100      2.46G      1.392      1.192      1.347        109        320: 100%|██████████| 250/250 [00:56<00:00,  \n",
      "                 Class     Images  Instances      Box(P          R      mAP50  mAP50-95): 100%|██████████| 16/16 [00:03"
     ]
    },
    {
     "name": "stdout",
     "output_type": "stream",
     "text": [
      "                   all        500       2157      0.672      0.461      0.514      0.298\n"
     ]
    },
    {
     "name": "stderr",
     "output_type": "stream",
     "text": [
      "\n"
     ]
    },
    {
     "name": "stdout",
     "output_type": "stream",
     "text": [
      "\n",
      "      Epoch    GPU_mem   box_loss   cls_loss   dfl_loss  Instances       Size\n"
     ]
    },
    {
     "name": "stderr",
     "output_type": "stream",
     "text": [
      "     15/100      2.52G      1.386       1.19      1.344        108        320: 100%|██████████| 250/250 [00:56<00:00,  \n",
      "                 Class     Images  Instances      Box(P          R      mAP50  mAP50-95): 100%|██████████| 16/16 [00:03"
     ]
    },
    {
     "name": "stdout",
     "output_type": "stream",
     "text": [
      "                   all        500       2157      0.633      0.466      0.511      0.292\n"
     ]
    },
    {
     "name": "stderr",
     "output_type": "stream",
     "text": [
      "\n"
     ]
    },
    {
     "name": "stdout",
     "output_type": "stream",
     "text": [
      "\n",
      "      Epoch    GPU_mem   box_loss   cls_loss   dfl_loss  Instances       Size\n"
     ]
    },
    {
     "name": "stderr",
     "output_type": "stream",
     "text": [
      "     16/100      2.47G      1.359      1.175      1.335        152        320: 100%|██████████| 250/250 [00:56<00:00,  \n",
      "                 Class     Images  Instances      Box(P          R      mAP50  mAP50-95): 100%|██████████| 16/16 [00:03\n"
     ]
    },
    {
     "name": "stdout",
     "output_type": "stream",
     "text": [
      "                   all        500       2157      0.632      0.473      0.522      0.304\n",
      "\n",
      "      Epoch    GPU_mem   box_loss   cls_loss   dfl_loss  Instances       Size\n"
     ]
    },
    {
     "name": "stderr",
     "output_type": "stream",
     "text": [
      "     17/100      2.52G      1.368      1.156      1.329         79        320: 100%|██████████| 250/250 [00:56<00:00,  \n",
      "                 Class     Images  Instances      Box(P          R      mAP50  mAP50-95): 100%|██████████| 16/16 [00:03\n"
     ]
    },
    {
     "name": "stdout",
     "output_type": "stream",
     "text": [
      "                   all        500       2157      0.675       0.47      0.536      0.308\n",
      "\n",
      "      Epoch    GPU_mem   box_loss   cls_loss   dfl_loss  Instances       Size\n"
     ]
    },
    {
     "name": "stderr",
     "output_type": "stream",
     "text": [
      "     18/100      2.56G       1.35      1.138      1.319         95        320: 100%|██████████| 250/250 [00:58<00:00,  \n",
      "                 Class     Images  Instances      Box(P          R      mAP50  mAP50-95): 100%|██████████| 16/16 [00:03"
     ]
    },
    {
     "name": "stdout",
     "output_type": "stream",
     "text": [
      "                   all        500       2157      0.647      0.469      0.521      0.312\n"
     ]
    },
    {
     "name": "stderr",
     "output_type": "stream",
     "text": [
      "\n"
     ]
    },
    {
     "name": "stdout",
     "output_type": "stream",
     "text": [
      "\n",
      "      Epoch    GPU_mem   box_loss   cls_loss   dfl_loss  Instances       Size\n"
     ]
    },
    {
     "name": "stderr",
     "output_type": "stream",
     "text": [
      "     19/100      2.52G      1.339       1.13      1.313        145        320: 100%|██████████| 250/250 [00:57<00:00,  \n",
      "                 Class     Images  Instances      Box(P          R      mAP50  mAP50-95): 100%|██████████| 16/16 [00:03"
     ]
    },
    {
     "name": "stdout",
     "output_type": "stream",
     "text": [
      "                   all        500       2157      0.656      0.456      0.521      0.304\n"
     ]
    },
    {
     "name": "stderr",
     "output_type": "stream",
     "text": [
      "\n"
     ]
    },
    {
     "name": "stdout",
     "output_type": "stream",
     "text": [
      "\n",
      "      Epoch    GPU_mem   box_loss   cls_loss   dfl_loss  Instances       Size\n"
     ]
    },
    {
     "name": "stderr",
     "output_type": "stream",
     "text": [
      "     20/100      2.55G      1.322      1.101      1.307        117        320: 100%|██████████| 250/250 [00:57<00:00,  \n",
      "                 Class     Images  Instances      Box(P          R      mAP50  mAP50-95): 100%|██████████| 16/16 [00:03"
     ]
    },
    {
     "name": "stdout",
     "output_type": "stream",
     "text": [
      "                   all        500       2157      0.688      0.494      0.552      0.325\n"
     ]
    },
    {
     "name": "stderr",
     "output_type": "stream",
     "text": [
      "\n"
     ]
    },
    {
     "name": "stdout",
     "output_type": "stream",
     "text": [
      "\n",
      "      Epoch    GPU_mem   box_loss   cls_loss   dfl_loss  Instances       Size\n"
     ]
    },
    {
     "name": "stderr",
     "output_type": "stream",
     "text": [
      "     21/100      2.52G      1.315      1.105      1.304        121        320: 100%|██████████| 250/250 [00:57<00:00,  \n",
      "                 Class     Images  Instances      Box(P          R      mAP50  mAP50-95): 100%|██████████| 16/16 [00:03"
     ]
    },
    {
     "name": "stdout",
     "output_type": "stream",
     "text": [
      "                   all        500       2157      0.668      0.474      0.535      0.314\n"
     ]
    },
    {
     "name": "stderr",
     "output_type": "stream",
     "text": [
      "\n"
     ]
    },
    {
     "name": "stdout",
     "output_type": "stream",
     "text": [
      "\n",
      "      Epoch    GPU_mem   box_loss   cls_loss   dfl_loss  Instances       Size\n"
     ]
    },
    {
     "name": "stderr",
     "output_type": "stream",
     "text": [
      "     22/100      2.45G      1.304      1.089      1.292        118        320: 100%|██████████| 250/250 [00:56<00:00,  \n",
      "                 Class     Images  Instances      Box(P          R      mAP50  mAP50-95): 100%|██████████| 16/16 [00:03"
     ]
    },
    {
     "name": "stdout",
     "output_type": "stream",
     "text": [
      "                   all        500       2157      0.664      0.483      0.534      0.315\n"
     ]
    },
    {
     "name": "stderr",
     "output_type": "stream",
     "text": [
      "\n"
     ]
    },
    {
     "name": "stdout",
     "output_type": "stream",
     "text": [
      "\n",
      "      Epoch    GPU_mem   box_loss   cls_loss   dfl_loss  Instances       Size\n"
     ]
    },
    {
     "name": "stderr",
     "output_type": "stream",
     "text": [
      "     23/100      2.52G      1.292      1.069      1.281         99        320: 100%|██████████| 250/250 [00:56<00:00,  \n",
      "                 Class     Images  Instances      Box(P          R      mAP50  mAP50-95): 100%|██████████| 16/16 [00:03\n"
     ]
    },
    {
     "name": "stdout",
     "output_type": "stream",
     "text": [
      "                   all        500       2157      0.695      0.492      0.546      0.326\n",
      "\n",
      "      Epoch    GPU_mem   box_loss   cls_loss   dfl_loss  Instances       Size\n"
     ]
    },
    {
     "name": "stderr",
     "output_type": "stream",
     "text": [
      "     24/100      2.46G      1.285      1.071      1.283        100        320: 100%|██████████| 250/250 [00:56<00:00,  \n",
      "                 Class     Images  Instances      Box(P          R      mAP50  mAP50-95): 100%|██████████| 16/16 [00:03\n"
     ]
    },
    {
     "name": "stdout",
     "output_type": "stream",
     "text": [
      "                   all        500       2157      0.686      0.481      0.538      0.316\n",
      "\n",
      "      Epoch    GPU_mem   box_loss   cls_loss   dfl_loss  Instances       Size\n"
     ]
    },
    {
     "name": "stderr",
     "output_type": "stream",
     "text": [
      "     25/100      2.52G      1.266      1.052      1.266         94        320: 100%|██████████| 250/250 [00:58<00:00,  \n",
      "                 Class     Images  Instances      Box(P          R      mAP50  mAP50-95): 100%|██████████| 16/16 [00:03"
     ]
    },
    {
     "name": "stdout",
     "output_type": "stream",
     "text": [
      "                   all        500       2157      0.656      0.508      0.559      0.331\n"
     ]
    },
    {
     "name": "stderr",
     "output_type": "stream",
     "text": [
      "\n"
     ]
    },
    {
     "name": "stdout",
     "output_type": "stream",
     "text": [
      "\n",
      "      Epoch    GPU_mem   box_loss   cls_loss   dfl_loss  Instances       Size\n"
     ]
    },
    {
     "name": "stderr",
     "output_type": "stream",
     "text": [
      "     26/100      2.49G      1.265      1.056      1.276         98        320: 100%|██████████| 250/250 [00:56<00:00,  \n",
      "                 Class     Images  Instances      Box(P          R      mAP50  mAP50-95): 100%|██████████| 16/16 [00:03"
     ]
    },
    {
     "name": "stdout",
     "output_type": "stream",
     "text": [
      "                   all        500       2157      0.702      0.518      0.573      0.344\n"
     ]
    },
    {
     "name": "stderr",
     "output_type": "stream",
     "text": [
      "\n"
     ]
    },
    {
     "name": "stdout",
     "output_type": "stream",
     "text": [
      "\n",
      "      Epoch    GPU_mem   box_loss   cls_loss   dfl_loss  Instances       Size\n"
     ]
    },
    {
     "name": "stderr",
     "output_type": "stream",
     "text": [
      "     27/100      2.52G      1.254      1.029       1.26        135        320: 100%|██████████| 250/250 [00:55<00:00,  \n",
      "                 Class     Images  Instances      Box(P          R      mAP50  mAP50-95): 100%|██████████| 16/16 [00:03"
     ]
    },
    {
     "name": "stdout",
     "output_type": "stream",
     "text": [
      "                   all        500       2157      0.688      0.509      0.567      0.336\n"
     ]
    },
    {
     "name": "stderr",
     "output_type": "stream",
     "text": [
      "\n"
     ]
    },
    {
     "name": "stdout",
     "output_type": "stream",
     "text": [
      "\n",
      "      Epoch    GPU_mem   box_loss   cls_loss   dfl_loss  Instances       Size\n"
     ]
    },
    {
     "name": "stderr",
     "output_type": "stream",
     "text": [
      "     28/100      2.49G      1.252      1.023      1.265        103        320: 100%|██████████| 250/250 [00:55<00:00,  \n",
      "                 Class     Images  Instances      Box(P          R      mAP50  mAP50-95): 100%|██████████| 16/16 [00:03\n"
     ]
    },
    {
     "name": "stdout",
     "output_type": "stream",
     "text": [
      "                   all        500       2157      0.677      0.515      0.562      0.338\n",
      "\n",
      "      Epoch    GPU_mem   box_loss   cls_loss   dfl_loss  Instances       Size\n"
     ]
    },
    {
     "name": "stderr",
     "output_type": "stream",
     "text": [
      "     29/100      2.52G      1.251      1.019      1.261         90        320: 100%|██████████| 250/250 [00:56<00:00,  \n",
      "                 Class     Images  Instances      Box(P          R      mAP50  mAP50-95): 100%|██████████| 16/16 [00:03"
     ]
    },
    {
     "name": "stdout",
     "output_type": "stream",
     "text": [
      "                   all        500       2157      0.703      0.489      0.569       0.34\n"
     ]
    },
    {
     "name": "stderr",
     "output_type": "stream",
     "text": [
      "\n"
     ]
    },
    {
     "name": "stdout",
     "output_type": "stream",
     "text": [
      "\n",
      "      Epoch    GPU_mem   box_loss   cls_loss   dfl_loss  Instances       Size\n"
     ]
    },
    {
     "name": "stderr",
     "output_type": "stream",
     "text": [
      "     30/100      2.49G      1.248      1.009      1.262        140        320: 100%|██████████| 250/250 [00:56<00:00,  \n",
      "                 Class     Images  Instances      Box(P          R      mAP50  mAP50-95): 100%|██████████| 16/16 [00:03"
     ]
    },
    {
     "name": "stdout",
     "output_type": "stream",
     "text": [
      "                   all        500       2157      0.696       0.49      0.565       0.34\n"
     ]
    },
    {
     "name": "stderr",
     "output_type": "stream",
     "text": [
      "\n"
     ]
    },
    {
     "name": "stdout",
     "output_type": "stream",
     "text": [
      "\n",
      "      Epoch    GPU_mem   box_loss   cls_loss   dfl_loss  Instances       Size\n"
     ]
    },
    {
     "name": "stderr",
     "output_type": "stream",
     "text": [
      "     31/100      2.52G      1.219     0.9943      1.237         86        320: 100%|██████████| 250/250 [00:56<00:00,  \n",
      "                 Class     Images  Instances      Box(P          R      mAP50  mAP50-95): 100%|██████████| 16/16 [00:03"
     ]
    },
    {
     "name": "stdout",
     "output_type": "stream",
     "text": [
      "                   all        500       2157      0.687      0.492      0.567      0.342\n"
     ]
    },
    {
     "name": "stderr",
     "output_type": "stream",
     "text": [
      "\n"
     ]
    },
    {
     "name": "stdout",
     "output_type": "stream",
     "text": [
      "\n",
      "      Epoch    GPU_mem   box_loss   cls_loss   dfl_loss  Instances       Size\n"
     ]
    },
    {
     "name": "stderr",
     "output_type": "stream",
     "text": [
      "     32/100      2.49G       1.22     0.9903      1.248        139        320: 100%|██████████| 250/250 [00:56<00:00,  \n",
      "                 Class     Images  Instances      Box(P          R      mAP50  mAP50-95): 100%|██████████| 16/16 [00:03"
     ]
    },
    {
     "name": "stdout",
     "output_type": "stream",
     "text": [
      "                   all        500       2157      0.707      0.503      0.571      0.344\n"
     ]
    },
    {
     "name": "stderr",
     "output_type": "stream",
     "text": [
      "\n"
     ]
    },
    {
     "name": "stdout",
     "output_type": "stream",
     "text": [
      "\n",
      "      Epoch    GPU_mem   box_loss   cls_loss   dfl_loss  Instances       Size\n"
     ]
    },
    {
     "name": "stderr",
     "output_type": "stream",
     "text": [
      "     33/100      2.52G      1.207       0.98      1.242        130        320: 100%|██████████| 250/250 [00:56<00:00,  \n",
      "                 Class     Images  Instances      Box(P          R      mAP50  mAP50-95): 100%|██████████| 16/16 [00:03"
     ]
    },
    {
     "name": "stdout",
     "output_type": "stream",
     "text": [
      "                   all        500       2157       0.71      0.497      0.575      0.346\n"
     ]
    },
    {
     "name": "stderr",
     "output_type": "stream",
     "text": [
      "\n"
     ]
    },
    {
     "name": "stdout",
     "output_type": "stream",
     "text": [
      "\n",
      "      Epoch    GPU_mem   box_loss   cls_loss   dfl_loss  Instances       Size\n"
     ]
    },
    {
     "name": "stderr",
     "output_type": "stream",
     "text": [
      "     34/100      2.46G      1.192     0.9711       1.23        137        320: 100%|██████████| 250/250 [00:56<00:00,  \n",
      "                 Class     Images  Instances      Box(P          R      mAP50  mAP50-95): 100%|██████████| 16/16 [00:03"
     ]
    },
    {
     "name": "stdout",
     "output_type": "stream",
     "text": [
      "                   all        500       2157      0.698      0.522      0.587      0.352\n"
     ]
    },
    {
     "name": "stderr",
     "output_type": "stream",
     "text": [
      "\n"
     ]
    },
    {
     "name": "stdout",
     "output_type": "stream",
     "text": [
      "\n",
      "      Epoch    GPU_mem   box_loss   cls_loss   dfl_loss  Instances       Size\n"
     ]
    },
    {
     "name": "stderr",
     "output_type": "stream",
     "text": [
      "     35/100      2.52G      1.201      0.973      1.234        108        320: 100%|██████████| 250/250 [00:56<00:00,  \n",
      "                 Class     Images  Instances      Box(P          R      mAP50  mAP50-95): 100%|██████████| 16/16 [00:03"
     ]
    },
    {
     "name": "stdout",
     "output_type": "stream",
     "text": [
      "                   all        500       2157      0.734      0.518      0.593      0.363\n"
     ]
    },
    {
     "name": "stderr",
     "output_type": "stream",
     "text": [
      "\n"
     ]
    },
    {
     "name": "stdout",
     "output_type": "stream",
     "text": [
      "\n",
      "      Epoch    GPU_mem   box_loss   cls_loss   dfl_loss  Instances       Size\n"
     ]
    },
    {
     "name": "stderr",
     "output_type": "stream",
     "text": [
      "     36/100      2.47G      1.181     0.9437      1.221        107        320: 100%|██████████| 250/250 [00:56<00:00,  \n",
      "                 Class     Images  Instances      Box(P          R      mAP50  mAP50-95): 100%|██████████| 16/16 [00:03"
     ]
    },
    {
     "name": "stdout",
     "output_type": "stream",
     "text": [
      "                   all        500       2157      0.724       0.51      0.585       0.35\n"
     ]
    },
    {
     "name": "stderr",
     "output_type": "stream",
     "text": [
      "\n"
     ]
    },
    {
     "name": "stdout",
     "output_type": "stream",
     "text": [
      "\n",
      "      Epoch    GPU_mem   box_loss   cls_loss   dfl_loss  Instances       Size\n"
     ]
    },
    {
     "name": "stderr",
     "output_type": "stream",
     "text": [
      "     37/100      2.52G      1.188     0.9495      1.221        107        320: 100%|██████████| 250/250 [00:56<00:00,  \n",
      "                 Class     Images  Instances      Box(P          R      mAP50  mAP50-95): 100%|██████████| 16/16 [00:03"
     ]
    },
    {
     "name": "stdout",
     "output_type": "stream",
     "text": [
      "                   all        500       2157      0.731      0.507      0.589      0.359\n"
     ]
    },
    {
     "name": "stderr",
     "output_type": "stream",
     "text": [
      "\n"
     ]
    },
    {
     "name": "stdout",
     "output_type": "stream",
     "text": [
      "\n",
      "      Epoch    GPU_mem   box_loss   cls_loss   dfl_loss  Instances       Size\n"
     ]
    },
    {
     "name": "stderr",
     "output_type": "stream",
     "text": [
      "     38/100      2.56G      1.193     0.9445       1.22        134        320: 100%|██████████| 250/250 [00:56<00:00,  \n",
      "                 Class     Images  Instances      Box(P          R      mAP50  mAP50-95): 100%|██████████| 16/16 [00:03\n"
     ]
    },
    {
     "name": "stdout",
     "output_type": "stream",
     "text": [
      "                   all        500       2157      0.746      0.501      0.584      0.356\n",
      "\n",
      "      Epoch    GPU_mem   box_loss   cls_loss   dfl_loss  Instances       Size\n"
     ]
    },
    {
     "name": "stderr",
     "output_type": "stream",
     "text": [
      "     39/100      2.51G      1.179     0.9463      1.222        106        320: 100%|██████████| 250/250 [00:56<00:00,  \n",
      "                 Class     Images  Instances      Box(P          R      mAP50  mAP50-95): 100%|██████████| 16/16 [00:03"
     ]
    },
    {
     "name": "stdout",
     "output_type": "stream",
     "text": [
      "                   all        500       2157      0.717      0.524      0.595      0.362\n"
     ]
    },
    {
     "name": "stderr",
     "output_type": "stream",
     "text": [
      "\n"
     ]
    },
    {
     "name": "stdout",
     "output_type": "stream",
     "text": [
      "\n",
      "      Epoch    GPU_mem   box_loss   cls_loss   dfl_loss  Instances       Size\n"
     ]
    },
    {
     "name": "stderr",
     "output_type": "stream",
     "text": [
      "     40/100      2.49G      1.173     0.9314      1.213         92        320: 100%|██████████| 250/250 [00:56<00:00,  \n",
      "                 Class     Images  Instances      Box(P          R      mAP50  mAP50-95): 100%|██████████| 16/16 [00:03"
     ]
    },
    {
     "name": "stdout",
     "output_type": "stream",
     "text": [
      "                   all        500       2157      0.706      0.522      0.585      0.355\n"
     ]
    },
    {
     "name": "stderr",
     "output_type": "stream",
     "text": [
      "\n"
     ]
    },
    {
     "name": "stdout",
     "output_type": "stream",
     "text": [
      "\n",
      "      Epoch    GPU_mem   box_loss   cls_loss   dfl_loss  Instances       Size\n"
     ]
    },
    {
     "name": "stderr",
     "output_type": "stream",
     "text": [
      "     41/100      2.52G      1.161     0.9102      1.209         80        320: 100%|██████████| 250/250 [00:56<00:00,  \n",
      "                 Class     Images  Instances      Box(P          R      mAP50  mAP50-95): 100%|██████████| 16/16 [00:03\n"
     ]
    },
    {
     "name": "stdout",
     "output_type": "stream",
     "text": [
      "                   all        500       2157      0.751      0.512      0.584      0.355\n",
      "\n",
      "      Epoch    GPU_mem   box_loss   cls_loss   dfl_loss  Instances       Size\n"
     ]
    },
    {
     "name": "stderr",
     "output_type": "stream",
     "text": [
      "     42/100      2.58G      1.154      0.911      1.202         91        320: 100%|██████████| 250/250 [00:56<00:00,  \n",
      "                 Class     Images  Instances      Box(P          R      mAP50  mAP50-95): 100%|██████████| 16/16 [00:03"
     ]
    },
    {
     "name": "stdout",
     "output_type": "stream",
     "text": [
      "                   all        500       2157      0.751      0.513       0.59      0.361\n"
     ]
    },
    {
     "name": "stderr",
     "output_type": "stream",
     "text": [
      "\n"
     ]
    },
    {
     "name": "stdout",
     "output_type": "stream",
     "text": [
      "\n",
      "      Epoch    GPU_mem   box_loss   cls_loss   dfl_loss  Instances       Size\n"
     ]
    },
    {
     "name": "stderr",
     "output_type": "stream",
     "text": [
      "     43/100      2.52G      1.148     0.9082      1.204        130        320: 100%|██████████| 250/250 [00:56<00:00,  \n",
      "                 Class     Images  Instances      Box(P          R      mAP50  mAP50-95): 100%|██████████| 16/16 [00:03"
     ]
    },
    {
     "name": "stdout",
     "output_type": "stream",
     "text": [
      "                   all        500       2157      0.746      0.499      0.589      0.362\n"
     ]
    },
    {
     "name": "stderr",
     "output_type": "stream",
     "text": [
      "\n"
     ]
    },
    {
     "name": "stdout",
     "output_type": "stream",
     "text": [
      "\n",
      "      Epoch    GPU_mem   box_loss   cls_loss   dfl_loss  Instances       Size\n"
     ]
    },
    {
     "name": "stderr",
     "output_type": "stream",
     "text": [
      "     44/100      2.45G      1.158      0.902      1.201         77        320: 100%|██████████| 250/250 [00:56<00:00,  \n",
      "                 Class     Images  Instances      Box(P          R      mAP50  mAP50-95): 100%|██████████| 16/16 [00:03"
     ]
    },
    {
     "name": "stdout",
     "output_type": "stream",
     "text": [
      "                   all        500       2157      0.735      0.521      0.594      0.368\n"
     ]
    },
    {
     "name": "stderr",
     "output_type": "stream",
     "text": [
      "\n"
     ]
    },
    {
     "name": "stdout",
     "output_type": "stream",
     "text": [
      "\n",
      "      Epoch    GPU_mem   box_loss   cls_loss   dfl_loss  Instances       Size\n"
     ]
    },
    {
     "name": "stderr",
     "output_type": "stream",
     "text": [
      "     45/100      2.52G      1.128     0.8885      1.191        104        320: 100%|██████████| 250/250 [00:56<00:00,  \n",
      "                 Class     Images  Instances      Box(P          R      mAP50  mAP50-95): 100%|██████████| 16/16 [00:03"
     ]
    },
    {
     "name": "stdout",
     "output_type": "stream",
     "text": [
      "                   all        500       2157      0.723      0.517      0.602      0.372\n"
     ]
    },
    {
     "name": "stderr",
     "output_type": "stream",
     "text": [
      "\n"
     ]
    },
    {
     "name": "stdout",
     "output_type": "stream",
     "text": [
      "\n",
      "      Epoch    GPU_mem   box_loss   cls_loss   dfl_loss  Instances       Size\n"
     ]
    },
    {
     "name": "stderr",
     "output_type": "stream",
     "text": [
      "     46/100      2.48G      1.134     0.8843      1.189        108        320: 100%|██████████| 250/250 [00:56<00:00,  \n",
      "                 Class     Images  Instances      Box(P          R      mAP50  mAP50-95): 100%|██████████| 16/16 [00:03"
     ]
    },
    {
     "name": "stdout",
     "output_type": "stream",
     "text": [
      "                   all        500       2157      0.727      0.515      0.597      0.369\n"
     ]
    },
    {
     "name": "stderr",
     "output_type": "stream",
     "text": [
      "\n"
     ]
    },
    {
     "name": "stdout",
     "output_type": "stream",
     "text": [
      "\n",
      "      Epoch    GPU_mem   box_loss   cls_loss   dfl_loss  Instances       Size\n"
     ]
    },
    {
     "name": "stderr",
     "output_type": "stream",
     "text": [
      "     47/100      2.52G      1.134     0.8841      1.186         81        320: 100%|██████████| 250/250 [00:56<00:00,  \n",
      "                 Class     Images  Instances      Box(P          R      mAP50  mAP50-95): 100%|██████████| 16/16 [00:03"
     ]
    },
    {
     "name": "stdout",
     "output_type": "stream",
     "text": [
      "                   all        500       2157      0.727      0.523      0.597       0.37\n"
     ]
    },
    {
     "name": "stderr",
     "output_type": "stream",
     "text": [
      "\n"
     ]
    },
    {
     "name": "stdout",
     "output_type": "stream",
     "text": [
      "\n",
      "      Epoch    GPU_mem   box_loss   cls_loss   dfl_loss  Instances       Size\n"
     ]
    },
    {
     "name": "stderr",
     "output_type": "stream",
     "text": [
      "     48/100       2.5G      1.114     0.8623      1.175        121        320: 100%|██████████| 250/250 [00:56<00:00,  \n",
      "                 Class     Images  Instances      Box(P          R      mAP50  mAP50-95): 100%|██████████| 16/16 [00:03"
     ]
    },
    {
     "name": "stdout",
     "output_type": "stream",
     "text": [
      "                   all        500       2157      0.725      0.529      0.607      0.372\n"
     ]
    },
    {
     "name": "stderr",
     "output_type": "stream",
     "text": [
      "\n"
     ]
    },
    {
     "name": "stdout",
     "output_type": "stream",
     "text": [
      "\n",
      "      Epoch    GPU_mem   box_loss   cls_loss   dfl_loss  Instances       Size\n"
     ]
    },
    {
     "name": "stderr",
     "output_type": "stream",
     "text": [
      "     49/100      2.52G      1.109     0.8613       1.18         62        320: 100%|██████████| 250/250 [00:56<00:00,  \n",
      "                 Class     Images  Instances      Box(P          R      mAP50  mAP50-95): 100%|██████████| 16/16 [00:03"
     ]
    },
    {
     "name": "stdout",
     "output_type": "stream",
     "text": [
      "                   all        500       2157      0.719      0.535      0.605      0.377\n"
     ]
    },
    {
     "name": "stderr",
     "output_type": "stream",
     "text": [
      "\n"
     ]
    },
    {
     "name": "stdout",
     "output_type": "stream",
     "text": [
      "\n",
      "      Epoch    GPU_mem   box_loss   cls_loss   dfl_loss  Instances       Size\n"
     ]
    },
    {
     "name": "stderr",
     "output_type": "stream",
     "text": [
      "     50/100      2.49G      1.109     0.8679      1.182        105        320: 100%|██████████| 250/250 [00:56<00:00,  \n",
      "                 Class     Images  Instances      Box(P          R      mAP50  mAP50-95): 100%|██████████| 16/16 [00:03"
     ]
    },
    {
     "name": "stdout",
     "output_type": "stream",
     "text": [
      "                   all        500       2157      0.737      0.522      0.599      0.368\n"
     ]
    },
    {
     "name": "stderr",
     "output_type": "stream",
     "text": [
      "\n"
     ]
    },
    {
     "name": "stdout",
     "output_type": "stream",
     "text": [
      "\n",
      "      Epoch    GPU_mem   box_loss   cls_loss   dfl_loss  Instances       Size\n"
     ]
    },
    {
     "name": "stderr",
     "output_type": "stream",
     "text": [
      "     51/100      2.52G      1.103     0.8448      1.171         91        320: 100%|██████████| 250/250 [00:56<00:00,  \n",
      "                 Class     Images  Instances      Box(P          R      mAP50  mAP50-95): 100%|██████████| 16/16 [00:03"
     ]
    },
    {
     "name": "stdout",
     "output_type": "stream",
     "text": [
      "                   all        500       2157      0.727      0.541      0.607      0.376\n"
     ]
    },
    {
     "name": "stderr",
     "output_type": "stream",
     "text": [
      "\n"
     ]
    },
    {
     "name": "stdout",
     "output_type": "stream",
     "text": [
      "\n",
      "      Epoch    GPU_mem   box_loss   cls_loss   dfl_loss  Instances       Size\n"
     ]
    },
    {
     "name": "stderr",
     "output_type": "stream",
     "text": [
      "     52/100       2.5G      1.093     0.8383      1.174        143        320: 100%|██████████| 250/250 [00:56<00:00,  \n",
      "                 Class     Images  Instances      Box(P          R      mAP50  mAP50-95): 100%|██████████| 16/16 [00:03"
     ]
    },
    {
     "name": "stdout",
     "output_type": "stream",
     "text": [
      "                   all        500       2157      0.737      0.533      0.603      0.375\n"
     ]
    },
    {
     "name": "stderr",
     "output_type": "stream",
     "text": [
      "\n"
     ]
    },
    {
     "name": "stdout",
     "output_type": "stream",
     "text": [
      "\n",
      "      Epoch    GPU_mem   box_loss   cls_loss   dfl_loss  Instances       Size\n"
     ]
    },
    {
     "name": "stderr",
     "output_type": "stream",
     "text": [
      "     53/100      2.52G      1.096     0.8368       1.17        119        320: 100%|██████████| 250/250 [00:56<00:00,  \n",
      "                 Class     Images  Instances      Box(P          R      mAP50  mAP50-95): 100%|██████████| 16/16 [00:03"
     ]
    },
    {
     "name": "stdout",
     "output_type": "stream",
     "text": [
      "                   all        500       2157       0.75      0.527      0.604      0.372\n"
     ]
    },
    {
     "name": "stderr",
     "output_type": "stream",
     "text": [
      "\n"
     ]
    },
    {
     "name": "stdout",
     "output_type": "stream",
     "text": [
      "\n",
      "      Epoch    GPU_mem   box_loss   cls_loss   dfl_loss  Instances       Size\n"
     ]
    },
    {
     "name": "stderr",
     "output_type": "stream",
     "text": [
      "     54/100      2.48G      1.094     0.8346      1.171        116        320: 100%|██████████| 250/250 [00:56<00:00,  \n",
      "                 Class     Images  Instances      Box(P          R      mAP50  mAP50-95): 100%|██████████| 16/16 [00:03"
     ]
    },
    {
     "name": "stdout",
     "output_type": "stream",
     "text": [
      "                   all        500       2157      0.713      0.549      0.606      0.373\n"
     ]
    },
    {
     "name": "stderr",
     "output_type": "stream",
     "text": [
      "\n"
     ]
    },
    {
     "name": "stdout",
     "output_type": "stream",
     "text": [
      "\n",
      "      Epoch    GPU_mem   box_loss   cls_loss   dfl_loss  Instances       Size\n"
     ]
    },
    {
     "name": "stderr",
     "output_type": "stream",
     "text": [
      "     55/100      2.52G      1.091     0.8345      1.168        141        320: 100%|██████████| 250/250 [00:56<00:00,  \n",
      "                 Class     Images  Instances      Box(P          R      mAP50  mAP50-95): 100%|██████████| 16/16 [00:03"
     ]
    },
    {
     "name": "stdout",
     "output_type": "stream",
     "text": [
      "                   all        500       2157      0.733      0.541       0.61      0.376\n"
     ]
    },
    {
     "name": "stderr",
     "output_type": "stream",
     "text": [
      "\n"
     ]
    },
    {
     "name": "stdout",
     "output_type": "stream",
     "text": [
      "\n",
      "      Epoch    GPU_mem   box_loss   cls_loss   dfl_loss  Instances       Size\n"
     ]
    },
    {
     "name": "stderr",
     "output_type": "stream",
     "text": [
      "     56/100      2.48G      1.083     0.8216      1.157        137        320: 100%|██████████| 250/250 [00:56<00:00,  \n",
      "                 Class     Images  Instances      Box(P          R      mAP50  mAP50-95): 100%|██████████| 16/16 [00:03"
     ]
    },
    {
     "name": "stdout",
     "output_type": "stream",
     "text": [
      "                   all        500       2157      0.727      0.534      0.606      0.376\n"
     ]
    },
    {
     "name": "stderr",
     "output_type": "stream",
     "text": [
      "\n"
     ]
    },
    {
     "name": "stdout",
     "output_type": "stream",
     "text": [
      "\n",
      "      Epoch    GPU_mem   box_loss   cls_loss   dfl_loss  Instances       Size\n"
     ]
    },
    {
     "name": "stderr",
     "output_type": "stream",
     "text": [
      "     57/100      2.52G      1.068     0.8113      1.149         94        320: 100%|██████████| 250/250 [00:56<00:00,  \n",
      "                 Class     Images  Instances      Box(P          R      mAP50  mAP50-95): 100%|██████████| 16/16 [00:03"
     ]
    },
    {
     "name": "stdout",
     "output_type": "stream",
     "text": [
      "                   all        500       2157      0.721      0.544      0.608      0.379\n"
     ]
    },
    {
     "name": "stderr",
     "output_type": "stream",
     "text": [
      "\n"
     ]
    },
    {
     "name": "stdout",
     "output_type": "stream",
     "text": [
      "\n",
      "      Epoch    GPU_mem   box_loss   cls_loss   dfl_loss  Instances       Size\n"
     ]
    },
    {
     "name": "stderr",
     "output_type": "stream",
     "text": [
      "     58/100      2.49G      1.075     0.8106      1.154        125        320: 100%|██████████| 250/250 [00:56<00:00,  \n",
      "                 Class     Images  Instances      Box(P          R      mAP50  mAP50-95): 100%|██████████| 16/16 [00:03"
     ]
    },
    {
     "name": "stdout",
     "output_type": "stream",
     "text": [
      "                   all        500       2157      0.725      0.542      0.612       0.38\n"
     ]
    },
    {
     "name": "stderr",
     "output_type": "stream",
     "text": [
      "\n"
     ]
    },
    {
     "name": "stdout",
     "output_type": "stream",
     "text": [
      "\n",
      "      Epoch    GPU_mem   box_loss   cls_loss   dfl_loss  Instances       Size\n"
     ]
    },
    {
     "name": "stderr",
     "output_type": "stream",
     "text": [
      "     59/100      2.52G      1.064     0.8054      1.151        133        320: 100%|██████████| 250/250 [00:56<00:00,  \n",
      "                 Class     Images  Instances      Box(P          R      mAP50  mAP50-95): 100%|██████████| 16/16 [00:03"
     ]
    },
    {
     "name": "stdout",
     "output_type": "stream",
     "text": [
      "                   all        500       2157      0.741      0.526      0.608      0.382\n"
     ]
    },
    {
     "name": "stderr",
     "output_type": "stream",
     "text": [
      "\n"
     ]
    },
    {
     "name": "stdout",
     "output_type": "stream",
     "text": [
      "\n",
      "      Epoch    GPU_mem   box_loss   cls_loss   dfl_loss  Instances       Size\n"
     ]
    },
    {
     "name": "stderr",
     "output_type": "stream",
     "text": [
      "     60/100      2.49G      1.054     0.7939      1.147        110        320: 100%|██████████| 250/250 [00:56<00:00,  \n",
      "                 Class     Images  Instances      Box(P          R      mAP50  mAP50-95): 100%|██████████| 16/16 [00:03"
     ]
    },
    {
     "name": "stdout",
     "output_type": "stream",
     "text": [
      "                   all        500       2157      0.749      0.542      0.616      0.386\n"
     ]
    },
    {
     "name": "stderr",
     "output_type": "stream",
     "text": [
      "\n"
     ]
    },
    {
     "name": "stdout",
     "output_type": "stream",
     "text": [
      "\n",
      "      Epoch    GPU_mem   box_loss   cls_loss   dfl_loss  Instances       Size\n"
     ]
    },
    {
     "name": "stderr",
     "output_type": "stream",
     "text": [
      "     61/100      2.52G      1.054      0.796      1.145        109        320: 100%|██████████| 250/250 [00:56<00:00,  \n",
      "                 Class     Images  Instances      Box(P          R      mAP50  mAP50-95): 100%|██████████| 16/16 [00:03\n"
     ]
    },
    {
     "name": "stdout",
     "output_type": "stream",
     "text": [
      "                   all        500       2157       0.72       0.55      0.611      0.384\n",
      "\n",
      "      Epoch    GPU_mem   box_loss   cls_loss   dfl_loss  Instances       Size\n"
     ]
    },
    {
     "name": "stderr",
     "output_type": "stream",
     "text": [
      "     62/100      2.48G      1.047      0.787      1.141        152        320: 100%|██████████| 250/250 [00:56<00:00,  \n",
      "                 Class     Images  Instances      Box(P          R      mAP50  mAP50-95): 100%|██████████| 16/16 [00:03"
     ]
    },
    {
     "name": "stdout",
     "output_type": "stream",
     "text": [
      "                   all        500       2157      0.754      0.538      0.616      0.382\n"
     ]
    },
    {
     "name": "stderr",
     "output_type": "stream",
     "text": [
      "\n"
     ]
    },
    {
     "name": "stdout",
     "output_type": "stream",
     "text": [
      "\n",
      "      Epoch    GPU_mem   box_loss   cls_loss   dfl_loss  Instances       Size\n"
     ]
    },
    {
     "name": "stderr",
     "output_type": "stream",
     "text": [
      "     63/100      2.52G      1.059     0.7838      1.145        138        320: 100%|██████████| 250/250 [00:56<00:00,  \n",
      "                 Class     Images  Instances      Box(P          R      mAP50  mAP50-95): 100%|██████████| 16/16 [00:03"
     ]
    },
    {
     "name": "stdout",
     "output_type": "stream",
     "text": [
      "                   all        500       2157      0.743      0.539      0.612      0.386\n"
     ]
    },
    {
     "name": "stderr",
     "output_type": "stream",
     "text": [
      "\n"
     ]
    },
    {
     "name": "stdout",
     "output_type": "stream",
     "text": [
      "\n",
      "      Epoch    GPU_mem   box_loss   cls_loss   dfl_loss  Instances       Size\n"
     ]
    },
    {
     "name": "stderr",
     "output_type": "stream",
     "text": [
      "     64/100      2.51G       1.03     0.7717      1.128         79        320: 100%|██████████| 250/250 [00:56<00:00,  \n",
      "                 Class     Images  Instances      Box(P          R      mAP50  mAP50-95): 100%|██████████| 16/16 [00:03"
     ]
    },
    {
     "name": "stdout",
     "output_type": "stream",
     "text": [
      "                   all        500       2157      0.737      0.544      0.616      0.386\n"
     ]
    },
    {
     "name": "stderr",
     "output_type": "stream",
     "text": [
      "\n"
     ]
    },
    {
     "name": "stdout",
     "output_type": "stream",
     "text": [
      "\n",
      "      Epoch    GPU_mem   box_loss   cls_loss   dfl_loss  Instances       Size\n"
     ]
    },
    {
     "name": "stderr",
     "output_type": "stream",
     "text": [
      "     65/100      2.52G      1.035     0.7649      1.132         94        320: 100%|██████████| 250/250 [00:56<00:00,  \n",
      "                 Class     Images  Instances      Box(P          R      mAP50  mAP50-95): 100%|██████████| 16/16 [00:03"
     ]
    },
    {
     "name": "stdout",
     "output_type": "stream",
     "text": [
      "                   all        500       2157      0.754      0.537      0.614      0.381\n"
     ]
    },
    {
     "name": "stderr",
     "output_type": "stream",
     "text": [
      "\n"
     ]
    },
    {
     "name": "stdout",
     "output_type": "stream",
     "text": [
      "\n",
      "      Epoch    GPU_mem   box_loss   cls_loss   dfl_loss  Instances       Size\n"
     ]
    },
    {
     "name": "stderr",
     "output_type": "stream",
     "text": [
      "     66/100      2.47G      1.032     0.7642      1.129        129        320: 100%|██████████| 250/250 [00:56<00:00,  \n",
      "                 Class     Images  Instances      Box(P          R      mAP50  mAP50-95): 100%|██████████| 16/16 [00:03\n"
     ]
    },
    {
     "name": "stdout",
     "output_type": "stream",
     "text": [
      "                   all        500       2157      0.767      0.529       0.62      0.386\n",
      "\n",
      "      Epoch    GPU_mem   box_loss   cls_loss   dfl_loss  Instances       Size\n"
     ]
    },
    {
     "name": "stderr",
     "output_type": "stream",
     "text": [
      "     67/100      2.52G       1.03     0.7625      1.137        137        320: 100%|██████████| 250/250 [00:56<00:00,  \n",
      "                 Class     Images  Instances      Box(P          R      mAP50  mAP50-95): 100%|██████████| 16/16 [00:03"
     ]
    },
    {
     "name": "stdout",
     "output_type": "stream",
     "text": [
      "                   all        500       2157      0.777      0.533      0.623      0.387\n"
     ]
    },
    {
     "name": "stderr",
     "output_type": "stream",
     "text": [
      "\n"
     ]
    },
    {
     "name": "stdout",
     "output_type": "stream",
     "text": [
      "\n",
      "      Epoch    GPU_mem   box_loss   cls_loss   dfl_loss  Instances       Size\n"
     ]
    },
    {
     "name": "stderr",
     "output_type": "stream",
     "text": [
      "     68/100      2.46G      1.011      0.748      1.122        135        320: 100%|██████████| 250/250 [00:56<00:00,  \n",
      "                 Class     Images  Instances      Box(P          R      mAP50  mAP50-95): 100%|██████████| 16/16 [00:03"
     ]
    },
    {
     "name": "stdout",
     "output_type": "stream",
     "text": [
      "                   all        500       2157      0.756      0.544      0.626      0.391\n"
     ]
    },
    {
     "name": "stderr",
     "output_type": "stream",
     "text": [
      "\n"
     ]
    },
    {
     "name": "stdout",
     "output_type": "stream",
     "text": [
      "\n",
      "      Epoch    GPU_mem   box_loss   cls_loss   dfl_loss  Instances       Size\n"
     ]
    },
    {
     "name": "stderr",
     "output_type": "stream",
     "text": [
      "     69/100      2.52G      1.021     0.7526      1.129        107        320: 100%|██████████| 250/250 [00:56<00:00,  \n",
      "                 Class     Images  Instances      Box(P          R      mAP50  mAP50-95): 100%|██████████| 16/16 [00:03"
     ]
    },
    {
     "name": "stdout",
     "output_type": "stream",
     "text": [
      "                   all        500       2157      0.753      0.548      0.627      0.392\n"
     ]
    },
    {
     "name": "stderr",
     "output_type": "stream",
     "text": [
      "\n"
     ]
    },
    {
     "name": "stdout",
     "output_type": "stream",
     "text": [
      "\n",
      "      Epoch    GPU_mem   box_loss   cls_loss   dfl_loss  Instances       Size\n"
     ]
    },
    {
     "name": "stderr",
     "output_type": "stream",
     "text": [
      "     70/100      2.49G      1.008     0.7375      1.119         74        320: 100%|██████████| 250/250 [00:56<00:00,  \n",
      "                 Class     Images  Instances      Box(P          R      mAP50  mAP50-95): 100%|██████████| 16/16 [00:03"
     ]
    },
    {
     "name": "stdout",
     "output_type": "stream",
     "text": [
      "                   all        500       2157      0.777      0.541       0.63      0.395\n"
     ]
    },
    {
     "name": "stderr",
     "output_type": "stream",
     "text": [
      "\n"
     ]
    },
    {
     "name": "stdout",
     "output_type": "stream",
     "text": [
      "\n",
      "      Epoch    GPU_mem   box_loss   cls_loss   dfl_loss  Instances       Size\n"
     ]
    },
    {
     "name": "stderr",
     "output_type": "stream",
     "text": [
      "     71/100      2.52G      1.022      0.746      1.121        108        320: 100%|██████████| 250/250 [00:56<00:00,  \n",
      "                 Class     Images  Instances      Box(P          R      mAP50  mAP50-95): 100%|██████████| 16/16 [00:03"
     ]
    },
    {
     "name": "stdout",
     "output_type": "stream",
     "text": [
      "                   all        500       2157      0.761      0.541      0.621       0.39\n"
     ]
    },
    {
     "name": "stderr",
     "output_type": "stream",
     "text": [
      "\n"
     ]
    },
    {
     "name": "stdout",
     "output_type": "stream",
     "text": [
      "\n",
      "      Epoch    GPU_mem   box_loss   cls_loss   dfl_loss  Instances       Size\n"
     ]
    },
    {
     "name": "stderr",
     "output_type": "stream",
     "text": [
      "     72/100      2.49G     0.9968     0.7299      1.113        108        320: 100%|██████████| 250/250 [00:56<00:00,  \n",
      "                 Class     Images  Instances      Box(P          R      mAP50  mAP50-95): 100%|██████████| 16/16 [00:03"
     ]
    },
    {
     "name": "stdout",
     "output_type": "stream",
     "text": [
      "                   all        500       2157      0.778      0.531      0.625      0.389\n"
     ]
    },
    {
     "name": "stderr",
     "output_type": "stream",
     "text": [
      "\n"
     ]
    },
    {
     "name": "stdout",
     "output_type": "stream",
     "text": [
      "\n",
      "      Epoch    GPU_mem   box_loss   cls_loss   dfl_loss  Instances       Size\n"
     ]
    },
    {
     "name": "stderr",
     "output_type": "stream",
     "text": [
      "     73/100      2.52G     0.9933     0.7247      1.113        133        320: 100%|██████████| 250/250 [00:56<00:00,  \n",
      "                 Class     Images  Instances      Box(P          R      mAP50  mAP50-95): 100%|██████████| 16/16 [00:03"
     ]
    },
    {
     "name": "stdout",
     "output_type": "stream",
     "text": [
      "                   all        500       2157      0.764      0.534      0.623      0.394\n"
     ]
    },
    {
     "name": "stderr",
     "output_type": "stream",
     "text": [
      "\n"
     ]
    },
    {
     "name": "stdout",
     "output_type": "stream",
     "text": [
      "\n",
      "      Epoch    GPU_mem   box_loss   cls_loss   dfl_loss  Instances       Size\n"
     ]
    },
    {
     "name": "stderr",
     "output_type": "stream",
     "text": [
      "     74/100      2.46G      1.001     0.7274      1.115        153        320: 100%|██████████| 250/250 [00:56<00:00,  \n",
      "                 Class     Images  Instances      Box(P          R      mAP50  mAP50-95): 100%|██████████| 16/16 [00:03"
     ]
    },
    {
     "name": "stdout",
     "output_type": "stream",
     "text": [
      "                   all        500       2157      0.744      0.545      0.623      0.393\n"
     ]
    },
    {
     "name": "stderr",
     "output_type": "stream",
     "text": [
      "\n"
     ]
    },
    {
     "name": "stdout",
     "output_type": "stream",
     "text": [
      "\n",
      "      Epoch    GPU_mem   box_loss   cls_loss   dfl_loss  Instances       Size\n"
     ]
    },
    {
     "name": "stderr",
     "output_type": "stream",
     "text": [
      "     75/100      2.52G      0.996     0.7199      1.112        149        320: 100%|██████████| 250/250 [00:56<00:00,  \n",
      "                 Class     Images  Instances      Box(P          R      mAP50  mAP50-95): 100%|██████████| 16/16 [00:03"
     ]
    },
    {
     "name": "stdout",
     "output_type": "stream",
     "text": [
      "                   all        500       2157      0.745       0.55       0.63      0.396\n"
     ]
    },
    {
     "name": "stderr",
     "output_type": "stream",
     "text": [
      "\n"
     ]
    },
    {
     "name": "stdout",
     "output_type": "stream",
     "text": [
      "\n",
      "      Epoch    GPU_mem   box_loss   cls_loss   dfl_loss  Instances       Size\n"
     ]
    },
    {
     "name": "stderr",
     "output_type": "stream",
     "text": [
      "     76/100      2.48G     0.9892     0.7209      1.108         78        320: 100%|██████████| 250/250 [00:56<00:00,  \n",
      "                 Class     Images  Instances      Box(P          R      mAP50  mAP50-95): 100%|██████████| 16/16 [00:03"
     ]
    },
    {
     "name": "stdout",
     "output_type": "stream",
     "text": [
      "                   all        500       2157      0.768      0.556      0.634      0.398\n"
     ]
    },
    {
     "name": "stderr",
     "output_type": "stream",
     "text": [
      "\n"
     ]
    },
    {
     "name": "stdout",
     "output_type": "stream",
     "text": [
      "\n",
      "      Epoch    GPU_mem   box_loss   cls_loss   dfl_loss  Instances       Size\n"
     ]
    },
    {
     "name": "stderr",
     "output_type": "stream",
     "text": [
      "     77/100      2.52G     0.9746      0.706      1.101        145        320: 100%|██████████| 250/250 [00:56<00:00,  \n",
      "                 Class     Images  Instances      Box(P          R      mAP50  mAP50-95): 100%|██████████| 16/16 [00:03"
     ]
    },
    {
     "name": "stdout",
     "output_type": "stream",
     "text": [
      "                   all        500       2157      0.738      0.565      0.631      0.398\n"
     ]
    },
    {
     "name": "stderr",
     "output_type": "stream",
     "text": [
      "\n"
     ]
    },
    {
     "name": "stdout",
     "output_type": "stream",
     "text": [
      "\n",
      "      Epoch    GPU_mem   box_loss   cls_loss   dfl_loss  Instances       Size\n"
     ]
    },
    {
     "name": "stderr",
     "output_type": "stream",
     "text": [
      "     78/100      2.48G     0.9772     0.6993      1.104         99        320: 100%|██████████| 250/250 [00:56<00:00,  \n",
      "                 Class     Images  Instances      Box(P          R      mAP50  mAP50-95): 100%|██████████| 16/16 [00:03"
     ]
    },
    {
     "name": "stdout",
     "output_type": "stream",
     "text": [
      "                   all        500       2157      0.766      0.552      0.635      0.397\n"
     ]
    },
    {
     "name": "stderr",
     "output_type": "stream",
     "text": [
      "\n"
     ]
    },
    {
     "name": "stdout",
     "output_type": "stream",
     "text": [
      "\n",
      "      Epoch    GPU_mem   box_loss   cls_loss   dfl_loss  Instances       Size\n"
     ]
    },
    {
     "name": "stderr",
     "output_type": "stream",
     "text": [
      "     79/100      2.52G     0.9622     0.6906      1.093         79        320: 100%|██████████| 250/250 [00:56<00:00,  \n",
      "                 Class     Images  Instances      Box(P          R      mAP50  mAP50-95): 100%|██████████| 16/16 [00:03"
     ]
    },
    {
     "name": "stdout",
     "output_type": "stream",
     "text": [
      "                   all        500       2157      0.764       0.56      0.633      0.399\n"
     ]
    },
    {
     "name": "stderr",
     "output_type": "stream",
     "text": [
      "\n"
     ]
    },
    {
     "name": "stdout",
     "output_type": "stream",
     "text": [
      "\n",
      "      Epoch    GPU_mem   box_loss   cls_loss   dfl_loss  Instances       Size\n"
     ]
    },
    {
     "name": "stderr",
     "output_type": "stream",
     "text": [
      "     80/100       2.5G      0.958     0.6856      1.094        122        320: 100%|██████████| 250/250 [00:56<00:00,  \n",
      "                 Class     Images  Instances      Box(P          R      mAP50  mAP50-95): 100%|██████████| 16/16 [00:03"
     ]
    },
    {
     "name": "stdout",
     "output_type": "stream",
     "text": [
      "                   all        500       2157      0.761      0.559      0.632      0.398\n"
     ]
    },
    {
     "name": "stderr",
     "output_type": "stream",
     "text": [
      "\n"
     ]
    },
    {
     "name": "stdout",
     "output_type": "stream",
     "text": [
      "\n",
      "      Epoch    GPU_mem   box_loss   cls_loss   dfl_loss  Instances       Size\n"
     ]
    },
    {
     "name": "stderr",
     "output_type": "stream",
     "text": [
      "     81/100      2.51G     0.9647     0.6872      1.091        130        320: 100%|██████████| 250/250 [00:56<00:00,  \n",
      "                 Class     Images  Instances      Box(P          R      mAP50  mAP50-95): 100%|██████████| 16/16 [00:03"
     ]
    },
    {
     "name": "stdout",
     "output_type": "stream",
     "text": [
      "                   all        500       2157       0.76      0.562      0.631      0.398\n"
     ]
    },
    {
     "name": "stderr",
     "output_type": "stream",
     "text": [
      "\n"
     ]
    },
    {
     "name": "stdout",
     "output_type": "stream",
     "text": [
      "\n",
      "      Epoch    GPU_mem   box_loss   cls_loss   dfl_loss  Instances       Size\n"
     ]
    },
    {
     "name": "stderr",
     "output_type": "stream",
     "text": [
      "     82/100      2.57G     0.9593     0.6886      1.091        139        320: 100%|██████████| 250/250 [00:56<00:00,  \n",
      "                 Class     Images  Instances      Box(P          R      mAP50  mAP50-95): 100%|██████████| 16/16 [00:03\n"
     ]
    },
    {
     "name": "stdout",
     "output_type": "stream",
     "text": [
      "                   all        500       2157      0.767      0.557      0.628      0.395\n",
      "\n",
      "      Epoch    GPU_mem   box_loss   cls_loss   dfl_loss  Instances       Size\n"
     ]
    },
    {
     "name": "stderr",
     "output_type": "stream",
     "text": [
      "     83/100      2.52G       0.96     0.6905      1.096        106        320: 100%|██████████| 250/250 [00:56<00:00,  \n",
      "                 Class     Images  Instances      Box(P          R      mAP50  mAP50-95): 100%|██████████| 16/16 [00:03"
     ]
    },
    {
     "name": "stdout",
     "output_type": "stream",
     "text": [
      "                   all        500       2157      0.747      0.558      0.633      0.396\n"
     ]
    },
    {
     "name": "stderr",
     "output_type": "stream",
     "text": [
      "\n"
     ]
    },
    {
     "name": "stdout",
     "output_type": "stream",
     "text": [
      "\n",
      "      Epoch    GPU_mem   box_loss   cls_loss   dfl_loss  Instances       Size\n"
     ]
    },
    {
     "name": "stderr",
     "output_type": "stream",
     "text": [
      "     84/100      2.58G     0.9523     0.6823      1.089         99        320: 100%|██████████| 250/250 [00:56<00:00,  \n",
      "                 Class     Images  Instances      Box(P          R      mAP50  mAP50-95): 100%|██████████| 16/16 [00:03"
     ]
    },
    {
     "name": "stdout",
     "output_type": "stream",
     "text": [
      "                   all        500       2157      0.759      0.553      0.628      0.396\n"
     ]
    },
    {
     "name": "stderr",
     "output_type": "stream",
     "text": [
      "\n"
     ]
    },
    {
     "name": "stdout",
     "output_type": "stream",
     "text": [
      "\n",
      "      Epoch    GPU_mem   box_loss   cls_loss   dfl_loss  Instances       Size\n"
     ]
    },
    {
     "name": "stderr",
     "output_type": "stream",
     "text": [
      "     85/100      2.51G      0.942     0.6704      1.085        146        320: 100%|██████████| 250/250 [00:56<00:00,  \n",
      "                 Class     Images  Instances      Box(P          R      mAP50  mAP50-95): 100%|██████████| 16/16 [00:03"
     ]
    },
    {
     "name": "stdout",
     "output_type": "stream",
     "text": [
      "                   all        500       2157      0.739      0.565      0.633      0.397\n"
     ]
    },
    {
     "name": "stderr",
     "output_type": "stream",
     "text": [
      "\n"
     ]
    },
    {
     "name": "stdout",
     "output_type": "stream",
     "text": [
      "\n",
      "      Epoch    GPU_mem   box_loss   cls_loss   dfl_loss  Instances       Size\n"
     ]
    },
    {
     "name": "stderr",
     "output_type": "stream",
     "text": [
      "     86/100      2.47G      0.947     0.6705      1.082         88        320: 100%|██████████| 250/250 [00:56<00:00,  \n",
      "                 Class     Images  Instances      Box(P          R      mAP50  mAP50-95): 100%|██████████| 16/16 [00:03"
     ]
    },
    {
     "name": "stdout",
     "output_type": "stream",
     "text": [
      "                   all        500       2157      0.766      0.557      0.634      0.396\n"
     ]
    },
    {
     "name": "stderr",
     "output_type": "stream",
     "text": [
      "\n"
     ]
    },
    {
     "name": "stdout",
     "output_type": "stream",
     "text": [
      "\n",
      "      Epoch    GPU_mem   box_loss   cls_loss   dfl_loss  Instances       Size\n"
     ]
    },
    {
     "name": "stderr",
     "output_type": "stream",
     "text": [
      "     87/100      2.52G     0.9405     0.6624      1.078        140        320: 100%|██████████| 250/250 [00:56<00:00,  \n",
      "                 Class     Images  Instances      Box(P          R      mAP50  mAP50-95): 100%|██████████| 16/16 [00:03"
     ]
    },
    {
     "name": "stdout",
     "output_type": "stream",
     "text": [
      "                   all        500       2157      0.767      0.545      0.627      0.393\n"
     ]
    },
    {
     "name": "stderr",
     "output_type": "stream",
     "text": [
      "\n"
     ]
    },
    {
     "name": "stdout",
     "output_type": "stream",
     "text": [
      "\n",
      "      Epoch    GPU_mem   box_loss   cls_loss   dfl_loss  Instances       Size\n"
     ]
    },
    {
     "name": "stderr",
     "output_type": "stream",
     "text": [
      "     88/100      2.48G     0.9318     0.6681      1.085        147        320: 100%|██████████| 250/250 [00:56<00:00,  \n",
      "                 Class     Images  Instances      Box(P          R      mAP50  mAP50-95): 100%|██████████| 16/16 [00:03"
     ]
    },
    {
     "name": "stdout",
     "output_type": "stream",
     "text": [
      "                   all        500       2157      0.763      0.554      0.633      0.396\n"
     ]
    },
    {
     "name": "stderr",
     "output_type": "stream",
     "text": [
      "\n"
     ]
    },
    {
     "name": "stdout",
     "output_type": "stream",
     "text": [
      "\n",
      "      Epoch    GPU_mem   box_loss   cls_loss   dfl_loss  Instances       Size\n"
     ]
    },
    {
     "name": "stderr",
     "output_type": "stream",
     "text": [
      "     89/100      2.52G     0.9318     0.6546      1.077        121        320: 100%|██████████| 250/250 [00:56<00:00,  \n",
      "                 Class     Images  Instances      Box(P          R      mAP50  mAP50-95): 100%|██████████| 16/16 [00:03"
     ]
    },
    {
     "name": "stdout",
     "output_type": "stream",
     "text": [
      "                   all        500       2157      0.743      0.568      0.634      0.397\n"
     ]
    },
    {
     "name": "stderr",
     "output_type": "stream",
     "text": [
      "\n"
     ]
    },
    {
     "name": "stdout",
     "output_type": "stream",
     "text": [
      "\n",
      "      Epoch    GPU_mem   box_loss   cls_loss   dfl_loss  Instances       Size\n"
     ]
    },
    {
     "name": "stderr",
     "output_type": "stream",
     "text": [
      "     90/100      2.48G     0.9247     0.6501      1.075        119        320: 100%|██████████| 250/250 [00:58<00:00,  \n",
      "                 Class     Images  Instances      Box(P          R      mAP50  mAP50-95): 100%|██████████| 16/16 [00:03"
     ]
    },
    {
     "name": "stdout",
     "output_type": "stream",
     "text": [
      "                   all        500       2157      0.758      0.555      0.631      0.397\n"
     ]
    },
    {
     "name": "stderr",
     "output_type": "stream",
     "text": [
      "\n"
     ]
    },
    {
     "name": "stdout",
     "output_type": "stream",
     "text": [
      "Closing dataloader mosaic\n",
      "\n",
      "      Epoch    GPU_mem   box_loss   cls_loss   dfl_loss  Instances       Size\n"
     ]
    },
    {
     "name": "stderr",
     "output_type": "stream",
     "text": [
      "     91/100      2.52G     0.8763      0.569       1.02         94        320: 100%|██████████| 250/250 [00:58<00:00,  \n",
      "                 Class     Images  Instances      Box(P          R      mAP50  mAP50-95): 100%|██████████| 16/16 [00:03\n"
     ]
    },
    {
     "name": "stdout",
     "output_type": "stream",
     "text": [
      "                   all        500       2157      0.755      0.551      0.625       0.39\n",
      "\n",
      "      Epoch    GPU_mem   box_loss   cls_loss   dfl_loss  Instances       Size\n"
     ]
    },
    {
     "name": "stderr",
     "output_type": "stream",
     "text": [
      "     92/100      2.49G     0.8656     0.5546      1.015         53        320: 100%|██████████| 250/250 [00:58<00:00,  \n",
      "                 Class     Images  Instances      Box(P          R      mAP50  mAP50-95): 100%|██████████| 16/16 [00:04\n"
     ]
    },
    {
     "name": "stdout",
     "output_type": "stream",
     "text": [
      "                   all        500       2157      0.752      0.559      0.627      0.393\n",
      "\n",
      "      Epoch    GPU_mem   box_loss   cls_loss   dfl_loss  Instances       Size\n"
     ]
    },
    {
     "name": "stderr",
     "output_type": "stream",
     "text": [
      "     93/100      2.52G     0.8477     0.5365      1.004         48        320: 100%|██████████| 250/250 [00:58<00:00,  \n",
      "                 Class     Images  Instances      Box(P          R      mAP50  mAP50-95): 100%|██████████| 16/16 [00:03"
     ]
    },
    {
     "name": "stdout",
     "output_type": "stream",
     "text": [
      "                   all        500       2157      0.753      0.554      0.629      0.394\n"
     ]
    },
    {
     "name": "stderr",
     "output_type": "stream",
     "text": [
      "\n"
     ]
    },
    {
     "name": "stdout",
     "output_type": "stream",
     "text": [
      "\n",
      "      Epoch    GPU_mem   box_loss   cls_loss   dfl_loss  Instances       Size\n"
     ]
    },
    {
     "name": "stderr",
     "output_type": "stream",
     "text": [
      "     94/100      2.51G     0.8444     0.5337      1.003         44        320: 100%|██████████| 250/250 [00:58<00:00,  \n",
      "                 Class     Images  Instances      Box(P          R      mAP50  mAP50-95): 100%|██████████| 16/16 [00:03"
     ]
    },
    {
     "name": "stdout",
     "output_type": "stream",
     "text": [
      "                   all        500       2157       0.74      0.554      0.627      0.394\n"
     ]
    },
    {
     "name": "stderr",
     "output_type": "stream",
     "text": [
      "\n"
     ]
    },
    {
     "name": "stdout",
     "output_type": "stream",
     "text": [
      "\n",
      "      Epoch    GPU_mem   box_loss   cls_loss   dfl_loss  Instances       Size\n"
     ]
    },
    {
     "name": "stderr",
     "output_type": "stream",
     "text": [
      "     95/100      2.52G     0.8394     0.5301      1.001         73        320: 100%|██████████| 250/250 [00:58<00:00,  \n",
      "                 Class     Images  Instances      Box(P          R      mAP50  mAP50-95): 100%|██████████| 16/16 [00:03"
     ]
    },
    {
     "name": "stdout",
     "output_type": "stream",
     "text": [
      "                   all        500       2157      0.745      0.561       0.63      0.393\n"
     ]
    },
    {
     "name": "stderr",
     "output_type": "stream",
     "text": [
      "\n"
     ]
    },
    {
     "name": "stdout",
     "output_type": "stream",
     "text": [
      "\n",
      "      Epoch    GPU_mem   box_loss   cls_loss   dfl_loss  Instances       Size\n"
     ]
    },
    {
     "name": "stderr",
     "output_type": "stream",
     "text": [
      "     96/100      2.49G     0.8363     0.5271      0.997         76        320: 100%|██████████| 250/250 [00:56<00:00,  \n",
      "                 Class     Images  Instances      Box(P          R      mAP50  mAP50-95): 100%|██████████| 16/16 [00:03"
     ]
    },
    {
     "name": "stdout",
     "output_type": "stream",
     "text": [
      "                   all        500       2157      0.753      0.557      0.631      0.395\n"
     ]
    },
    {
     "name": "stderr",
     "output_type": "stream",
     "text": [
      "\n"
     ]
    },
    {
     "name": "stdout",
     "output_type": "stream",
     "text": [
      "\n",
      "      Epoch    GPU_mem   box_loss   cls_loss   dfl_loss  Instances       Size\n"
     ]
    },
    {
     "name": "stderr",
     "output_type": "stream",
     "text": [
      "     97/100      2.52G     0.8382     0.5222      0.996         73        320: 100%|██████████| 250/250 [00:56<00:00,  \n",
      "                 Class     Images  Instances      Box(P          R      mAP50  mAP50-95): 100%|██████████| 16/16 [00:03"
     ]
    },
    {
     "name": "stdout",
     "output_type": "stream",
     "text": [
      "                   all        500       2157      0.752      0.559      0.631      0.394\n"
     ]
    },
    {
     "name": "stderr",
     "output_type": "stream",
     "text": [
      "\n"
     ]
    },
    {
     "name": "stdout",
     "output_type": "stream",
     "text": [
      "\n",
      "      Epoch    GPU_mem   box_loss   cls_loss   dfl_loss  Instances       Size\n"
     ]
    },
    {
     "name": "stderr",
     "output_type": "stream",
     "text": [
      "     98/100      2.47G     0.8297      0.523     0.9965         78        320: 100%|██████████| 250/250 [00:56<00:00,  \n",
      "                 Class     Images  Instances      Box(P          R      mAP50  mAP50-95): 100%|██████████| 16/16 [00:03"
     ]
    },
    {
     "name": "stdout",
     "output_type": "stream",
     "text": [
      "                   all        500       2157      0.761      0.554      0.633      0.396\n"
     ]
    },
    {
     "name": "stderr",
     "output_type": "stream",
     "text": [
      "\n"
     ]
    },
    {
     "name": "stdout",
     "output_type": "stream",
     "text": [
      "\n",
      "      Epoch    GPU_mem   box_loss   cls_loss   dfl_loss  Instances       Size\n"
     ]
    },
    {
     "name": "stderr",
     "output_type": "stream",
     "text": [
      "     99/100      2.52G     0.8265      0.512     0.9922         66        320: 100%|██████████| 250/250 [00:56<00:00,  \n",
      "                 Class     Images  Instances      Box(P          R      mAP50  mAP50-95): 100%|██████████| 16/16 [00:03"
     ]
    },
    {
     "name": "stdout",
     "output_type": "stream",
     "text": [
      "                   all        500       2157      0.754       0.56      0.635      0.396\n"
     ]
    },
    {
     "name": "stderr",
     "output_type": "stream",
     "text": [
      "\n"
     ]
    },
    {
     "name": "stdout",
     "output_type": "stream",
     "text": [
      "\n",
      "      Epoch    GPU_mem   box_loss   cls_loss   dfl_loss  Instances       Size\n"
     ]
    },
    {
     "name": "stderr",
     "output_type": "stream",
     "text": [
      "    100/100      2.49G     0.8215     0.5118     0.9873         55        320: 100%|██████████| 250/250 [00:56<00:00,  \n",
      "                 Class     Images  Instances      Box(P          R      mAP50  mAP50-95): 100%|██████████| 16/16 [00:03"
     ]
    },
    {
     "name": "stdout",
     "output_type": "stream",
     "text": [
      "                   all        500       2157      0.751      0.561      0.635      0.396\n"
     ]
    },
    {
     "name": "stderr",
     "output_type": "stream",
     "text": [
      "\n"
     ]
    },
    {
     "name": "stdout",
     "output_type": "stream",
     "text": [
      "\n",
      "100 epochs completed in 1.706 hours.\n",
      "Optimizer stripped from D:\\Programming\\Python\\AI\\Work\\ultralytics\\runs\\detect\\yolov8m_custom\\weights\\last.pt, 52.0MB\n",
      "Optimizer stripped from D:\\Programming\\Python\\AI\\Work\\ultralytics\\runs\\detect\\yolov8m_custom\\weights\\best.pt, 52.0MB\n",
      "\n",
      "Validating D:\\Programming\\Python\\AI\\Work\\ultralytics\\runs\\detect\\yolov8m_custom\\weights\\best.pt...\n",
      "Ultralytics YOLOv8.1.38 🚀 Python-3.11.5 torch-2.2.2+cu118 CUDA:0 (NVIDIA GeForce RTX 3050 Laptop GPU, 4096MiB)\n",
      "Model summary (fused): 218 layers, 25840339 parameters, 0 gradients, 78.7 GFLOPs\n"
     ]
    },
    {
     "name": "stderr",
     "output_type": "stream",
     "text": [
      "                 Class     Images  Instances      Box(P          R      mAP50  mAP50-95): 100%|██████████| 16/16 [00:04\n"
     ]
    },
    {
     "name": "stdout",
     "output_type": "stream",
     "text": [
      "                   all        500       2157      0.761      0.561      0.633        0.4\n",
      "Speed: 0.1ms preprocess, 3.1ms inference, 0.0ms loss, 1.1ms postprocess per image\n",
      "Results saved to \u001b[1mD:\\Programming\\Python\\AI\\Work\\ultralytics\\runs\\detect\\yolov8m_custom\u001b[0m\n"
     ]
    },
    {
     "data": {
      "text/plain": [
       "ultralytics.utils.metrics.DetMetrics object with attributes:\n",
       "\n",
       "ap_class_index: array([0])\n",
       "box: ultralytics.utils.metrics.Metric object\n",
       "confusion_matrix: <ultralytics.utils.metrics.ConfusionMatrix object at 0x0000026218752810>\n",
       "curves: ['Precision-Recall(B)', 'F1-Confidence(B)', 'Precision-Confidence(B)', 'Recall-Confidence(B)']\n",
       "curves_results: [[array([          0,    0.001001,    0.002002,    0.003003,    0.004004,    0.005005,    0.006006,    0.007007,    0.008008,    0.009009,     0.01001,    0.011011,    0.012012,    0.013013,    0.014014,    0.015015,    0.016016,    0.017017,    0.018018,    0.019019,     0.02002,    0.021021,    0.022022,    0.023023,\n",
       "          0.024024,    0.025025,    0.026026,    0.027027,    0.028028,    0.029029,     0.03003,    0.031031,    0.032032,    0.033033,    0.034034,    0.035035,    0.036036,    0.037037,    0.038038,    0.039039,     0.04004,    0.041041,    0.042042,    0.043043,    0.044044,    0.045045,    0.046046,    0.047047,\n",
       "          0.048048,    0.049049,     0.05005,    0.051051,    0.052052,    0.053053,    0.054054,    0.055055,    0.056056,    0.057057,    0.058058,    0.059059,     0.06006,    0.061061,    0.062062,    0.063063,    0.064064,    0.065065,    0.066066,    0.067067,    0.068068,    0.069069,     0.07007,    0.071071,\n",
       "          0.072072,    0.073073,    0.074074,    0.075075,    0.076076,    0.077077,    0.078078,    0.079079,     0.08008,    0.081081,    0.082082,    0.083083,    0.084084,    0.085085,    0.086086,    0.087087,    0.088088,    0.089089,     0.09009,    0.091091,    0.092092,    0.093093,    0.094094,    0.095095,\n",
       "          0.096096,    0.097097,    0.098098,    0.099099,      0.1001,      0.1011,      0.1021,      0.1031,      0.1041,     0.10511,     0.10611,     0.10711,     0.10811,     0.10911,     0.11011,     0.11111,     0.11211,     0.11311,     0.11411,     0.11512,     0.11612,     0.11712,     0.11812,     0.11912,\n",
       "           0.12012,     0.12112,     0.12212,     0.12312,     0.12412,     0.12513,     0.12613,     0.12713,     0.12813,     0.12913,     0.13013,     0.13113,     0.13213,     0.13313,     0.13413,     0.13514,     0.13614,     0.13714,     0.13814,     0.13914,     0.14014,     0.14114,     0.14214,     0.14314,\n",
       "           0.14414,     0.14515,     0.14615,     0.14715,     0.14815,     0.14915,     0.15015,     0.15115,     0.15215,     0.15315,     0.15415,     0.15516,     0.15616,     0.15716,     0.15816,     0.15916,     0.16016,     0.16116,     0.16216,     0.16316,     0.16416,     0.16517,     0.16617,     0.16717,\n",
       "           0.16817,     0.16917,     0.17017,     0.17117,     0.17217,     0.17317,     0.17417,     0.17518,     0.17618,     0.17718,     0.17818,     0.17918,     0.18018,     0.18118,     0.18218,     0.18318,     0.18418,     0.18519,     0.18619,     0.18719,     0.18819,     0.18919,     0.19019,     0.19119,\n",
       "           0.19219,     0.19319,     0.19419,      0.1952,      0.1962,      0.1972,      0.1982,      0.1992,      0.2002,      0.2012,      0.2022,      0.2032,      0.2042,     0.20521,     0.20621,     0.20721,     0.20821,     0.20921,     0.21021,     0.21121,     0.21221,     0.21321,     0.21421,     0.21522,\n",
       "           0.21622,     0.21722,     0.21822,     0.21922,     0.22022,     0.22122,     0.22222,     0.22322,     0.22422,     0.22523,     0.22623,     0.22723,     0.22823,     0.22923,     0.23023,     0.23123,     0.23223,     0.23323,     0.23423,     0.23524,     0.23624,     0.23724,     0.23824,     0.23924,\n",
       "           0.24024,     0.24124,     0.24224,     0.24324,     0.24424,     0.24525,     0.24625,     0.24725,     0.24825,     0.24925,     0.25025,     0.25125,     0.25225,     0.25325,     0.25425,     0.25526,     0.25626,     0.25726,     0.25826,     0.25926,     0.26026,     0.26126,     0.26226,     0.26326,\n",
       "           0.26426,     0.26527,     0.26627,     0.26727,     0.26827,     0.26927,     0.27027,     0.27127,     0.27227,     0.27327,     0.27427,     0.27528,     0.27628,     0.27728,     0.27828,     0.27928,     0.28028,     0.28128,     0.28228,     0.28328,     0.28428,     0.28529,     0.28629,     0.28729,\n",
       "           0.28829,     0.28929,     0.29029,     0.29129,     0.29229,     0.29329,     0.29429,      0.2953,      0.2963,      0.2973,      0.2983,      0.2993,      0.3003,      0.3013,      0.3023,      0.3033,      0.3043,     0.30531,     0.30631,     0.30731,     0.30831,     0.30931,     0.31031,     0.31131,\n",
       "           0.31231,     0.31331,     0.31431,     0.31532,     0.31632,     0.31732,     0.31832,     0.31932,     0.32032,     0.32132,     0.32232,     0.32332,     0.32432,     0.32533,     0.32633,     0.32733,     0.32833,     0.32933,     0.33033,     0.33133,     0.33233,     0.33333,     0.33433,     0.33534,\n",
       "           0.33634,     0.33734,     0.33834,     0.33934,     0.34034,     0.34134,     0.34234,     0.34334,     0.34434,     0.34535,     0.34635,     0.34735,     0.34835,     0.34935,     0.35035,     0.35135,     0.35235,     0.35335,     0.35435,     0.35536,     0.35636,     0.35736,     0.35836,     0.35936,\n",
       "           0.36036,     0.36136,     0.36236,     0.36336,     0.36436,     0.36537,     0.36637,     0.36737,     0.36837,     0.36937,     0.37037,     0.37137,     0.37237,     0.37337,     0.37437,     0.37538,     0.37638,     0.37738,     0.37838,     0.37938,     0.38038,     0.38138,     0.38238,     0.38338,\n",
       "           0.38438,     0.38539,     0.38639,     0.38739,     0.38839,     0.38939,     0.39039,     0.39139,     0.39239,     0.39339,     0.39439,      0.3954,      0.3964,      0.3974,      0.3984,      0.3994,      0.4004,      0.4014,      0.4024,      0.4034,      0.4044,     0.40541,     0.40641,     0.40741,\n",
       "           0.40841,     0.40941,     0.41041,     0.41141,     0.41241,     0.41341,     0.41441,     0.41542,     0.41642,     0.41742,     0.41842,     0.41942,     0.42042,     0.42142,     0.42242,     0.42342,     0.42442,     0.42543,     0.42643,     0.42743,     0.42843,     0.42943,     0.43043,     0.43143,\n",
       "           0.43243,     0.43343,     0.43443,     0.43544,     0.43644,     0.43744,     0.43844,     0.43944,     0.44044,     0.44144,     0.44244,     0.44344,     0.44444,     0.44545,     0.44645,     0.44745,     0.44845,     0.44945,     0.45045,     0.45145,     0.45245,     0.45345,     0.45445,     0.45546,\n",
       "           0.45646,     0.45746,     0.45846,     0.45946,     0.46046,     0.46146,     0.46246,     0.46346,     0.46446,     0.46547,     0.46647,     0.46747,     0.46847,     0.46947,     0.47047,     0.47147,     0.47247,     0.47347,     0.47447,     0.47548,     0.47648,     0.47748,     0.47848,     0.47948,\n",
       "           0.48048,     0.48148,     0.48248,     0.48348,     0.48448,     0.48549,     0.48649,     0.48749,     0.48849,     0.48949,     0.49049,     0.49149,     0.49249,     0.49349,     0.49449,      0.4955,      0.4965,      0.4975,      0.4985,      0.4995,      0.5005,      0.5015,      0.5025,      0.5035,\n",
       "            0.5045,     0.50551,     0.50651,     0.50751,     0.50851,     0.50951,     0.51051,     0.51151,     0.51251,     0.51351,     0.51451,     0.51552,     0.51652,     0.51752,     0.51852,     0.51952,     0.52052,     0.52152,     0.52252,     0.52352,     0.52452,     0.52553,     0.52653,     0.52753,\n",
       "           0.52853,     0.52953,     0.53053,     0.53153,     0.53253,     0.53353,     0.53453,     0.53554,     0.53654,     0.53754,     0.53854,     0.53954,     0.54054,     0.54154,     0.54254,     0.54354,     0.54454,     0.54555,     0.54655,     0.54755,     0.54855,     0.54955,     0.55055,     0.55155,\n",
       "           0.55255,     0.55355,     0.55455,     0.55556,     0.55656,     0.55756,     0.55856,     0.55956,     0.56056,     0.56156,     0.56256,     0.56356,     0.56456,     0.56557,     0.56657,     0.56757,     0.56857,     0.56957,     0.57057,     0.57157,     0.57257,     0.57357,     0.57457,     0.57558,\n",
       "           0.57658,     0.57758,     0.57858,     0.57958,     0.58058,     0.58158,     0.58258,     0.58358,     0.58458,     0.58559,     0.58659,     0.58759,     0.58859,     0.58959,     0.59059,     0.59159,     0.59259,     0.59359,     0.59459,      0.5956,      0.5966,      0.5976,      0.5986,      0.5996,\n",
       "            0.6006,      0.6016,      0.6026,      0.6036,      0.6046,     0.60561,     0.60661,     0.60761,     0.60861,     0.60961,     0.61061,     0.61161,     0.61261,     0.61361,     0.61461,     0.61562,     0.61662,     0.61762,     0.61862,     0.61962,     0.62062,     0.62162,     0.62262,     0.62362,\n",
       "           0.62462,     0.62563,     0.62663,     0.62763,     0.62863,     0.62963,     0.63063,     0.63163,     0.63263,     0.63363,     0.63463,     0.63564,     0.63664,     0.63764,     0.63864,     0.63964,     0.64064,     0.64164,     0.64264,     0.64364,     0.64464,     0.64565,     0.64665,     0.64765,\n",
       "           0.64865,     0.64965,     0.65065,     0.65165,     0.65265,     0.65365,     0.65465,     0.65566,     0.65666,     0.65766,     0.65866,     0.65966,     0.66066,     0.66166,     0.66266,     0.66366,     0.66466,     0.66567,     0.66667,     0.66767,     0.66867,     0.66967,     0.67067,     0.67167,\n",
       "           0.67267,     0.67367,     0.67467,     0.67568,     0.67668,     0.67768,     0.67868,     0.67968,     0.68068,     0.68168,     0.68268,     0.68368,     0.68468,     0.68569,     0.68669,     0.68769,     0.68869,     0.68969,     0.69069,     0.69169,     0.69269,     0.69369,     0.69469,      0.6957,\n",
       "            0.6967,      0.6977,      0.6987,      0.6997,      0.7007,      0.7017,      0.7027,      0.7037,      0.7047,     0.70571,     0.70671,     0.70771,     0.70871,     0.70971,     0.71071,     0.71171,     0.71271,     0.71371,     0.71471,     0.71572,     0.71672,     0.71772,     0.71872,     0.71972,\n",
       "           0.72072,     0.72172,     0.72272,     0.72372,     0.72472,     0.72573,     0.72673,     0.72773,     0.72873,     0.72973,     0.73073,     0.73173,     0.73273,     0.73373,     0.73473,     0.73574,     0.73674,     0.73774,     0.73874,     0.73974,     0.74074,     0.74174,     0.74274,     0.74374,\n",
       "           0.74474,     0.74575,     0.74675,     0.74775,     0.74875,     0.74975,     0.75075,     0.75175,     0.75275,     0.75375,     0.75475,     0.75576,     0.75676,     0.75776,     0.75876,     0.75976,     0.76076,     0.76176,     0.76276,     0.76376,     0.76476,     0.76577,     0.76677,     0.76777,\n",
       "           0.76877,     0.76977,     0.77077,     0.77177,     0.77277,     0.77377,     0.77477,     0.77578,     0.77678,     0.77778,     0.77878,     0.77978,     0.78078,     0.78178,     0.78278,     0.78378,     0.78478,     0.78579,     0.78679,     0.78779,     0.78879,     0.78979,     0.79079,     0.79179,\n",
       "           0.79279,     0.79379,     0.79479,      0.7958,      0.7968,      0.7978,      0.7988,      0.7998,      0.8008,      0.8018,      0.8028,      0.8038,      0.8048,     0.80581,     0.80681,     0.80781,     0.80881,     0.80981,     0.81081,     0.81181,     0.81281,     0.81381,     0.81481,     0.81582,\n",
       "           0.81682,     0.81782,     0.81882,     0.81982,     0.82082,     0.82182,     0.82282,     0.82382,     0.82482,     0.82583,     0.82683,     0.82783,     0.82883,     0.82983,     0.83083,     0.83183,     0.83283,     0.83383,     0.83483,     0.83584,     0.83684,     0.83784,     0.83884,     0.83984,\n",
       "           0.84084,     0.84184,     0.84284,     0.84384,     0.84484,     0.84585,     0.84685,     0.84785,     0.84885,     0.84985,     0.85085,     0.85185,     0.85285,     0.85385,     0.85485,     0.85586,     0.85686,     0.85786,     0.85886,     0.85986,     0.86086,     0.86186,     0.86286,     0.86386,\n",
       "           0.86486,     0.86587,     0.86687,     0.86787,     0.86887,     0.86987,     0.87087,     0.87187,     0.87287,     0.87387,     0.87487,     0.87588,     0.87688,     0.87788,     0.87888,     0.87988,     0.88088,     0.88188,     0.88288,     0.88388,     0.88488,     0.88589,     0.88689,     0.88789,\n",
       "           0.88889,     0.88989,     0.89089,     0.89189,     0.89289,     0.89389,     0.89489,      0.8959,      0.8969,      0.8979,      0.8989,      0.8999,      0.9009,      0.9019,      0.9029,      0.9039,      0.9049,     0.90591,     0.90691,     0.90791,     0.90891,     0.90991,     0.91091,     0.91191,\n",
       "           0.91291,     0.91391,     0.91491,     0.91592,     0.91692,     0.91792,     0.91892,     0.91992,     0.92092,     0.92192,     0.92292,     0.92392,     0.92492,     0.92593,     0.92693,     0.92793,     0.92893,     0.92993,     0.93093,     0.93193,     0.93293,     0.93393,     0.93493,     0.93594,\n",
       "           0.93694,     0.93794,     0.93894,     0.93994,     0.94094,     0.94194,     0.94294,     0.94394,     0.94494,     0.94595,     0.94695,     0.94795,     0.94895,     0.94995,     0.95095,     0.95195,     0.95295,     0.95395,     0.95495,     0.95596,     0.95696,     0.95796,     0.95896,     0.95996,\n",
       "           0.96096,     0.96196,     0.96296,     0.96396,     0.96496,     0.96597,     0.96697,     0.96797,     0.96897,     0.96997,     0.97097,     0.97197,     0.97297,     0.97397,     0.97497,     0.97598,     0.97698,     0.97798,     0.97898,     0.97998,     0.98098,     0.98198,     0.98298,     0.98398,\n",
       "           0.98498,     0.98599,     0.98699,     0.98799,     0.98899,     0.98999,     0.99099,     0.99199,     0.99299,     0.99399,     0.99499,       0.996,       0.997,       0.998,       0.999,           1]), array([[          1,           1,           1,           1,           1,           1,           1,           1,           1,           1,           1,           1,           1,           1,           1,           1,           1,           1,           1,           1,           1,           1,           1,\n",
       "                  1,           1,           1,           1,           1,           1,           1,           1,           1,           1,           1,           1,           1,           1,           1,           1,           1,           1,           1,           1,           1,           1,           1,\n",
       "                  1,           1,           1,           1,           1,           1,           1,           1,           1,           1,           1,           1,           1,           1,           1,           1,           1,           1,           1,           1,           1,           1,           1,\n",
       "                  1,           1,           1,           1,           1,           1,           1,           1,           1,           1,           1,           1,           1,           1,           1,           1,           1,     0.99522,     0.99522,     0.99522,     0.99522,     0.99522,     0.99522,\n",
       "            0.99522,     0.99522,     0.99522,     0.99522,     0.99522,     0.99174,     0.99174,     0.99174,     0.99174,     0.99174,     0.99174,     0.99174,     0.99174,     0.99174,     0.99174,     0.99174,     0.99174,     0.99174,     0.99174,     0.99174,     0.99023,     0.99023,     0.99023,\n",
       "            0.99023,     0.99023,     0.99023,     0.99023,     0.99023,     0.99023,     0.99023,     0.99023,     0.99023,     0.99023,     0.99023,     0.99023,     0.99023,     0.99023,     0.99023,     0.99023,     0.99023,     0.99023,     0.99023,     0.99023,     0.99023,     0.99023,     0.99023,\n",
       "            0.99023,     0.99023,     0.99023,     0.98919,     0.98919,     0.98919,     0.98919,     0.98919,     0.98919,     0.98919,     0.98919,     0.98919,     0.98919,     0.98919,     0.98919,     0.98919,     0.98919,     0.98919,     0.98919,     0.98919,     0.98919,     0.98919,     0.98919,\n",
       "            0.98919,     0.98919,     0.98919,     0.98919,     0.98919,     0.98919,     0.98919,     0.98919,     0.98919,     0.98663,     0.98404,     0.98284,     0.98284,     0.98284,     0.98284,     0.98284,     0.98284,     0.98284,     0.98284,     0.98284,     0.98284,     0.98284,     0.98284,\n",
       "            0.98284,     0.98284,     0.98174,     0.98174,     0.98174,     0.98174,     0.98174,     0.98174,     0.98174,     0.98174,     0.98174,     0.98174,     0.98174,     0.98174,     0.98174,     0.98174,      0.9806,      0.9806,      0.9806,      0.9806,      0.9806,      0.9806,      0.9806,\n",
       "             0.9806,      0.9806,      0.9806,      0.9806,     0.97984,     0.97984,     0.97984,     0.97984,     0.97984,     0.97984,     0.97984,     0.97984,     0.97984,     0.97984,     0.97984,     0.97984,     0.97984,     0.97984,     0.97984,     0.97864,     0.97864,     0.97864,     0.97864,\n",
       "            0.97864,     0.97864,     0.97864,     0.97864,     0.97818,     0.97818,     0.97818,     0.97818,     0.97818,     0.97818,     0.97818,     0.97818,     0.97818,     0.97818,     0.97818,     0.97818,     0.97818,     0.97818,     0.97818,     0.97818,     0.97649,      0.9754,      0.9754,\n",
       "             0.9754,      0.9754,      0.9754,      0.9754,      0.9754,     0.97251,     0.97251,     0.97251,     0.97251,     0.97251,     0.97148,     0.97148,     0.97148,     0.97148,     0.97148,     0.97148,      0.9686,      0.9686,      0.9686,     0.96711,     0.96585,     0.96585,     0.96585,\n",
       "             0.9644,     0.96013,     0.96013,     0.95866,     0.95781,     0.95781,     0.95781,     0.95781,     0.95686,     0.95686,     0.95686,     0.95686,     0.95579,     0.95579,     0.95579,     0.95529,     0.95529,     0.95529,     0.95529,     0.95529,     0.95529,      0.9552,      0.9552,\n",
       "             0.9552,      0.9552,      0.9552,      0.9552,      0.9552,      0.9552,      0.9552,      0.9552,     0.95422,     0.95422,     0.95312,     0.95312,     0.95205,     0.95205,     0.95159,     0.95159,     0.95159,     0.95159,     0.95159,     0.95159,     0.95055,     0.95055,     0.94938,\n",
       "             0.9473,      0.9473,      0.9473,     0.94631,     0.94631,     0.94422,     0.94422,     0.94422,     0.94226,     0.94226,     0.94226,     0.93995,     0.93912,     0.93912,     0.93798,     0.93726,     0.93726,     0.93726,     0.93631,     0.93451,     0.93451,     0.93451,     0.93416,\n",
       "            0.93416,     0.93416,     0.93416,     0.93416,     0.93325,     0.93301,     0.93301,     0.93301,     0.93301,     0.93301,     0.93204,     0.93099,     0.93012,     0.92909,     0.92823,     0.92619,     0.92606,     0.92606,     0.92606,     0.92606,     0.92606,     0.92541,     0.92541,\n",
       "            0.92486,     0.92486,     0.92486,     0.92414,     0.92414,     0.92132,     0.92132,      0.9209,      0.9209,      0.9209,     0.91919,     0.91919,     0.91862,     0.91862,     0.91785,     0.91785,     0.91785,     0.91785,     0.91785,     0.91785,     0.91785,      0.9164,      0.9164,\n",
       "            0.91586,     0.91586,     0.91586,     0.91416,     0.91337,     0.91258,      0.9118,     0.91149,     0.91149,     0.91149,     0.91109,     0.91109,     0.91109,     0.91032,     0.90994,     0.90994,     0.90994,     0.90825,     0.90667,     0.90616,     0.90616,     0.90616,     0.90616,\n",
       "            0.90616,     0.90616,     0.90562,     0.90562,       0.905,       0.905,     0.90268,     0.90198,     0.90138,     0.90138,     0.90029,     0.90029,     0.90029,     0.89893,     0.89893,     0.89768,     0.89768,     0.89559,     0.89559,     0.89559,     0.89524,     0.89524,     0.89459,\n",
       "            0.89161,     0.89161,     0.89149,     0.89149,     0.89149,     0.89116,     0.89116,     0.89054,      0.8893,      0.8893,     0.88868,     0.88707,     0.88707,     0.88707,     0.88707,     0.88566,      0.8853,      0.8853,      0.8853,      0.8853,      0.8853,     0.88462,     0.88335,\n",
       "            0.88287,      0.8822,     0.88018,     0.87873,     0.87587,     0.87467,     0.87381,     0.87381,     0.87381,     0.87177,      0.8705,     0.86979,     0.86979,     0.86979,      0.8678,     0.86762,     0.86762,     0.86745,     0.86745,     0.86683,     0.86644,     0.86606,     0.86606,\n",
       "            0.86364,     0.86304,     0.86278,     0.86278,     0.85878,     0.85784,     0.85784,     0.85668,     0.85245,     0.85245,     0.85132,     0.85088,     0.84909,     0.84865,     0.84834,     0.84658,     0.84615,     0.84531,     0.84531,     0.84472,     0.84472,     0.84419,     0.84247,\n",
       "            0.84037,     0.84037,     0.83753,     0.83397,     0.83233,     0.82697,     0.82599,     0.82519,     0.82519,     0.82519,     0.82509,     0.82509,     0.82461,     0.82439,     0.82331,     0.82177,     0.81884,     0.81884,     0.81746,       0.817,     0.81389,     0.81357,      0.8121,\n",
       "            0.80949,     0.80805,     0.80788,     0.80575,     0.80042,     0.79655,     0.79519,     0.79492,     0.79398,     0.79209,     0.79144,     0.79051,     0.78841,     0.78591,     0.78462,     0.78333,     0.77999,     0.77822,     0.77763,     0.77468,     0.77468,     0.77468,     0.77468,\n",
       "            0.77468,     0.77461,     0.77226,     0.77057,     0.76933,     0.76933,     0.76899,     0.76344,     0.76068,      0.7605,     0.76018,     0.75341,     0.74862,     0.74847,     0.74482,     0.74287,     0.74274,     0.73637,     0.73405,     0.73306,     0.73239,     0.73038,     0.72813,\n",
       "            0.72802,     0.72621,     0.72526,     0.72364,     0.72312,     0.72011,     0.71755,     0.71665,      0.7097,     0.70644,      0.6995,      0.6956,     0.69365,     0.69114,     0.69093,      0.6879,     0.68362,     0.68303,     0.68138,     0.67956,     0.67918,     0.67206,     0.66086,\n",
       "            0.65818,     0.65603,     0.65472,     0.64545,     0.64134,     0.64106,     0.63845,     0.63725,     0.63421,     0.62727,     0.62435,      0.6237,     0.61994,      0.6174,     0.61165,     0.60986,     0.60862,     0.60862,     0.60518,     0.60099,     0.59812,     0.59794,     0.59777,\n",
       "            0.58533,     0.58468,     0.57942,      0.5778,     0.57349,     0.57137,     0.56981,     0.56975,     0.56578,     0.55939,     0.55792,     0.55556,     0.55385,     0.55376,     0.54814,     0.54567,     0.54495,     0.54295,     0.54033,     0.53733,     0.53493,     0.53262,     0.53259,\n",
       "             0.5291,     0.52566,     0.52365,     0.52146,     0.51794,     0.51792,     0.51222,     0.50322,     0.50053,     0.49929,     0.49841,     0.49304,     0.49133,     0.48847,     0.48565,      0.4827,     0.47997,     0.47537,      0.4721,     0.46951,     0.46639,     0.46639,     0.46585,\n",
       "            0.46484,     0.45278,     0.44489,     0.44468,     0.43953,      0.4356,     0.43005,     0.43001,     0.42644,     0.42221,     0.41831,     0.41216,     0.41029,     0.40664,     0.40357,     0.39746,     0.39229,     0.39188,     0.38835,     0.38755,     0.38495,     0.38368,     0.38076,\n",
       "            0.37166,     0.37087,     0.36676,     0.36646,      0.3612,     0.35415,     0.35415,     0.35312,     0.34988,     0.34849,     0.34599,     0.34472,      0.3406,     0.33703,     0.32972,     0.32626,     0.32344,     0.32168,     0.32129,     0.31797,     0.31512,     0.31501,     0.31203,\n",
       "            0.31105,     0.31001,     0.30466,     0.30019,     0.29309,     0.29078,     0.29028,     0.28844,     0.28294,     0.27686,     0.27322,     0.27012,     0.26651,     0.26291,     0.26002,     0.25578,     0.25375,     0.25309,     0.25256,     0.25243,     0.24808,     0.24505,     0.24299,\n",
       "            0.23208,     0.22893,     0.22546,     0.22438,     0.21753,     0.21474,     0.21223,     0.21132,     0.20618,     0.20357,     0.20325,      0.2032,     0.19719,     0.19382,     0.19238,     0.19094,     0.18641,     0.18545,      0.1841,     0.18382,     0.18104,     0.17939,     0.17797,\n",
       "            0.17458,     0.17065,     0.16863,     0.16286,     0.16014,      0.1595,     0.15801,      0.1576,     0.15358,      0.1508,     0.15043,     0.14943,     0.14526,     0.14225,     0.13755,     0.13592,     0.13533,     0.13348,     0.13261,     0.13105,     0.13091,     0.12358,     0.12098,\n",
       "            0.11963,     0.11839,     0.11665,     0.11497,     0.11386,     0.11117,     0.11108,     0.11089,     0.10828,     0.10539,      0.1031,     0.10034,    0.098824,     0.09812,    0.097251,    0.095771,    0.092554,     0.08999,    0.088916,    0.086678,    0.082214,    0.078772,    0.074638,\n",
       "             0.0735,    0.072316,    0.070598,    0.068809,    0.067535,    0.063131,    0.062688,    0.062355,    0.062021,    0.061688,    0.061354,    0.061021,    0.060688,    0.060354,    0.060021,    0.059687,    0.059354,     0.05902,    0.058687,    0.058353,     0.05802,    0.057686,    0.057353,\n",
       "            0.05702,    0.056686,    0.056353,    0.056019,    0.055686,    0.055352,    0.055019,    0.054685,    0.054352,    0.054019,    0.053685,    0.053352,    0.053018,    0.052685,    0.052351,    0.052018,    0.051684,    0.051351,    0.051018,    0.050684,    0.050351,    0.050017,    0.049684,\n",
       "            0.04935,    0.049017,    0.048683,     0.04835,    0.048016,    0.047683,     0.04735,    0.047016,    0.046683,    0.046349,    0.046016,    0.045682,    0.045349,    0.045015,    0.044682,    0.044349,    0.044015,    0.043682,    0.043348,    0.043015,    0.042681,    0.042348,    0.042014,\n",
       "           0.041681,    0.041348,    0.041014,    0.040681,    0.040347,    0.040014,     0.03968,    0.039347,    0.039013,     0.03868,    0.038346,    0.038013,     0.03768,    0.037346,    0.037013,    0.036679,    0.036346,    0.036012,    0.035679,    0.035345,    0.035012,    0.034679,    0.034345,\n",
       "           0.034012,    0.033678,    0.033345,    0.033011,    0.032678,    0.032344,    0.032011,    0.031678,    0.031344,    0.031011,    0.030677,    0.030344,     0.03001,    0.029677,    0.029343,     0.02901,    0.028677,    0.028343,     0.02801,    0.027676,    0.027343,    0.027009,    0.026676,\n",
       "           0.026342,    0.026009,    0.025675,    0.025342,    0.025009,    0.024675,    0.024342,    0.024008,    0.023675,    0.023341,    0.023008,    0.022674,    0.022341,    0.022008,    0.021674,    0.021341,    0.021007,    0.020674,     0.02034,    0.020007,    0.019673,     0.01934,    0.019007,\n",
       "           0.018673,     0.01834,    0.018006,    0.017673,    0.017339,    0.017006,    0.016672,    0.016339,    0.016005,    0.015672,    0.015339,    0.015005,    0.014672,    0.014338,    0.014005,    0.013671,    0.013338,    0.013004,    0.012671,    0.012338,    0.012004,    0.011671,    0.011337,\n",
       "           0.011004,     0.01067,    0.010337,    0.010003,     0.00967,   0.0093365,   0.0090031,   0.0086696,   0.0083362,   0.0080027,   0.0076693,   0.0073359,   0.0070024,    0.006669,   0.0063355,   0.0060021,   0.0056686,   0.0053352,   0.0050017,   0.0046683,   0.0043348,   0.0040014,   0.0036679,\n",
       "          0.0033345,    0.003001,   0.0026676,   0.0023341,   0.0020007,   0.0016672,   0.0013338,   0.0010003,   0.0006669,  0.00033345,           0]]), 'Recall', 'Precision'], [array([          0,    0.001001,    0.002002,    0.003003,    0.004004,    0.005005,    0.006006,    0.007007,    0.008008,    0.009009,     0.01001,    0.011011,    0.012012,    0.013013,    0.014014,    0.015015,    0.016016,    0.017017,    0.018018,    0.019019,     0.02002,    0.021021,    0.022022,    0.023023,\n",
       "          0.024024,    0.025025,    0.026026,    0.027027,    0.028028,    0.029029,     0.03003,    0.031031,    0.032032,    0.033033,    0.034034,    0.035035,    0.036036,    0.037037,    0.038038,    0.039039,     0.04004,    0.041041,    0.042042,    0.043043,    0.044044,    0.045045,    0.046046,    0.047047,\n",
       "          0.048048,    0.049049,     0.05005,    0.051051,    0.052052,    0.053053,    0.054054,    0.055055,    0.056056,    0.057057,    0.058058,    0.059059,     0.06006,    0.061061,    0.062062,    0.063063,    0.064064,    0.065065,    0.066066,    0.067067,    0.068068,    0.069069,     0.07007,    0.071071,\n",
       "          0.072072,    0.073073,    0.074074,    0.075075,    0.076076,    0.077077,    0.078078,    0.079079,     0.08008,    0.081081,    0.082082,    0.083083,    0.084084,    0.085085,    0.086086,    0.087087,    0.088088,    0.089089,     0.09009,    0.091091,    0.092092,    0.093093,    0.094094,    0.095095,\n",
       "          0.096096,    0.097097,    0.098098,    0.099099,      0.1001,      0.1011,      0.1021,      0.1031,      0.1041,     0.10511,     0.10611,     0.10711,     0.10811,     0.10911,     0.11011,     0.11111,     0.11211,     0.11311,     0.11411,     0.11512,     0.11612,     0.11712,     0.11812,     0.11912,\n",
       "           0.12012,     0.12112,     0.12212,     0.12312,     0.12412,     0.12513,     0.12613,     0.12713,     0.12813,     0.12913,     0.13013,     0.13113,     0.13213,     0.13313,     0.13413,     0.13514,     0.13614,     0.13714,     0.13814,     0.13914,     0.14014,     0.14114,     0.14214,     0.14314,\n",
       "           0.14414,     0.14515,     0.14615,     0.14715,     0.14815,     0.14915,     0.15015,     0.15115,     0.15215,     0.15315,     0.15415,     0.15516,     0.15616,     0.15716,     0.15816,     0.15916,     0.16016,     0.16116,     0.16216,     0.16316,     0.16416,     0.16517,     0.16617,     0.16717,\n",
       "           0.16817,     0.16917,     0.17017,     0.17117,     0.17217,     0.17317,     0.17417,     0.17518,     0.17618,     0.17718,     0.17818,     0.17918,     0.18018,     0.18118,     0.18218,     0.18318,     0.18418,     0.18519,     0.18619,     0.18719,     0.18819,     0.18919,     0.19019,     0.19119,\n",
       "           0.19219,     0.19319,     0.19419,      0.1952,      0.1962,      0.1972,      0.1982,      0.1992,      0.2002,      0.2012,      0.2022,      0.2032,      0.2042,     0.20521,     0.20621,     0.20721,     0.20821,     0.20921,     0.21021,     0.21121,     0.21221,     0.21321,     0.21421,     0.21522,\n",
       "           0.21622,     0.21722,     0.21822,     0.21922,     0.22022,     0.22122,     0.22222,     0.22322,     0.22422,     0.22523,     0.22623,     0.22723,     0.22823,     0.22923,     0.23023,     0.23123,     0.23223,     0.23323,     0.23423,     0.23524,     0.23624,     0.23724,     0.23824,     0.23924,\n",
       "           0.24024,     0.24124,     0.24224,     0.24324,     0.24424,     0.24525,     0.24625,     0.24725,     0.24825,     0.24925,     0.25025,     0.25125,     0.25225,     0.25325,     0.25425,     0.25526,     0.25626,     0.25726,     0.25826,     0.25926,     0.26026,     0.26126,     0.26226,     0.26326,\n",
       "           0.26426,     0.26527,     0.26627,     0.26727,     0.26827,     0.26927,     0.27027,     0.27127,     0.27227,     0.27327,     0.27427,     0.27528,     0.27628,     0.27728,     0.27828,     0.27928,     0.28028,     0.28128,     0.28228,     0.28328,     0.28428,     0.28529,     0.28629,     0.28729,\n",
       "           0.28829,     0.28929,     0.29029,     0.29129,     0.29229,     0.29329,     0.29429,      0.2953,      0.2963,      0.2973,      0.2983,      0.2993,      0.3003,      0.3013,      0.3023,      0.3033,      0.3043,     0.30531,     0.30631,     0.30731,     0.30831,     0.30931,     0.31031,     0.31131,\n",
       "           0.31231,     0.31331,     0.31431,     0.31532,     0.31632,     0.31732,     0.31832,     0.31932,     0.32032,     0.32132,     0.32232,     0.32332,     0.32432,     0.32533,     0.32633,     0.32733,     0.32833,     0.32933,     0.33033,     0.33133,     0.33233,     0.33333,     0.33433,     0.33534,\n",
       "           0.33634,     0.33734,     0.33834,     0.33934,     0.34034,     0.34134,     0.34234,     0.34334,     0.34434,     0.34535,     0.34635,     0.34735,     0.34835,     0.34935,     0.35035,     0.35135,     0.35235,     0.35335,     0.35435,     0.35536,     0.35636,     0.35736,     0.35836,     0.35936,\n",
       "           0.36036,     0.36136,     0.36236,     0.36336,     0.36436,     0.36537,     0.36637,     0.36737,     0.36837,     0.36937,     0.37037,     0.37137,     0.37237,     0.37337,     0.37437,     0.37538,     0.37638,     0.37738,     0.37838,     0.37938,     0.38038,     0.38138,     0.38238,     0.38338,\n",
       "           0.38438,     0.38539,     0.38639,     0.38739,     0.38839,     0.38939,     0.39039,     0.39139,     0.39239,     0.39339,     0.39439,      0.3954,      0.3964,      0.3974,      0.3984,      0.3994,      0.4004,      0.4014,      0.4024,      0.4034,      0.4044,     0.40541,     0.40641,     0.40741,\n",
       "           0.40841,     0.40941,     0.41041,     0.41141,     0.41241,     0.41341,     0.41441,     0.41542,     0.41642,     0.41742,     0.41842,     0.41942,     0.42042,     0.42142,     0.42242,     0.42342,     0.42442,     0.42543,     0.42643,     0.42743,     0.42843,     0.42943,     0.43043,     0.43143,\n",
       "           0.43243,     0.43343,     0.43443,     0.43544,     0.43644,     0.43744,     0.43844,     0.43944,     0.44044,     0.44144,     0.44244,     0.44344,     0.44444,     0.44545,     0.44645,     0.44745,     0.44845,     0.44945,     0.45045,     0.45145,     0.45245,     0.45345,     0.45445,     0.45546,\n",
       "           0.45646,     0.45746,     0.45846,     0.45946,     0.46046,     0.46146,     0.46246,     0.46346,     0.46446,     0.46547,     0.46647,     0.46747,     0.46847,     0.46947,     0.47047,     0.47147,     0.47247,     0.47347,     0.47447,     0.47548,     0.47648,     0.47748,     0.47848,     0.47948,\n",
       "           0.48048,     0.48148,     0.48248,     0.48348,     0.48448,     0.48549,     0.48649,     0.48749,     0.48849,     0.48949,     0.49049,     0.49149,     0.49249,     0.49349,     0.49449,      0.4955,      0.4965,      0.4975,      0.4985,      0.4995,      0.5005,      0.5015,      0.5025,      0.5035,\n",
       "            0.5045,     0.50551,     0.50651,     0.50751,     0.50851,     0.50951,     0.51051,     0.51151,     0.51251,     0.51351,     0.51451,     0.51552,     0.51652,     0.51752,     0.51852,     0.51952,     0.52052,     0.52152,     0.52252,     0.52352,     0.52452,     0.52553,     0.52653,     0.52753,\n",
       "           0.52853,     0.52953,     0.53053,     0.53153,     0.53253,     0.53353,     0.53453,     0.53554,     0.53654,     0.53754,     0.53854,     0.53954,     0.54054,     0.54154,     0.54254,     0.54354,     0.54454,     0.54555,     0.54655,     0.54755,     0.54855,     0.54955,     0.55055,     0.55155,\n",
       "           0.55255,     0.55355,     0.55455,     0.55556,     0.55656,     0.55756,     0.55856,     0.55956,     0.56056,     0.56156,     0.56256,     0.56356,     0.56456,     0.56557,     0.56657,     0.56757,     0.56857,     0.56957,     0.57057,     0.57157,     0.57257,     0.57357,     0.57457,     0.57558,\n",
       "           0.57658,     0.57758,     0.57858,     0.57958,     0.58058,     0.58158,     0.58258,     0.58358,     0.58458,     0.58559,     0.58659,     0.58759,     0.58859,     0.58959,     0.59059,     0.59159,     0.59259,     0.59359,     0.59459,      0.5956,      0.5966,      0.5976,      0.5986,      0.5996,\n",
       "            0.6006,      0.6016,      0.6026,      0.6036,      0.6046,     0.60561,     0.60661,     0.60761,     0.60861,     0.60961,     0.61061,     0.61161,     0.61261,     0.61361,     0.61461,     0.61562,     0.61662,     0.61762,     0.61862,     0.61962,     0.62062,     0.62162,     0.62262,     0.62362,\n",
       "           0.62462,     0.62563,     0.62663,     0.62763,     0.62863,     0.62963,     0.63063,     0.63163,     0.63263,     0.63363,     0.63463,     0.63564,     0.63664,     0.63764,     0.63864,     0.63964,     0.64064,     0.64164,     0.64264,     0.64364,     0.64464,     0.64565,     0.64665,     0.64765,\n",
       "           0.64865,     0.64965,     0.65065,     0.65165,     0.65265,     0.65365,     0.65465,     0.65566,     0.65666,     0.65766,     0.65866,     0.65966,     0.66066,     0.66166,     0.66266,     0.66366,     0.66466,     0.66567,     0.66667,     0.66767,     0.66867,     0.66967,     0.67067,     0.67167,\n",
       "           0.67267,     0.67367,     0.67467,     0.67568,     0.67668,     0.67768,     0.67868,     0.67968,     0.68068,     0.68168,     0.68268,     0.68368,     0.68468,     0.68569,     0.68669,     0.68769,     0.68869,     0.68969,     0.69069,     0.69169,     0.69269,     0.69369,     0.69469,      0.6957,\n",
       "            0.6967,      0.6977,      0.6987,      0.6997,      0.7007,      0.7017,      0.7027,      0.7037,      0.7047,     0.70571,     0.70671,     0.70771,     0.70871,     0.70971,     0.71071,     0.71171,     0.71271,     0.71371,     0.71471,     0.71572,     0.71672,     0.71772,     0.71872,     0.71972,\n",
       "           0.72072,     0.72172,     0.72272,     0.72372,     0.72472,     0.72573,     0.72673,     0.72773,     0.72873,     0.72973,     0.73073,     0.73173,     0.73273,     0.73373,     0.73473,     0.73574,     0.73674,     0.73774,     0.73874,     0.73974,     0.74074,     0.74174,     0.74274,     0.74374,\n",
       "           0.74474,     0.74575,     0.74675,     0.74775,     0.74875,     0.74975,     0.75075,     0.75175,     0.75275,     0.75375,     0.75475,     0.75576,     0.75676,     0.75776,     0.75876,     0.75976,     0.76076,     0.76176,     0.76276,     0.76376,     0.76476,     0.76577,     0.76677,     0.76777,\n",
       "           0.76877,     0.76977,     0.77077,     0.77177,     0.77277,     0.77377,     0.77477,     0.77578,     0.77678,     0.77778,     0.77878,     0.77978,     0.78078,     0.78178,     0.78278,     0.78378,     0.78478,     0.78579,     0.78679,     0.78779,     0.78879,     0.78979,     0.79079,     0.79179,\n",
       "           0.79279,     0.79379,     0.79479,      0.7958,      0.7968,      0.7978,      0.7988,      0.7998,      0.8008,      0.8018,      0.8028,      0.8038,      0.8048,     0.80581,     0.80681,     0.80781,     0.80881,     0.80981,     0.81081,     0.81181,     0.81281,     0.81381,     0.81481,     0.81582,\n",
       "           0.81682,     0.81782,     0.81882,     0.81982,     0.82082,     0.82182,     0.82282,     0.82382,     0.82482,     0.82583,     0.82683,     0.82783,     0.82883,     0.82983,     0.83083,     0.83183,     0.83283,     0.83383,     0.83483,     0.83584,     0.83684,     0.83784,     0.83884,     0.83984,\n",
       "           0.84084,     0.84184,     0.84284,     0.84384,     0.84484,     0.84585,     0.84685,     0.84785,     0.84885,     0.84985,     0.85085,     0.85185,     0.85285,     0.85385,     0.85485,     0.85586,     0.85686,     0.85786,     0.85886,     0.85986,     0.86086,     0.86186,     0.86286,     0.86386,\n",
       "           0.86486,     0.86587,     0.86687,     0.86787,     0.86887,     0.86987,     0.87087,     0.87187,     0.87287,     0.87387,     0.87487,     0.87588,     0.87688,     0.87788,     0.87888,     0.87988,     0.88088,     0.88188,     0.88288,     0.88388,     0.88488,     0.88589,     0.88689,     0.88789,\n",
       "           0.88889,     0.88989,     0.89089,     0.89189,     0.89289,     0.89389,     0.89489,      0.8959,      0.8969,      0.8979,      0.8989,      0.8999,      0.9009,      0.9019,      0.9029,      0.9039,      0.9049,     0.90591,     0.90691,     0.90791,     0.90891,     0.90991,     0.91091,     0.91191,\n",
       "           0.91291,     0.91391,     0.91491,     0.91592,     0.91692,     0.91792,     0.91892,     0.91992,     0.92092,     0.92192,     0.92292,     0.92392,     0.92492,     0.92593,     0.92693,     0.92793,     0.92893,     0.92993,     0.93093,     0.93193,     0.93293,     0.93393,     0.93493,     0.93594,\n",
       "           0.93694,     0.93794,     0.93894,     0.93994,     0.94094,     0.94194,     0.94294,     0.94394,     0.94494,     0.94595,     0.94695,     0.94795,     0.94895,     0.94995,     0.95095,     0.95195,     0.95295,     0.95395,     0.95495,     0.95596,     0.95696,     0.95796,     0.95896,     0.95996,\n",
       "           0.96096,     0.96196,     0.96296,     0.96396,     0.96496,     0.96597,     0.96697,     0.96797,     0.96897,     0.96997,     0.97097,     0.97197,     0.97297,     0.97397,     0.97497,     0.97598,     0.97698,     0.97798,     0.97898,     0.97998,     0.98098,     0.98198,     0.98298,     0.98398,\n",
       "           0.98498,     0.98599,     0.98699,     0.98799,     0.98899,     0.98999,     0.99099,     0.99199,     0.99299,     0.99399,     0.99499,       0.996,       0.997,       0.998,       0.999,           1]), array([[    0.11667,     0.11667,     0.15278,     0.17852,     0.19875,     0.21619,     0.23131,     0.24528,     0.25785,     0.26792,     0.27901,     0.28824,     0.29718,     0.30535,     0.31396,     0.32105,     0.32913,     0.33616,     0.34308,     0.35037,     0.35597,     0.36294,     0.36896,\n",
       "             0.3751,      0.3789,      0.3845,     0.38972,     0.39407,     0.39838,     0.40305,     0.40758,     0.41193,     0.41459,     0.41903,     0.42295,     0.42751,     0.43226,     0.43518,     0.43813,     0.44094,     0.44382,     0.44713,     0.45046,     0.45396,     0.45722,     0.46043,\n",
       "             0.4625,     0.46494,     0.46866,     0.47081,     0.47362,     0.47659,      0.4795,     0.48102,     0.48396,     0.48726,     0.49045,     0.49262,     0.49346,     0.49592,     0.49755,     0.49921,      0.5021,     0.50472,     0.50696,     0.50933,     0.51156,     0.51269,     0.51479,\n",
       "            0.51718,     0.51948,     0.52183,     0.52345,     0.52463,     0.52657,      0.5296,     0.53121,     0.53328,     0.53482,     0.53613,     0.53823,     0.53982,      0.5421,     0.54397,     0.54556,     0.54725,     0.54822,      0.5481,     0.54936,       0.551,     0.55328,     0.55412,\n",
       "            0.55612,      0.5571,     0.55805,     0.55919,     0.56004,     0.56116,     0.56247,     0.56289,     0.56545,     0.56616,     0.56654,     0.56782,     0.56813,     0.56994,     0.57113,     0.57251,     0.57321,     0.57593,      0.5762,     0.57669,     0.57765,     0.57831,     0.57841,\n",
       "            0.57907,     0.58072,     0.58138,     0.58292,     0.58366,     0.58432,     0.58559,     0.58606,     0.58681,     0.58768,     0.58814,     0.58897,     0.59003,     0.59148,     0.59134,     0.59116,     0.59132,     0.59241,     0.59254,      0.5922,     0.59308,     0.59429,     0.59594,\n",
       "            0.59658,     0.59729,     0.59762,     0.59769,     0.59887,     0.59967,     0.60021,     0.60125,     0.60256,     0.60311,     0.60403,     0.60489,     0.60599,     0.60762,      0.6084,     0.60865,     0.60827,     0.60858,     0.60934,     0.61074,       0.611,     0.61105,     0.61153,\n",
       "            0.61204,     0.61167,     0.61227,     0.61301,      0.6137,     0.61396,     0.61451,     0.61502,     0.61495,     0.61602,     0.61636,     0.61641,     0.61676,     0.61742,     0.61828,     0.61954,      0.6201,     0.61977,     0.62037,     0.62125,     0.62122,     0.62146,     0.62153,\n",
       "            0.62141,     0.62217,     0.62318,     0.62447,     0.62577,     0.62675,     0.62668,      0.6268,     0.62653,      0.6269,     0.62712,     0.62719,     0.62774,     0.62766,     0.62831,     0.62872,     0.62912,      0.6303,     0.63068,     0.63168,     0.63191,     0.63263,     0.63301,\n",
       "            0.63474,     0.63404,      0.6344,     0.63463,     0.63416,     0.63389,     0.63407,     0.63422,     0.63461,     0.63516,     0.63555,     0.63592,     0.63631,     0.63568,     0.63541,     0.63611,     0.63617,     0.63607,     0.63643,     0.63747,     0.63737,     0.63751,     0.63813,\n",
       "            0.63867,     0.63906,     0.63911,     0.63996,     0.63986,     0.64049,     0.64062,     0.64136,     0.64175,     0.64228,     0.64271,     0.64201,     0.64258,      0.6428,     0.64284,     0.64331,     0.64342,      0.6433,     0.64265,     0.64266,     0.64271,     0.64275,     0.64298,\n",
       "            0.64245,     0.64263,     0.64249,     0.64287,     0.64319,     0.64256,     0.64203,     0.64214,     0.64197,     0.64261,     0.64217,     0.64264,     0.64294,     0.64334,     0.64357,       0.644,      0.6438,     0.64365,     0.64369,     0.64374,     0.64361,     0.64394,     0.64368,\n",
       "            0.64382,     0.64435,     0.64474,     0.64462,     0.64472,     0.64519,     0.64576,     0.64643,     0.64582,     0.64546,     0.64566,     0.64564,     0.64572,     0.64647,     0.64681,     0.64705,     0.64685,     0.64695,      0.6458,     0.64556,     0.64564,     0.64579,     0.64561,\n",
       "            0.64619,     0.64576,     0.64454,     0.64433,     0.64243,     0.64222,     0.64215,     0.64253,     0.64273,     0.64287,     0.64266,     0.64264,     0.64209,     0.64143,     0.64177,     0.64188,     0.64204,     0.64182,      0.6416,     0.64138,     0.64198,     0.64218,     0.64252,\n",
       "            0.64233,      0.6423,     0.64215,     0.64209,     0.64258,     0.64209,     0.64185,     0.64226,     0.64188,     0.64194,     0.64118,     0.64102,     0.64091,     0.64062,     0.64045,      0.6402,     0.63994,     0.63938,     0.63973,     0.64005,     0.64016,     0.64044,     0.64031,\n",
       "            0.64009,     0.64003,     0.64036,     0.64046,     0.64062,     0.64102,     0.64065,     0.64133,     0.64122,     0.64083,     0.64061,      0.6401,     0.64046,     0.64048,      0.6403,     0.64065,     0.64051,     0.64037,     0.63997,     0.64018,      0.6398,     0.63978,     0.63891,\n",
       "            0.63905,     0.63977,     0.63885,     0.63865,     0.63883,     0.63788,     0.63809,     0.63822,     0.63832,     0.63797,     0.63787,     0.63791,     0.63788,     0.63775,     0.63736,     0.63702,     0.63682,     0.63668,     0.63661,     0.63524,     0.63502,     0.63349,     0.63275,\n",
       "            0.63271,     0.63234,     0.63248,     0.63225,     0.63216,     0.63237,     0.63217,     0.63251,     0.63288,     0.63309,     0.63281,      0.6322,     0.63246,     0.63283,      0.6332,     0.63278,     0.63309,     0.63278,     0.63288,     0.63252,     0.63238,     0.63225,     0.63182,\n",
       "            0.63189,     0.63174,      0.6316,     0.63143,      0.6318,     0.63156,     0.63054,     0.62972,     0.62982,      0.6291,     0.62895,     0.62855,     0.62823,     0.62835,     0.62815,     0.62768,      0.6276,     0.62762,     0.62739,     0.62658,     0.62638,     0.62629,     0.62519,\n",
       "            0.62538,     0.62493,     0.62444,     0.62454,     0.62384,     0.62309,     0.62328,     0.62347,     0.62346,     0.62323,     0.62218,     0.62233,     0.62189,     0.62263,     0.62198,     0.62078,     0.62092,     0.62057,     0.61975,     0.61958,     0.61987,     0.61964,     0.61932,\n",
       "            0.61911,     0.61869,     0.61742,     0.61726,     0.61642,     0.61555,     0.61451,     0.61367,     0.61343,     0.61344,     0.61333,     0.61312,     0.61311,     0.61226,       0.611,     0.61111,     0.61088,     0.61008,     0.61002,     0.60977,      0.6093,     0.60908,     0.60801,\n",
       "            0.60797,     0.60775,     0.60759,     0.60693,     0.60701,     0.60689,     0.60684,     0.60661,     0.60676,     0.60682,     0.60689,     0.60677,     0.60615,     0.60586,     0.60536,     0.60492,     0.60425,     0.60381,      0.6037,     0.60389,     0.60365,     0.60176,     0.60132,\n",
       "            0.60045,     0.59887,     0.59865,     0.59872,      0.5982,     0.59824,     0.59843,      0.5981,     0.59766,     0.59722,     0.59591,     0.59504,     0.59537,     0.59556,     0.59487,     0.59443,     0.59398,     0.59356,     0.59333,     0.59317,     0.59344,     0.59299,     0.59273,\n",
       "            0.59028,     0.58984,     0.58939,     0.58894,     0.58812,      0.5879,     0.58698,     0.58675,     0.58671,     0.58649,     0.58678,     0.58687,     0.58624,     0.58597,     0.58552,     0.58506,     0.58417,      0.5839,     0.58212,     0.58211,     0.58175,     0.58147,     0.58124,\n",
       "            0.58053,     0.58059,     0.58066,     0.57938,     0.57923,     0.57815,      0.5768,      0.5762,     0.57639,     0.57623,     0.57518,     0.57495,     0.57431,     0.57385,     0.57339,     0.57336,     0.57328,     0.57209,     0.57211,     0.57197,     0.57174,     0.57106,     0.57082,\n",
       "            0.57059,     0.57036,     0.56964,     0.56917,     0.56825,     0.56802,      0.5673,     0.56634,     0.56618,     0.56602,     0.56567,     0.56538,     0.56444,     0.56411,     0.56395,     0.56379,      0.5634,      0.5631,     0.56263,     0.56272,     0.56159,      0.5608,     0.56041,\n",
       "            0.56024,     0.56011,     0.55963,     0.55951,     0.55811,     0.55795,      0.5578,     0.55712,     0.55688,      0.5541,     0.55374,      0.5538,     0.55386,      0.5533,     0.55308,     0.55284,      0.5526,     0.55236,     0.55125,     0.55025,     0.54966,     0.54941,     0.54869,\n",
       "            0.54824,     0.54743,     0.54696,     0.54664,     0.54622,     0.54563,     0.54572,     0.54481,     0.54457,     0.54414,     0.54366,     0.54293,     0.54244,     0.54196,     0.54061,     0.54036,     0.53968,     0.53954,      0.5394,     0.53927,     0.53866,     0.53846,     0.53826,\n",
       "            0.53733,     0.53661,     0.53612,     0.53587,     0.53572,     0.53558,     0.53522,     0.53473,     0.53375,     0.53309,     0.53261,      0.5322,     0.53122,      0.5308,     0.53095,      0.5311,     0.53085,     0.52998,     0.52895,     0.52879,     0.52862,     0.52841,     0.52734,\n",
       "            0.52665,     0.52586,     0.52438,     0.52331,     0.52281,     0.52132,     0.52065,     0.52007,     0.51978,     0.51953,     0.51865,     0.51831,     0.51731,      0.5159,     0.51542,     0.51551,      0.5155,     0.51496,     0.51412,     0.51261,     0.50896,     0.50799,     0.50651,\n",
       "            0.50586,     0.50535,     0.50483,     0.50367,     0.50353,     0.50338,     0.50323,     0.50287,     0.50255,     0.50111,     0.49966,     0.49939,     0.49815,     0.49646,     0.49542,      0.4949,     0.49291,     0.49193,      0.4919,     0.49001,     0.48854,     0.48799,     0.48677,\n",
       "            0.48585,     0.48505,     0.48462,     0.48351,     0.48213,     0.48186,     0.48053,     0.48043,     0.47762,     0.47773,     0.47709,     0.47682,     0.47558,     0.47401,     0.47365,     0.47169,     0.47132,     0.47096,     0.47101,      0.4689,     0.46816,     0.46685,     0.46658,\n",
       "            0.46407,     0.46386,     0.46349,      0.4615,     0.45788,     0.45751,     0.45714,     0.45677,      0.4553,     0.45493,     0.45401,     0.45322,     0.45254,     0.45018,     0.44719,     0.44681,     0.44573,      0.4457,     0.44578,     0.44529,     0.44422,     0.44361,      0.4434,\n",
       "            0.44321,     0.44149,     0.44065,     0.43756,     0.43374,     0.43243,     0.43204,     0.42984,     0.42948,     0.42909,     0.42716,     0.42543,     0.42528,     0.42444,     0.42299,      0.4219,     0.42151,      0.4207,     0.41897,     0.41778,     0.41709,     0.41689,     0.41669,\n",
       "            0.41595,     0.41511,     0.41323,     0.41188,     0.41135,     0.41057,     0.40822,     0.40711,      0.4057,     0.40497,      0.4032,     0.40158,     0.39971,     0.39844,     0.39581,     0.39549,     0.39524,     0.39373,     0.39212,     0.38853,     0.38788,       0.387,     0.38591,\n",
       "            0.38539,     0.38308,     0.38267,     0.38108,     0.38029,     0.37755,     0.37713,     0.37671,     0.37552,     0.37385,     0.37311,      0.3715,     0.37036,     0.36994,     0.36809,     0.36204,     0.36138,     0.35762,     0.35635,     0.35358,     0.35003,     0.34822,     0.34761,\n",
       "            0.34718,     0.34483,     0.34052,     0.33845,     0.33542,     0.33404,     0.33137,     0.33051,     0.32764,     0.32411,     0.32367,     0.32106,     0.31842,     0.31642,     0.31382,     0.31261,     0.30988,     0.30799,     0.30754,     0.30514,     0.30178,     0.29908,     0.29637,\n",
       "            0.29432,     0.29368,     0.29224,     0.29157,     0.28965,     0.28775,     0.28564,     0.28494,     0.28356,     0.27874,     0.27703,     0.27495,     0.27217,     0.27103,     0.26892,     0.26557,     0.26509,     0.25975,     0.25832,     0.25547,      0.2512,     0.24691,     0.24674,\n",
       "            0.24328,     0.24112,     0.23787,     0.23569,     0.23206,     0.23096,     0.22877,     0.22799,     0.22504,     0.22142,     0.21994,     0.21834,     0.21462,     0.21362,     0.21085,     0.20877,     0.20727,      0.2033,     0.20102,     0.19956,     0.19501,     0.19195,     0.18812,\n",
       "            0.18579,      0.1827,     0.17729,     0.17425,     0.17111,      0.1688,     0.16403,     0.16086,     0.15708,     0.15614,     0.15428,     0.14973,     0.14572,      0.1395,     0.13683,     0.13059,     0.12704,     0.11883,     0.11624,     0.11086,     0.10964,     0.10792,     0.10291,\n",
       "            0.10038,    0.097803,    0.092715,    0.090985,    0.088405,    0.085519,    0.078956,    0.074626,    0.069413,     0.06764,    0.062389,    0.059731,    0.052681,    0.048232,    0.045535,     0.04283,    0.039605,    0.036505,    0.034648,     0.02924,    0.027865,    0.025542,    0.024206,\n",
       "           0.021465,    0.019059,    0.017783,    0.016849,    0.015001,    0.012488,    0.010609,   0.0087262,   0.0081633,   0.0079748,   0.0077862,   0.0075976,   0.0074089,    0.006965,    0.006493,   0.0055718,   0.0054711,   0.0053923,   0.0053135,   0.0052348,    0.005156,   0.0050772,   0.0049984,\n",
       "          0.0049196,   0.0048407,   0.0047619,   0.0046831,   0.0043722,   0.0036799,   0.0036041,   0.0035284,   0.0034526,   0.0033768,    0.003301,   0.0032252,   0.0031495,   0.0030737,   0.0029979,    0.002922,   0.0028462,   0.0027655,   0.0026391,   0.0025127,   0.0023863,   0.0022599,   0.0021334,\n",
       "           0.002007,   0.0018805,           0,           0,           0,           0,           0,           0,           0,           0,           0]]), 'Confidence', 'F1'], [array([          0,    0.001001,    0.002002,    0.003003,    0.004004,    0.005005,    0.006006,    0.007007,    0.008008,    0.009009,     0.01001,    0.011011,    0.012012,    0.013013,    0.014014,    0.015015,    0.016016,    0.017017,    0.018018,    0.019019,     0.02002,    0.021021,    0.022022,    0.023023,\n",
       "          0.024024,    0.025025,    0.026026,    0.027027,    0.028028,    0.029029,     0.03003,    0.031031,    0.032032,    0.033033,    0.034034,    0.035035,    0.036036,    0.037037,    0.038038,    0.039039,     0.04004,    0.041041,    0.042042,    0.043043,    0.044044,    0.045045,    0.046046,    0.047047,\n",
       "          0.048048,    0.049049,     0.05005,    0.051051,    0.052052,    0.053053,    0.054054,    0.055055,    0.056056,    0.057057,    0.058058,    0.059059,     0.06006,    0.061061,    0.062062,    0.063063,    0.064064,    0.065065,    0.066066,    0.067067,    0.068068,    0.069069,     0.07007,    0.071071,\n",
       "          0.072072,    0.073073,    0.074074,    0.075075,    0.076076,    0.077077,    0.078078,    0.079079,     0.08008,    0.081081,    0.082082,    0.083083,    0.084084,    0.085085,    0.086086,    0.087087,    0.088088,    0.089089,     0.09009,    0.091091,    0.092092,    0.093093,    0.094094,    0.095095,\n",
       "          0.096096,    0.097097,    0.098098,    0.099099,      0.1001,      0.1011,      0.1021,      0.1031,      0.1041,     0.10511,     0.10611,     0.10711,     0.10811,     0.10911,     0.11011,     0.11111,     0.11211,     0.11311,     0.11411,     0.11512,     0.11612,     0.11712,     0.11812,     0.11912,\n",
       "           0.12012,     0.12112,     0.12212,     0.12312,     0.12412,     0.12513,     0.12613,     0.12713,     0.12813,     0.12913,     0.13013,     0.13113,     0.13213,     0.13313,     0.13413,     0.13514,     0.13614,     0.13714,     0.13814,     0.13914,     0.14014,     0.14114,     0.14214,     0.14314,\n",
       "           0.14414,     0.14515,     0.14615,     0.14715,     0.14815,     0.14915,     0.15015,     0.15115,     0.15215,     0.15315,     0.15415,     0.15516,     0.15616,     0.15716,     0.15816,     0.15916,     0.16016,     0.16116,     0.16216,     0.16316,     0.16416,     0.16517,     0.16617,     0.16717,\n",
       "           0.16817,     0.16917,     0.17017,     0.17117,     0.17217,     0.17317,     0.17417,     0.17518,     0.17618,     0.17718,     0.17818,     0.17918,     0.18018,     0.18118,     0.18218,     0.18318,     0.18418,     0.18519,     0.18619,     0.18719,     0.18819,     0.18919,     0.19019,     0.19119,\n",
       "           0.19219,     0.19319,     0.19419,      0.1952,      0.1962,      0.1972,      0.1982,      0.1992,      0.2002,      0.2012,      0.2022,      0.2032,      0.2042,     0.20521,     0.20621,     0.20721,     0.20821,     0.20921,     0.21021,     0.21121,     0.21221,     0.21321,     0.21421,     0.21522,\n",
       "           0.21622,     0.21722,     0.21822,     0.21922,     0.22022,     0.22122,     0.22222,     0.22322,     0.22422,     0.22523,     0.22623,     0.22723,     0.22823,     0.22923,     0.23023,     0.23123,     0.23223,     0.23323,     0.23423,     0.23524,     0.23624,     0.23724,     0.23824,     0.23924,\n",
       "           0.24024,     0.24124,     0.24224,     0.24324,     0.24424,     0.24525,     0.24625,     0.24725,     0.24825,     0.24925,     0.25025,     0.25125,     0.25225,     0.25325,     0.25425,     0.25526,     0.25626,     0.25726,     0.25826,     0.25926,     0.26026,     0.26126,     0.26226,     0.26326,\n",
       "           0.26426,     0.26527,     0.26627,     0.26727,     0.26827,     0.26927,     0.27027,     0.27127,     0.27227,     0.27327,     0.27427,     0.27528,     0.27628,     0.27728,     0.27828,     0.27928,     0.28028,     0.28128,     0.28228,     0.28328,     0.28428,     0.28529,     0.28629,     0.28729,\n",
       "           0.28829,     0.28929,     0.29029,     0.29129,     0.29229,     0.29329,     0.29429,      0.2953,      0.2963,      0.2973,      0.2983,      0.2993,      0.3003,      0.3013,      0.3023,      0.3033,      0.3043,     0.30531,     0.30631,     0.30731,     0.30831,     0.30931,     0.31031,     0.31131,\n",
       "           0.31231,     0.31331,     0.31431,     0.31532,     0.31632,     0.31732,     0.31832,     0.31932,     0.32032,     0.32132,     0.32232,     0.32332,     0.32432,     0.32533,     0.32633,     0.32733,     0.32833,     0.32933,     0.33033,     0.33133,     0.33233,     0.33333,     0.33433,     0.33534,\n",
       "           0.33634,     0.33734,     0.33834,     0.33934,     0.34034,     0.34134,     0.34234,     0.34334,     0.34434,     0.34535,     0.34635,     0.34735,     0.34835,     0.34935,     0.35035,     0.35135,     0.35235,     0.35335,     0.35435,     0.35536,     0.35636,     0.35736,     0.35836,     0.35936,\n",
       "           0.36036,     0.36136,     0.36236,     0.36336,     0.36436,     0.36537,     0.36637,     0.36737,     0.36837,     0.36937,     0.37037,     0.37137,     0.37237,     0.37337,     0.37437,     0.37538,     0.37638,     0.37738,     0.37838,     0.37938,     0.38038,     0.38138,     0.38238,     0.38338,\n",
       "           0.38438,     0.38539,     0.38639,     0.38739,     0.38839,     0.38939,     0.39039,     0.39139,     0.39239,     0.39339,     0.39439,      0.3954,      0.3964,      0.3974,      0.3984,      0.3994,      0.4004,      0.4014,      0.4024,      0.4034,      0.4044,     0.40541,     0.40641,     0.40741,\n",
       "           0.40841,     0.40941,     0.41041,     0.41141,     0.41241,     0.41341,     0.41441,     0.41542,     0.41642,     0.41742,     0.41842,     0.41942,     0.42042,     0.42142,     0.42242,     0.42342,     0.42442,     0.42543,     0.42643,     0.42743,     0.42843,     0.42943,     0.43043,     0.43143,\n",
       "           0.43243,     0.43343,     0.43443,     0.43544,     0.43644,     0.43744,     0.43844,     0.43944,     0.44044,     0.44144,     0.44244,     0.44344,     0.44444,     0.44545,     0.44645,     0.44745,     0.44845,     0.44945,     0.45045,     0.45145,     0.45245,     0.45345,     0.45445,     0.45546,\n",
       "           0.45646,     0.45746,     0.45846,     0.45946,     0.46046,     0.46146,     0.46246,     0.46346,     0.46446,     0.46547,     0.46647,     0.46747,     0.46847,     0.46947,     0.47047,     0.47147,     0.47247,     0.47347,     0.47447,     0.47548,     0.47648,     0.47748,     0.47848,     0.47948,\n",
       "           0.48048,     0.48148,     0.48248,     0.48348,     0.48448,     0.48549,     0.48649,     0.48749,     0.48849,     0.48949,     0.49049,     0.49149,     0.49249,     0.49349,     0.49449,      0.4955,      0.4965,      0.4975,      0.4985,      0.4995,      0.5005,      0.5015,      0.5025,      0.5035,\n",
       "            0.5045,     0.50551,     0.50651,     0.50751,     0.50851,     0.50951,     0.51051,     0.51151,     0.51251,     0.51351,     0.51451,     0.51552,     0.51652,     0.51752,     0.51852,     0.51952,     0.52052,     0.52152,     0.52252,     0.52352,     0.52452,     0.52553,     0.52653,     0.52753,\n",
       "           0.52853,     0.52953,     0.53053,     0.53153,     0.53253,     0.53353,     0.53453,     0.53554,     0.53654,     0.53754,     0.53854,     0.53954,     0.54054,     0.54154,     0.54254,     0.54354,     0.54454,     0.54555,     0.54655,     0.54755,     0.54855,     0.54955,     0.55055,     0.55155,\n",
       "           0.55255,     0.55355,     0.55455,     0.55556,     0.55656,     0.55756,     0.55856,     0.55956,     0.56056,     0.56156,     0.56256,     0.56356,     0.56456,     0.56557,     0.56657,     0.56757,     0.56857,     0.56957,     0.57057,     0.57157,     0.57257,     0.57357,     0.57457,     0.57558,\n",
       "           0.57658,     0.57758,     0.57858,     0.57958,     0.58058,     0.58158,     0.58258,     0.58358,     0.58458,     0.58559,     0.58659,     0.58759,     0.58859,     0.58959,     0.59059,     0.59159,     0.59259,     0.59359,     0.59459,      0.5956,      0.5966,      0.5976,      0.5986,      0.5996,\n",
       "            0.6006,      0.6016,      0.6026,      0.6036,      0.6046,     0.60561,     0.60661,     0.60761,     0.60861,     0.60961,     0.61061,     0.61161,     0.61261,     0.61361,     0.61461,     0.61562,     0.61662,     0.61762,     0.61862,     0.61962,     0.62062,     0.62162,     0.62262,     0.62362,\n",
       "           0.62462,     0.62563,     0.62663,     0.62763,     0.62863,     0.62963,     0.63063,     0.63163,     0.63263,     0.63363,     0.63463,     0.63564,     0.63664,     0.63764,     0.63864,     0.63964,     0.64064,     0.64164,     0.64264,     0.64364,     0.64464,     0.64565,     0.64665,     0.64765,\n",
       "           0.64865,     0.64965,     0.65065,     0.65165,     0.65265,     0.65365,     0.65465,     0.65566,     0.65666,     0.65766,     0.65866,     0.65966,     0.66066,     0.66166,     0.66266,     0.66366,     0.66466,     0.66567,     0.66667,     0.66767,     0.66867,     0.66967,     0.67067,     0.67167,\n",
       "           0.67267,     0.67367,     0.67467,     0.67568,     0.67668,     0.67768,     0.67868,     0.67968,     0.68068,     0.68168,     0.68268,     0.68368,     0.68468,     0.68569,     0.68669,     0.68769,     0.68869,     0.68969,     0.69069,     0.69169,     0.69269,     0.69369,     0.69469,      0.6957,\n",
       "            0.6967,      0.6977,      0.6987,      0.6997,      0.7007,      0.7017,      0.7027,      0.7037,      0.7047,     0.70571,     0.70671,     0.70771,     0.70871,     0.70971,     0.71071,     0.71171,     0.71271,     0.71371,     0.71471,     0.71572,     0.71672,     0.71772,     0.71872,     0.71972,\n",
       "           0.72072,     0.72172,     0.72272,     0.72372,     0.72472,     0.72573,     0.72673,     0.72773,     0.72873,     0.72973,     0.73073,     0.73173,     0.73273,     0.73373,     0.73473,     0.73574,     0.73674,     0.73774,     0.73874,     0.73974,     0.74074,     0.74174,     0.74274,     0.74374,\n",
       "           0.74474,     0.74575,     0.74675,     0.74775,     0.74875,     0.74975,     0.75075,     0.75175,     0.75275,     0.75375,     0.75475,     0.75576,     0.75676,     0.75776,     0.75876,     0.75976,     0.76076,     0.76176,     0.76276,     0.76376,     0.76476,     0.76577,     0.76677,     0.76777,\n",
       "           0.76877,     0.76977,     0.77077,     0.77177,     0.77277,     0.77377,     0.77477,     0.77578,     0.77678,     0.77778,     0.77878,     0.77978,     0.78078,     0.78178,     0.78278,     0.78378,     0.78478,     0.78579,     0.78679,     0.78779,     0.78879,     0.78979,     0.79079,     0.79179,\n",
       "           0.79279,     0.79379,     0.79479,      0.7958,      0.7968,      0.7978,      0.7988,      0.7998,      0.8008,      0.8018,      0.8028,      0.8038,      0.8048,     0.80581,     0.80681,     0.80781,     0.80881,     0.80981,     0.81081,     0.81181,     0.81281,     0.81381,     0.81481,     0.81582,\n",
       "           0.81682,     0.81782,     0.81882,     0.81982,     0.82082,     0.82182,     0.82282,     0.82382,     0.82482,     0.82583,     0.82683,     0.82783,     0.82883,     0.82983,     0.83083,     0.83183,     0.83283,     0.83383,     0.83483,     0.83584,     0.83684,     0.83784,     0.83884,     0.83984,\n",
       "           0.84084,     0.84184,     0.84284,     0.84384,     0.84484,     0.84585,     0.84685,     0.84785,     0.84885,     0.84985,     0.85085,     0.85185,     0.85285,     0.85385,     0.85485,     0.85586,     0.85686,     0.85786,     0.85886,     0.85986,     0.86086,     0.86186,     0.86286,     0.86386,\n",
       "           0.86486,     0.86587,     0.86687,     0.86787,     0.86887,     0.86987,     0.87087,     0.87187,     0.87287,     0.87387,     0.87487,     0.87588,     0.87688,     0.87788,     0.87888,     0.87988,     0.88088,     0.88188,     0.88288,     0.88388,     0.88488,     0.88589,     0.88689,     0.88789,\n",
       "           0.88889,     0.88989,     0.89089,     0.89189,     0.89289,     0.89389,     0.89489,      0.8959,      0.8969,      0.8979,      0.8989,      0.8999,      0.9009,      0.9019,      0.9029,      0.9039,      0.9049,     0.90591,     0.90691,     0.90791,     0.90891,     0.90991,     0.91091,     0.91191,\n",
       "           0.91291,     0.91391,     0.91491,     0.91592,     0.91692,     0.91792,     0.91892,     0.91992,     0.92092,     0.92192,     0.92292,     0.92392,     0.92492,     0.92593,     0.92693,     0.92793,     0.92893,     0.92993,     0.93093,     0.93193,     0.93293,     0.93393,     0.93493,     0.93594,\n",
       "           0.93694,     0.93794,     0.93894,     0.93994,     0.94094,     0.94194,     0.94294,     0.94394,     0.94494,     0.94595,     0.94695,     0.94795,     0.94895,     0.94995,     0.95095,     0.95195,     0.95295,     0.95395,     0.95495,     0.95596,     0.95696,     0.95796,     0.95896,     0.95996,\n",
       "           0.96096,     0.96196,     0.96296,     0.96396,     0.96496,     0.96597,     0.96697,     0.96797,     0.96897,     0.96997,     0.97097,     0.97197,     0.97297,     0.97397,     0.97497,     0.97598,     0.97698,     0.97798,     0.97898,     0.97998,     0.98098,     0.98198,     0.98298,     0.98398,\n",
       "           0.98498,     0.98599,     0.98699,     0.98799,     0.98899,     0.98999,     0.99099,     0.99199,     0.99299,     0.99399,     0.99499,       0.996,       0.997,       0.998,       0.999,           1]), array([[   0.062855,    0.062855,    0.084431,     0.10057,     0.11373,     0.12547,     0.13595,     0.14582,     0.15494,     0.16248,     0.17085,     0.17793,     0.18507,      0.1916,     0.19863,     0.20461,     0.21129,      0.2174,     0.22331,     0.22975,     0.23474,     0.24084,     0.24637,\n",
       "            0.25199,     0.25605,     0.26131,     0.26635,     0.27062,      0.2749,     0.27951,     0.28403,     0.28835,     0.29134,     0.29598,     0.30006,     0.30485,     0.30979,     0.31333,     0.31668,     0.31999,     0.32352,     0.32735,     0.33103,     0.33504,     0.33871,     0.34246,\n",
       "            0.34498,     0.34805,     0.35271,     0.35588,     0.35922,     0.36277,     0.36642,     0.36871,     0.37258,     0.37651,     0.38061,     0.38324,     0.38483,     0.38843,     0.39058,     0.39325,       0.397,     0.40061,     0.40344,     0.40661,     0.40979,     0.41193,     0.41499,\n",
       "            0.41811,     0.42148,     0.42476,     0.42747,      0.4298,     0.43259,     0.43691,     0.43909,     0.44233,     0.44468,     0.44709,     0.45023,     0.45267,     0.45589,     0.45854,     0.46081,     0.46322,     0.46529,     0.46613,     0.46853,     0.47116,     0.47521,     0.47694,\n",
       "            0.47994,     0.48211,     0.48404,       0.486,     0.48754,      0.4895,     0.49202,     0.49319,     0.49713,     0.49904,     0.50044,     0.50272,     0.50375,     0.50661,     0.50877,     0.51097,     0.51237,     0.51674,     0.51834,     0.51944,      0.5216,     0.52291,     0.52376,\n",
       "            0.52484,     0.52818,     0.52989,     0.53245,     0.53483,     0.53673,     0.53953,     0.54099,     0.54294,     0.54444,     0.54658,     0.54871,     0.55056,     0.55308,     0.55319,     0.55346,     0.55456,     0.55721,     0.55773,     0.55793,     0.55985,     0.56201,     0.56533,\n",
       "            0.56687,      0.5689,     0.57065,     0.57184,      0.5745,     0.57633,     0.57816,      0.5805,     0.58335,     0.58524,     0.58776,     0.58938,     0.59148,     0.59501,     0.59651,     0.59791,     0.59808,     0.59946,     0.60137,     0.60411,     0.60502,     0.60603,     0.60699,\n",
       "            0.60845,     0.60909,      0.6112,     0.61406,     0.61544,     0.61598,     0.61708,     0.61859,     0.61966,     0.62205,     0.62371,     0.62479,     0.62599,     0.62787,     0.62963,     0.63226,     0.63343,     0.63425,      0.6355,     0.63787,     0.63833,     0.64019,     0.64054,\n",
       "            0.64133,     0.64389,      0.6467,      0.6495,     0.65233,     0.65446,      0.6554,     0.65567,     0.65617,     0.65755,      0.6586,     0.65931,     0.66054,     0.66092,     0.66294,     0.66384,     0.66474,     0.66737,     0.66881,     0.67106,     0.67216,      0.6738,     0.67467,\n",
       "             0.6789,     0.67942,     0.68086,       0.682,     0.68276,     0.68337,     0.68378,     0.68413,     0.68505,     0.68631,     0.68786,     0.68935,     0.69027,     0.69091,     0.69133,     0.69301,     0.69378,      0.6942,     0.69569,      0.6982,     0.69861,     0.69894,     0.70111,\n",
       "            0.70307,     0.70402,     0.70483,     0.70758,     0.70801,     0.70967,     0.71055,     0.71237,     0.71333,     0.71535,     0.71727,     0.71728,     0.71891,     0.71947,     0.72029,     0.72159,     0.72319,      0.7236,     0.72414,     0.72563,     0.72647,     0.72733,     0.72791,\n",
       "            0.72811,     0.72961,     0.73025,     0.73136,      0.7322,     0.73279,     0.73296,     0.73326,     0.73434,     0.73607,     0.73641,      0.7383,     0.73923,     0.74029,      0.7409,     0.74202,     0.74253,     0.74347,     0.74439,     0.74531,     0.74624,     0.74746,     0.74936,\n",
       "            0.75041,     0.75186,     0.75291,     0.75367,     0.75452,     0.75581,     0.75737,     0.76044,     0.76059,     0.76078,     0.76306,     0.76338,     0.76407,     0.76619,     0.76801,     0.76868,     0.76899,     0.76928,      0.7697,     0.76977,     0.77049,     0.77221,     0.77259,\n",
       "            0.77427,     0.77439,     0.77434,     0.77425,     0.77349,     0.77341,     0.77447,     0.77556,     0.77668,     0.77761,     0.77753,     0.77775,     0.77775,     0.77795,     0.77898,     0.77928,     0.77995,     0.77987,     0.77978,      0.7797,     0.78149,     0.78209,     0.78309,\n",
       "            0.78323,     0.78434,     0.78498,     0.78566,      0.7881,     0.78818,     0.78856,      0.7901,     0.79091,      0.7914,     0.79177,     0.79389,     0.79481,     0.79513,     0.79512,     0.79502,     0.79637,      0.7964,     0.79751,     0.79851,     0.79883,     0.79971,     0.80041,\n",
       "            0.80033,     0.80051,     0.80153,     0.80186,     0.80236,     0.80363,     0.80352,     0.80574,     0.80637,     0.80757,     0.80763,     0.80815,     0.80931,     0.81046,     0.81095,      0.8121,     0.81205,       0.812,     0.81209,     0.81276,     0.81335,     0.81369,     0.81408,\n",
       "            0.81463,     0.81699,     0.81735,     0.81782,     0.81843,     0.81871,      0.8194,     0.81983,     0.82013,     0.82118,     0.82168,     0.82222,     0.82331,     0.82436,     0.82422,     0.82411,     0.82405,     0.82455,     0.82489,     0.82499,     0.82509,     0.82499,     0.82489,\n",
       "            0.82599,      0.8259,     0.82647,     0.82695,      0.8277,     0.82867,     0.82861,     0.83011,     0.83138,     0.83213,     0.83336,     0.83374,     0.83488,     0.83616,     0.83746,      0.8385,     0.83982,     0.83979,     0.84012,     0.84024,     0.84019,     0.84015,     0.84022,\n",
       "            0.84063,     0.84058,     0.84054,     0.84267,       0.844,      0.8441,     0.84439,     0.84437,     0.84471,     0.84515,     0.84511,     0.84559,      0.8456,     0.84614,     0.84608,     0.84655,      0.8473,     0.84776,     0.84788,     0.84806,     0.84822,     0.84859,     0.84929,\n",
       "            0.84999,     0.85067,     0.85201,     0.85236,     0.85223,     0.85253,     0.85323,     0.85394,     0.85658,     0.85715,      0.8575,     0.85816,     0.85935,     0.86218,     0.86266,     0.86237,     0.86303,     0.86303,     0.86337,     0.86359,      0.8654,     0.86601,     0.86592,\n",
       "            0.86586,     0.86611,     0.86713,     0.86738,     0.86716,     0.86736,     0.86732,      0.8671,     0.86772,     0.86823,     0.86838,     0.86832,      0.8697,     0.86947,     0.86913,     0.86978,     0.87043,     0.87028,     0.87167,     0.87229,     0.87359,     0.87354,     0.87326,\n",
       "            0.87467,     0.87461,     0.87467,     0.87523,     0.87585,      0.8767,     0.87815,     0.87883,     0.87948,     0.87974,     0.88001,     0.88014,     0.88027,     0.88241,     0.88273,     0.88262,     0.88319,     0.88309,     0.88346,     0.88427,     0.88498,     0.88483,     0.88472,\n",
       "            0.88451,     0.88413,     0.88407,     0.88465,     0.88548,     0.88609,     0.88692,     0.88698,     0.88688,     0.88677,     0.88646,     0.88625,     0.88784,     0.88867,      0.8893,     0.88919,     0.88909,     0.88899,     0.88893,       0.889,     0.89052,     0.89042,     0.89114,\n",
       "            0.89136,     0.89126,     0.89115,     0.89105,     0.89086,      0.8908,     0.89139,     0.89133,     0.89213,     0.89207,     0.89395,     0.89438,     0.89443,     0.89518,     0.89508,     0.89498,     0.89477,     0.89553,     0.89512,     0.89571,     0.89751,     0.89745,      0.8974,\n",
       "             0.8983,     0.89859,     0.89889,     0.89865,     0.90022,     0.90005,     0.89976,     0.90004,     0.90095,     0.90133,     0.90195,      0.9019,     0.90262,     0.90252,     0.90242,     0.90301,     0.90474,     0.90474,     0.90541,     0.90559,     0.90554,     0.90539,     0.90534,\n",
       "            0.90529,     0.90525,     0.90597,     0.90587,     0.90568,     0.90563,     0.90548,     0.90528,     0.90524,     0.90521,     0.90514,     0.90596,     0.90638,     0.90748,     0.90745,     0.90741,     0.90733,     0.90817,     0.90807,     0.90887,     0.90967,     0.90951,     0.90943,\n",
       "            0.90982,     0.91028,     0.91018,     0.91065,     0.91079,     0.91076,     0.91073,     0.91059,     0.91054,      0.9109,      0.9109,     0.91123,     0.91156,     0.91167,     0.91257,     0.91252,     0.91247,     0.91242,     0.91409,     0.91389,     0.91568,     0.91563,     0.91549,\n",
       "            0.91544,     0.91621,     0.91612,     0.91605,     0.91597,     0.91618,     0.91669,     0.91764,     0.91759,     0.91751,     0.91742,     0.91728,     0.91719,     0.91709,     0.91683,     0.91679,     0.91665,     0.91663,      0.9166,     0.91659,     0.91843,      0.9184,     0.91836,\n",
       "             0.9188,     0.91904,     0.91895,      0.9189,     0.91887,     0.91885,     0.92079,      0.9207,     0.92052,     0.92039,     0.92118,     0.92124,     0.92106,     0.92163,     0.92251,     0.92412,     0.92407,     0.92392,     0.92477,     0.92474,     0.92471,     0.92467,     0.92448,\n",
       "            0.92508,     0.92526,     0.92499,     0.92586,     0.92577,      0.9255,     0.92538,     0.92528,     0.92523,     0.92518,     0.92717,     0.92819,     0.92802,     0.92995,     0.92989,     0.93047,     0.93098,     0.93199,     0.93296,     0.93271,     0.93232,     0.93307,     0.93396,\n",
       "            0.93385,     0.93377,     0.93368,     0.93349,     0.93347,     0.93344,     0.93342,     0.93444,     0.93446,     0.93422,     0.93631,     0.93626,     0.93622,     0.93697,     0.93681,     0.93808,     0.93879,     0.93984,     0.94191,     0.94197,     0.94331,     0.94413,     0.94395,\n",
       "            0.94611,     0.94619,     0.94614,     0.94724,     0.94705,     0.94701,     0.94873,     0.94936,     0.95031,     0.95121,      0.9515,     0.95147,     0.95131,     0.95111,     0.95106,     0.95081,     0.95076,     0.95071,     0.95177,      0.9531,     0.95301,     0.95419,     0.95416,\n",
       "            0.95385,     0.95518,     0.95514,      0.9549,     0.95446,     0.95441,     0.95436,     0.95432,     0.95414,     0.95409,     0.95398,     0.95528,     0.95519,      0.9549,     0.95453,     0.95449,     0.95435,     0.95495,      0.9557,     0.95573,      0.9556,     0.95553,      0.9555,\n",
       "            0.95548,     0.95672,     0.95662,     0.95772,     0.95727,     0.96012,     0.96008,     0.95983,     0.96439,     0.96435,     0.96571,     0.96554,     0.96678,     0.96702,     0.96847,     0.96837,     0.96834,     0.96987,     0.97134,     0.97124,     0.97118,     0.97116,     0.97114,\n",
       "            0.97108,     0.97101,     0.97187,     0.97239,     0.97235,     0.97229,     0.97209,     0.97453,     0.97529,     0.97523,      0.9751,     0.97497,     0.97483,     0.97473,     0.97807,     0.97805,     0.97803,     0.97793,     0.97782,     0.97757,     0.97752,     0.97746,     0.97738,\n",
       "            0.97735,     0.97718,     0.97715,     0.97704,     0.97698,     0.97678,     0.97863,      0.9786,     0.97852,     0.97841,     0.97836,     0.97824,     0.97816,     0.97813,       0.978,     0.97955,      0.9795,     0.97925,     0.97916,     0.97896,     0.97871,     0.97858,     0.97853,\n",
       "             0.9785,     0.98045,     0.98015,     0.98001,      0.9798,      0.9797,     0.98116,     0.98168,     0.98149,     0.98125,     0.98122,     0.98104,     0.98086,     0.98072,     0.98053,     0.98284,     0.98266,     0.98254,     0.98251,     0.98235,     0.98212,     0.98194,     0.98175,\n",
       "             0.9816,     0.98155,     0.98145,     0.98629,     0.98864,     0.98911,     0.98901,     0.98898,     0.98892,      0.9887,     0.98862,     0.98852,     0.98839,     0.98833,     0.98823,     0.98806,     0.98803,     0.98775,     0.98767,     0.98752,     0.98728,     0.98703,     0.98974,\n",
       "            0.99007,     0.98997,     0.98982,     0.98971,     0.98953,     0.98947,     0.98936,     0.98932,     0.98916,     0.98897,     0.98888,     0.98879,     0.98858,     0.98852,     0.98835,     0.98822,     0.98813,     0.98787,     0.98772,     0.99171,      0.9915,     0.99135,     0.99116,\n",
       "            0.99104,     0.99087,     0.99057,     0.99517,     0.99507,       0.995,     0.99484,     0.99473,           1,           1,           1,           1,           1,           1,           1,           1,           1,           1,           1,           1,           1,           1,           1,\n",
       "                  1,           1,           1,           1,           1,           1,           1,           1,           1,           1,           1,           1,           1,           1,           1,           1,           1,           1,           1,           1,           1,           1,           1,\n",
       "                  1,           1,           1,           1,           1,           1,           1,           1,           1,           1,           1,           1,           1,           1,           1,           1,           1,           1,           1,           1,           1,           1,           1,\n",
       "                  1,           1,           1,           1,           1,           1,           1,           1,           1,           1,           1,           1,           1,           1,           1,           1,           1,           1,           1,           1,           1,           1,           1,\n",
       "                  1,           1,           1,           1,           1,           1,           1,           1,           1,           1,           1]]), 'Confidence', 'Precision'], [array([          0,    0.001001,    0.002002,    0.003003,    0.004004,    0.005005,    0.006006,    0.007007,    0.008008,    0.009009,     0.01001,    0.011011,    0.012012,    0.013013,    0.014014,    0.015015,    0.016016,    0.017017,    0.018018,    0.019019,     0.02002,    0.021021,    0.022022,    0.023023,\n",
       "          0.024024,    0.025025,    0.026026,    0.027027,    0.028028,    0.029029,     0.03003,    0.031031,    0.032032,    0.033033,    0.034034,    0.035035,    0.036036,    0.037037,    0.038038,    0.039039,     0.04004,    0.041041,    0.042042,    0.043043,    0.044044,    0.045045,    0.046046,    0.047047,\n",
       "          0.048048,    0.049049,     0.05005,    0.051051,    0.052052,    0.053053,    0.054054,    0.055055,    0.056056,    0.057057,    0.058058,    0.059059,     0.06006,    0.061061,    0.062062,    0.063063,    0.064064,    0.065065,    0.066066,    0.067067,    0.068068,    0.069069,     0.07007,    0.071071,\n",
       "          0.072072,    0.073073,    0.074074,    0.075075,    0.076076,    0.077077,    0.078078,    0.079079,     0.08008,    0.081081,    0.082082,    0.083083,    0.084084,    0.085085,    0.086086,    0.087087,    0.088088,    0.089089,     0.09009,    0.091091,    0.092092,    0.093093,    0.094094,    0.095095,\n",
       "          0.096096,    0.097097,    0.098098,    0.099099,      0.1001,      0.1011,      0.1021,      0.1031,      0.1041,     0.10511,     0.10611,     0.10711,     0.10811,     0.10911,     0.11011,     0.11111,     0.11211,     0.11311,     0.11411,     0.11512,     0.11612,     0.11712,     0.11812,     0.11912,\n",
       "           0.12012,     0.12112,     0.12212,     0.12312,     0.12412,     0.12513,     0.12613,     0.12713,     0.12813,     0.12913,     0.13013,     0.13113,     0.13213,     0.13313,     0.13413,     0.13514,     0.13614,     0.13714,     0.13814,     0.13914,     0.14014,     0.14114,     0.14214,     0.14314,\n",
       "           0.14414,     0.14515,     0.14615,     0.14715,     0.14815,     0.14915,     0.15015,     0.15115,     0.15215,     0.15315,     0.15415,     0.15516,     0.15616,     0.15716,     0.15816,     0.15916,     0.16016,     0.16116,     0.16216,     0.16316,     0.16416,     0.16517,     0.16617,     0.16717,\n",
       "           0.16817,     0.16917,     0.17017,     0.17117,     0.17217,     0.17317,     0.17417,     0.17518,     0.17618,     0.17718,     0.17818,     0.17918,     0.18018,     0.18118,     0.18218,     0.18318,     0.18418,     0.18519,     0.18619,     0.18719,     0.18819,     0.18919,     0.19019,     0.19119,\n",
       "           0.19219,     0.19319,     0.19419,      0.1952,      0.1962,      0.1972,      0.1982,      0.1992,      0.2002,      0.2012,      0.2022,      0.2032,      0.2042,     0.20521,     0.20621,     0.20721,     0.20821,     0.20921,     0.21021,     0.21121,     0.21221,     0.21321,     0.21421,     0.21522,\n",
       "           0.21622,     0.21722,     0.21822,     0.21922,     0.22022,     0.22122,     0.22222,     0.22322,     0.22422,     0.22523,     0.22623,     0.22723,     0.22823,     0.22923,     0.23023,     0.23123,     0.23223,     0.23323,     0.23423,     0.23524,     0.23624,     0.23724,     0.23824,     0.23924,\n",
       "           0.24024,     0.24124,     0.24224,     0.24324,     0.24424,     0.24525,     0.24625,     0.24725,     0.24825,     0.24925,     0.25025,     0.25125,     0.25225,     0.25325,     0.25425,     0.25526,     0.25626,     0.25726,     0.25826,     0.25926,     0.26026,     0.26126,     0.26226,     0.26326,\n",
       "           0.26426,     0.26527,     0.26627,     0.26727,     0.26827,     0.26927,     0.27027,     0.27127,     0.27227,     0.27327,     0.27427,     0.27528,     0.27628,     0.27728,     0.27828,     0.27928,     0.28028,     0.28128,     0.28228,     0.28328,     0.28428,     0.28529,     0.28629,     0.28729,\n",
       "           0.28829,     0.28929,     0.29029,     0.29129,     0.29229,     0.29329,     0.29429,      0.2953,      0.2963,      0.2973,      0.2983,      0.2993,      0.3003,      0.3013,      0.3023,      0.3033,      0.3043,     0.30531,     0.30631,     0.30731,     0.30831,     0.30931,     0.31031,     0.31131,\n",
       "           0.31231,     0.31331,     0.31431,     0.31532,     0.31632,     0.31732,     0.31832,     0.31932,     0.32032,     0.32132,     0.32232,     0.32332,     0.32432,     0.32533,     0.32633,     0.32733,     0.32833,     0.32933,     0.33033,     0.33133,     0.33233,     0.33333,     0.33433,     0.33534,\n",
       "           0.33634,     0.33734,     0.33834,     0.33934,     0.34034,     0.34134,     0.34234,     0.34334,     0.34434,     0.34535,     0.34635,     0.34735,     0.34835,     0.34935,     0.35035,     0.35135,     0.35235,     0.35335,     0.35435,     0.35536,     0.35636,     0.35736,     0.35836,     0.35936,\n",
       "           0.36036,     0.36136,     0.36236,     0.36336,     0.36436,     0.36537,     0.36637,     0.36737,     0.36837,     0.36937,     0.37037,     0.37137,     0.37237,     0.37337,     0.37437,     0.37538,     0.37638,     0.37738,     0.37838,     0.37938,     0.38038,     0.38138,     0.38238,     0.38338,\n",
       "           0.38438,     0.38539,     0.38639,     0.38739,     0.38839,     0.38939,     0.39039,     0.39139,     0.39239,     0.39339,     0.39439,      0.3954,      0.3964,      0.3974,      0.3984,      0.3994,      0.4004,      0.4014,      0.4024,      0.4034,      0.4044,     0.40541,     0.40641,     0.40741,\n",
       "           0.40841,     0.40941,     0.41041,     0.41141,     0.41241,     0.41341,     0.41441,     0.41542,     0.41642,     0.41742,     0.41842,     0.41942,     0.42042,     0.42142,     0.42242,     0.42342,     0.42442,     0.42543,     0.42643,     0.42743,     0.42843,     0.42943,     0.43043,     0.43143,\n",
       "           0.43243,     0.43343,     0.43443,     0.43544,     0.43644,     0.43744,     0.43844,     0.43944,     0.44044,     0.44144,     0.44244,     0.44344,     0.44444,     0.44545,     0.44645,     0.44745,     0.44845,     0.44945,     0.45045,     0.45145,     0.45245,     0.45345,     0.45445,     0.45546,\n",
       "           0.45646,     0.45746,     0.45846,     0.45946,     0.46046,     0.46146,     0.46246,     0.46346,     0.46446,     0.46547,     0.46647,     0.46747,     0.46847,     0.46947,     0.47047,     0.47147,     0.47247,     0.47347,     0.47447,     0.47548,     0.47648,     0.47748,     0.47848,     0.47948,\n",
       "           0.48048,     0.48148,     0.48248,     0.48348,     0.48448,     0.48549,     0.48649,     0.48749,     0.48849,     0.48949,     0.49049,     0.49149,     0.49249,     0.49349,     0.49449,      0.4955,      0.4965,      0.4975,      0.4985,      0.4995,      0.5005,      0.5015,      0.5025,      0.5035,\n",
       "            0.5045,     0.50551,     0.50651,     0.50751,     0.50851,     0.50951,     0.51051,     0.51151,     0.51251,     0.51351,     0.51451,     0.51552,     0.51652,     0.51752,     0.51852,     0.51952,     0.52052,     0.52152,     0.52252,     0.52352,     0.52452,     0.52553,     0.52653,     0.52753,\n",
       "           0.52853,     0.52953,     0.53053,     0.53153,     0.53253,     0.53353,     0.53453,     0.53554,     0.53654,     0.53754,     0.53854,     0.53954,     0.54054,     0.54154,     0.54254,     0.54354,     0.54454,     0.54555,     0.54655,     0.54755,     0.54855,     0.54955,     0.55055,     0.55155,\n",
       "           0.55255,     0.55355,     0.55455,     0.55556,     0.55656,     0.55756,     0.55856,     0.55956,     0.56056,     0.56156,     0.56256,     0.56356,     0.56456,     0.56557,     0.56657,     0.56757,     0.56857,     0.56957,     0.57057,     0.57157,     0.57257,     0.57357,     0.57457,     0.57558,\n",
       "           0.57658,     0.57758,     0.57858,     0.57958,     0.58058,     0.58158,     0.58258,     0.58358,     0.58458,     0.58559,     0.58659,     0.58759,     0.58859,     0.58959,     0.59059,     0.59159,     0.59259,     0.59359,     0.59459,      0.5956,      0.5966,      0.5976,      0.5986,      0.5996,\n",
       "            0.6006,      0.6016,      0.6026,      0.6036,      0.6046,     0.60561,     0.60661,     0.60761,     0.60861,     0.60961,     0.61061,     0.61161,     0.61261,     0.61361,     0.61461,     0.61562,     0.61662,     0.61762,     0.61862,     0.61962,     0.62062,     0.62162,     0.62262,     0.62362,\n",
       "           0.62462,     0.62563,     0.62663,     0.62763,     0.62863,     0.62963,     0.63063,     0.63163,     0.63263,     0.63363,     0.63463,     0.63564,     0.63664,     0.63764,     0.63864,     0.63964,     0.64064,     0.64164,     0.64264,     0.64364,     0.64464,     0.64565,     0.64665,     0.64765,\n",
       "           0.64865,     0.64965,     0.65065,     0.65165,     0.65265,     0.65365,     0.65465,     0.65566,     0.65666,     0.65766,     0.65866,     0.65966,     0.66066,     0.66166,     0.66266,     0.66366,     0.66466,     0.66567,     0.66667,     0.66767,     0.66867,     0.66967,     0.67067,     0.67167,\n",
       "           0.67267,     0.67367,     0.67467,     0.67568,     0.67668,     0.67768,     0.67868,     0.67968,     0.68068,     0.68168,     0.68268,     0.68368,     0.68468,     0.68569,     0.68669,     0.68769,     0.68869,     0.68969,     0.69069,     0.69169,     0.69269,     0.69369,     0.69469,      0.6957,\n",
       "            0.6967,      0.6977,      0.6987,      0.6997,      0.7007,      0.7017,      0.7027,      0.7037,      0.7047,     0.70571,     0.70671,     0.70771,     0.70871,     0.70971,     0.71071,     0.71171,     0.71271,     0.71371,     0.71471,     0.71572,     0.71672,     0.71772,     0.71872,     0.71972,\n",
       "           0.72072,     0.72172,     0.72272,     0.72372,     0.72472,     0.72573,     0.72673,     0.72773,     0.72873,     0.72973,     0.73073,     0.73173,     0.73273,     0.73373,     0.73473,     0.73574,     0.73674,     0.73774,     0.73874,     0.73974,     0.74074,     0.74174,     0.74274,     0.74374,\n",
       "           0.74474,     0.74575,     0.74675,     0.74775,     0.74875,     0.74975,     0.75075,     0.75175,     0.75275,     0.75375,     0.75475,     0.75576,     0.75676,     0.75776,     0.75876,     0.75976,     0.76076,     0.76176,     0.76276,     0.76376,     0.76476,     0.76577,     0.76677,     0.76777,\n",
       "           0.76877,     0.76977,     0.77077,     0.77177,     0.77277,     0.77377,     0.77477,     0.77578,     0.77678,     0.77778,     0.77878,     0.77978,     0.78078,     0.78178,     0.78278,     0.78378,     0.78478,     0.78579,     0.78679,     0.78779,     0.78879,     0.78979,     0.79079,     0.79179,\n",
       "           0.79279,     0.79379,     0.79479,      0.7958,      0.7968,      0.7978,      0.7988,      0.7998,      0.8008,      0.8018,      0.8028,      0.8038,      0.8048,     0.80581,     0.80681,     0.80781,     0.80881,     0.80981,     0.81081,     0.81181,     0.81281,     0.81381,     0.81481,     0.81582,\n",
       "           0.81682,     0.81782,     0.81882,     0.81982,     0.82082,     0.82182,     0.82282,     0.82382,     0.82482,     0.82583,     0.82683,     0.82783,     0.82883,     0.82983,     0.83083,     0.83183,     0.83283,     0.83383,     0.83483,     0.83584,     0.83684,     0.83784,     0.83884,     0.83984,\n",
       "           0.84084,     0.84184,     0.84284,     0.84384,     0.84484,     0.84585,     0.84685,     0.84785,     0.84885,     0.84985,     0.85085,     0.85185,     0.85285,     0.85385,     0.85485,     0.85586,     0.85686,     0.85786,     0.85886,     0.85986,     0.86086,     0.86186,     0.86286,     0.86386,\n",
       "           0.86486,     0.86587,     0.86687,     0.86787,     0.86887,     0.86987,     0.87087,     0.87187,     0.87287,     0.87387,     0.87487,     0.87588,     0.87688,     0.87788,     0.87888,     0.87988,     0.88088,     0.88188,     0.88288,     0.88388,     0.88488,     0.88589,     0.88689,     0.88789,\n",
       "           0.88889,     0.88989,     0.89089,     0.89189,     0.89289,     0.89389,     0.89489,      0.8959,      0.8969,      0.8979,      0.8989,      0.8999,      0.9009,      0.9019,      0.9029,      0.9039,      0.9049,     0.90591,     0.90691,     0.90791,     0.90891,     0.90991,     0.91091,     0.91191,\n",
       "           0.91291,     0.91391,     0.91491,     0.91592,     0.91692,     0.91792,     0.91892,     0.91992,     0.92092,     0.92192,     0.92292,     0.92392,     0.92492,     0.92593,     0.92693,     0.92793,     0.92893,     0.92993,     0.93093,     0.93193,     0.93293,     0.93393,     0.93493,     0.93594,\n",
       "           0.93694,     0.93794,     0.93894,     0.93994,     0.94094,     0.94194,     0.94294,     0.94394,     0.94494,     0.94595,     0.94695,     0.94795,     0.94895,     0.94995,     0.95095,     0.95195,     0.95295,     0.95395,     0.95495,     0.95596,     0.95696,     0.95796,     0.95896,     0.95996,\n",
       "           0.96096,     0.96196,     0.96296,     0.96396,     0.96496,     0.96597,     0.96697,     0.96797,     0.96897,     0.96997,     0.97097,     0.97197,     0.97297,     0.97397,     0.97497,     0.97598,     0.97698,     0.97798,     0.97898,     0.97998,     0.98098,     0.98198,     0.98298,     0.98398,\n",
       "           0.98498,     0.98599,     0.98699,     0.98799,     0.98899,     0.98999,     0.99099,     0.99199,     0.99299,     0.99399,     0.99499,       0.996,       0.997,       0.998,       0.999,           1]), array([[    0.81131,     0.81131,     0.80204,     0.79369,      0.7872,     0.78071,     0.77469,     0.77144,     0.76773,      0.7631,     0.76032,     0.75846,     0.75382,     0.75151,     0.74873,     0.74502,     0.74409,     0.74084,     0.73992,      0.7376,     0.73621,     0.73621,     0.73435,\n",
       "            0.73343,     0.72833,      0.7274,     0.72601,     0.72462,     0.72323,      0.7223,     0.72137,     0.72091,     0.71859,      0.7172,     0.71627,     0.71535,     0.71488,      0.7121,     0.71071,     0.70885,     0.70654,     0.70515,     0.70468,     0.70376,     0.70329,     0.70236,\n",
       "            0.70144,     0.70005,     0.69819,     0.69541,     0.69495,     0.69448,     0.69356,      0.6917,     0.69031,     0.69031,     0.68938,     0.68938,     0.68753,     0.68567,     0.68521,     0.68336,     0.68289,     0.68197,     0.68197,      0.6815,     0.68057,     0.67872,     0.67779,\n",
       "            0.67779,     0.67687,      0.6764,     0.67501,     0.67316,     0.67269,     0.67223,     0.67223,      0.6713,     0.67082,     0.66945,     0.66898,     0.66852,     0.66852,     0.66852,     0.66852,     0.66852,     0.66713,     0.66506,     0.66389,     0.66342,     0.66203,      0.6611,\n",
       "            0.66103,     0.65971,     0.65879,     0.65832,     0.65786,     0.65739,     0.65647,     0.65554,     0.65554,     0.65415,     0.65276,     0.65229,     0.65137,     0.65137,      0.6509,      0.6509,     0.65044,     0.65044,     0.64859,     0.64812,      0.6472,     0.64685,      0.6458,\n",
       "             0.6458,     0.64488,     0.64395,     0.64395,      0.6423,     0.64117,     0.64024,     0.63931,     0.63839,     0.63839,     0.63653,     0.63561,     0.63561,     0.63561,     0.63514,     0.63436,     0.63329,     0.63236,     0.63198,     0.63097,     0.63051,     0.63051,     0.63004,\n",
       "            0.62958,     0.62865,     0.62726,     0.62599,     0.62541,     0.62499,     0.62401,     0.62355,     0.62309,     0.62211,     0.62123,     0.62123,     0.62123,     0.62077,     0.62077,     0.61977,     0.61882,     0.61799,     0.61752,     0.61752,      0.6171,     0.61615,     0.61613,\n",
       "            0.61567,     0.61428,     0.61335,     0.61196,     0.61196,     0.61196,     0.61196,      0.6115,     0.61031,     0.61011,     0.60918,     0.60825,     0.60779,     0.60732,     0.60732,     0.60732,     0.60732,     0.60593,     0.60593,     0.60547,     0.60501,      0.6038,     0.60362,\n",
       "            0.60269,     0.60187,      0.6013,      0.6013,      0.6013,      0.6013,     0.60037,     0.60037,     0.59944,     0.59898,     0.59852,     0.59805,     0.59805,     0.59759,     0.59713,     0.59713,     0.59713,     0.59713,     0.59666,     0.59666,      0.5962,      0.5962,      0.5962,\n",
       "            0.59597,     0.59434,     0.59388,     0.59342,     0.59203,      0.5911,      0.5911,      0.5911,      0.5911,      0.5911,     0.59064,     0.59017,     0.59017,     0.58862,     0.58785,     0.58785,     0.58739,     0.58693,     0.58646,     0.58646,       0.586,       0.586,     0.58554,\n",
       "            0.58507,     0.58507,     0.58461,     0.58414,     0.58368,      0.5836,     0.58322,     0.58322,     0.58322,     0.58275,     0.58219,     0.58103,      0.5809,      0.5809,     0.58044,     0.58035,     0.57951,     0.57904,     0.57765,     0.57673,     0.57626,      0.5758,      0.5758,\n",
       "            0.57482,     0.57419,     0.57356,     0.57348,     0.57348,     0.57212,     0.57116,     0.57116,     0.57024,      0.5702,     0.56931,     0.56893,     0.56885,     0.56885,     0.56885,     0.56885,     0.56824,     0.56745,     0.56699,     0.56653,     0.56579,      0.5656,     0.56413,\n",
       "            0.56375,     0.56375,     0.56375,     0.56314,     0.56282,     0.56282,     0.56282,     0.56215,     0.56115,      0.5605,     0.55957,     0.55937,     0.55911,     0.55911,     0.55865,     0.55865,     0.55818,     0.55818,     0.55626,     0.55586,     0.55561,     0.55494,     0.55447,\n",
       "            0.55447,     0.55377,     0.55201,     0.55174,     0.54935,     0.54908,     0.54845,     0.54845,     0.54819,     0.54793,     0.54766,     0.54752,     0.54673,     0.54567,     0.54567,     0.54567,     0.54556,     0.54529,     0.54502,     0.54475,     0.54474,     0.54474,     0.54474,\n",
       "            0.54439,     0.54381,      0.5433,     0.54288,     0.54242,     0.54169,     0.54116,     0.54103,      0.5401,     0.53997,     0.53871,     0.53751,     0.53694,     0.53639,     0.53615,     0.53584,     0.53487,     0.53408,     0.53408,     0.53408,     0.53408,     0.53408,     0.53358,\n",
       "            0.53331,     0.53315,     0.53315,     0.53315,     0.53315,     0.53314,     0.53268,     0.53265,     0.53222,     0.53116,     0.53083,      0.5299,      0.5299,     0.52944,     0.52898,     0.52897,      0.5288,     0.52863,     0.52805,     0.52805,     0.52729,     0.52712,     0.52577,\n",
       "            0.52573,     0.52573,     0.52434,     0.52388,     0.52388,     0.52248,     0.52248,     0.52248,     0.52248,      0.5216,     0.52126,     0.52109,     0.52062,     0.52003,     0.51956,     0.51916,     0.51892,     0.51854,     0.51831,     0.51646,     0.51613,     0.51414,     0.51321,\n",
       "            0.51273,     0.51229,     0.51225,     0.51175,     0.51136,     0.51126,     0.51103,     0.51089,     0.51089,     0.51089,     0.51007,     0.50913,     0.50904,     0.50904,     0.50904,     0.50811,     0.50803,     0.50765,     0.50765,     0.50715,     0.50699,     0.50683,     0.50626,\n",
       "             0.5062,     0.50603,     0.50585,     0.50487,     0.50487,     0.50453,     0.50312,     0.50209,     0.50209,     0.50102,     0.50085,     0.50017,     0.49977,     0.49973,     0.49949,     0.49873,     0.49838,     0.49824,     0.49791,     0.49683,     0.49652,     0.49628,     0.49467,\n",
       "            0.49467,     0.49388,     0.49281,     0.49281,     0.49199,     0.49096,     0.49096,     0.49096,     0.49009,     0.48961,     0.48821,     0.48818,     0.48725,     0.48725,     0.48631,     0.48493,     0.48489,     0.48447,     0.48336,     0.48308,     0.48288,      0.4824,     0.48204,\n",
       "             0.4818,     0.48122,     0.47937,      0.4791,     0.47816,     0.47705,     0.47582,     0.47488,      0.4744,     0.47427,     0.47409,     0.47386,     0.47343,     0.47249,     0.47109,     0.47102,     0.47056,     0.46966,     0.46919,     0.46871,     0.46778,     0.46754,     0.46636,\n",
       "             0.4659,     0.46567,     0.46546,     0.46453,     0.46445,     0.46407,     0.46361,     0.46314,     0.46314,     0.46314,     0.46314,     0.46298,     0.46222,     0.46129,     0.46062,     0.46015,     0.45921,     0.45873,     0.45851,     0.45851,     0.45804,     0.45591,     0.45543,\n",
       "            0.45449,     0.45278,     0.45255,     0.45248,     0.45166,     0.45155,     0.45155,     0.45116,     0.45069,     0.45021,     0.44881,     0.44787,     0.44784,     0.44784,     0.44691,     0.44644,     0.44596,     0.44551,     0.44527,     0.44506,     0.44499,     0.44451,     0.44404,\n",
       "            0.44124,     0.44077,     0.44029,     0.43982,     0.43896,     0.43872,     0.43755,     0.43732,     0.43708,     0.43684,     0.43672,     0.43672,       0.436,     0.43553,     0.43505,     0.43458,     0.43364,     0.43316,      0.4313,     0.43115,     0.43035,     0.43005,     0.42981,\n",
       "            0.42884,     0.42884,     0.42884,      0.4275,     0.42698,     0.42585,     0.42445,     0.42374,     0.42374,     0.42349,     0.42222,     0.42198,     0.42113,     0.42066,     0.42018,     0.42003,     0.41956,     0.41829,     0.41817,     0.41799,     0.41775,     0.41705,     0.41681,\n",
       "            0.41658,     0.41634,     0.41542,     0.41494,     0.41401,     0.41377,     0.41304,     0.41206,      0.4119,     0.41174,     0.41139,     0.41091,     0.40983,     0.40925,      0.4091,     0.40894,     0.40854,     0.40806,     0.40758,     0.40751,     0.40617,     0.40537,     0.40499,\n",
       "            0.40473,      0.4045,     0.40403,      0.4038,     0.40232,     0.40217,     0.40201,     0.40134,      0.4011,     0.39815,     0.39777,     0.39777,     0.39777,     0.39718,     0.39677,     0.39654,      0.3963,     0.39606,     0.39461,     0.39363,     0.39269,     0.39245,     0.39174,\n",
       "            0.39128,     0.39033,     0.38987,     0.38955,     0.38913,      0.3885,      0.3885,     0.38741,     0.38717,     0.38676,     0.38628,     0.38557,      0.3851,     0.38462,     0.38331,     0.38307,     0.38242,     0.38228,     0.38215,     0.38201,     0.38108,     0.38089,      0.3807,\n",
       "            0.37969,     0.37893,     0.37846,     0.37821,     0.37808,     0.37794,     0.37725,     0.37678,     0.37584,     0.37521,     0.37459,     0.37418,     0.37324,     0.37274,     0.37274,     0.37263,     0.37239,     0.37156,     0.37041,     0.37025,     0.37009,     0.36989,     0.36888,\n",
       "             0.3681,     0.36731,     0.36591,     0.36473,     0.36426,     0.36286,     0.36222,     0.36168,     0.36141,     0.36117,     0.36002,     0.35954,      0.3586,     0.35697,     0.35651,     0.35651,     0.35643,     0.35576,     0.35483,     0.35342,     0.35002,       0.349,     0.34748,\n",
       "            0.34689,     0.34641,     0.34594,     0.34488,     0.34474,     0.34461,     0.34447,       0.344,      0.3437,     0.34238,     0.34075,     0.34051,     0.33936,     0.33769,     0.33676,     0.33611,     0.33418,     0.33315,     0.33287,     0.33113,     0.32962,     0.32903,     0.32794,\n",
       "            0.32684,     0.32611,     0.32573,      0.3246,     0.32338,     0.32314,     0.32174,     0.32158,     0.31896,     0.31896,     0.31836,     0.31812,     0.31704,     0.31566,     0.31535,     0.31364,     0.31332,     0.31301,     0.31293,     0.31093,      0.3103,     0.30902,     0.30879,\n",
       "            0.30662,     0.30631,     0.30599,     0.30428,     0.30118,     0.30087,     0.30055,     0.30023,     0.29899,     0.29867,     0.29789,     0.29708,     0.29651,     0.29451,     0.29199,     0.29167,     0.29077,     0.29068,     0.29068,     0.29027,     0.28937,     0.28885,     0.28868,\n",
       "            0.28852,     0.28696,     0.28626,     0.28355,     0.28039,     0.27905,     0.27874,     0.27693,     0.27625,     0.27593,     0.27423,     0.27281,      0.2726,     0.27188,     0.27059,     0.26971,     0.26939,     0.26861,     0.26709,     0.26612,     0.26557,     0.26541,     0.26525,\n",
       "            0.26466,     0.26398,      0.2624,     0.26128,     0.26085,     0.26022,     0.25836,      0.2573,     0.25612,     0.25554,     0.25414,     0.25287,      0.2514,      0.2504,      0.2481,     0.24785,     0.24766,     0.24649,     0.24523,     0.24245,     0.24194,     0.24126,     0.24042,\n",
       "            0.24001,     0.23824,     0.23792,      0.2367,     0.23609,       0.234,     0.23357,     0.23325,     0.23234,     0.23107,     0.23051,     0.22929,     0.22842,      0.2281,     0.22671,     0.22206,     0.22156,     0.21876,     0.21781,     0.21575,     0.21312,     0.21179,     0.21134,\n",
       "            0.21103,      0.2092,     0.20605,     0.20455,     0.20234,     0.20135,     0.19935,      0.1987,     0.19664,     0.19411,      0.1938,     0.19194,     0.19006,     0.18865,      0.1868,     0.18586,     0.18394,     0.18262,      0.1823,     0.18062,     0.17828,     0.17641,     0.17453,\n",
       "            0.17311,     0.17267,     0.17168,     0.17107,     0.16968,     0.16836,     0.16692,     0.16645,     0.16551,     0.16224,     0.16108,     0.15968,     0.15781,     0.15705,     0.15564,      0.1534,     0.15308,     0.14954,     0.14859,     0.14671,     0.14391,      0.1411,     0.14094,\n",
       "            0.13868,     0.13728,     0.13518,     0.13378,     0.13145,     0.13074,     0.12934,     0.12884,     0.12696,     0.12467,     0.12373,     0.12272,     0.12038,     0.11975,     0.11801,     0.11671,     0.11578,     0.11331,     0.11189,     0.11094,     0.10814,     0.10626,     0.10392,\n",
       "            0.10251,     0.10063,     0.09736,    0.095482,    0.093604,    0.092224,    0.089386,    0.087508,    0.085235,     0.08468,    0.083589,    0.080925,    0.078583,    0.074978,    0.073437,    0.069855,    0.067828,    0.063168,    0.061707,    0.058682,    0.057999,    0.057036,    0.054244,\n",
       "           0.052841,    0.051416,    0.048611,    0.047661,    0.046247,    0.044669,      0.0411,    0.038759,    0.035954,    0.035004,    0.032199,    0.030785,    0.027053,    0.024712,    0.023298,    0.021884,    0.020202,    0.018592,    0.017629,    0.014837,    0.014129,    0.012936,    0.012251,\n",
       "           0.010849,   0.0096211,   0.0089714,   0.0084962,   0.0075574,   0.0062831,   0.0053326,   0.0043822,   0.0040984,   0.0040034,   0.0039083,   0.0038133,   0.0037182,   0.0034947,   0.0032571,   0.0027937,    0.002743,   0.0027034,   0.0026638,   0.0026242,   0.0025846,    0.002545,   0.0025054,\n",
       "          0.0024658,   0.0024262,   0.0023866,    0.002347,   0.0021909,   0.0018433,   0.0018053,   0.0017673,   0.0017293,   0.0016913,   0.0016532,   0.0016152,   0.0015772,   0.0015392,   0.0015012,   0.0014632,   0.0014251,   0.0013847,   0.0013213,   0.0012579,   0.0011946,   0.0011312,   0.0010679,\n",
       "          0.0010045,  0.00094114,           0,           0,           0,           0,           0,           0,           0,           0,           0]]), 'Confidence', 'Recall']]\n",
       "fitness: 0.42302819140454984\n",
       "keys: ['metrics/precision(B)', 'metrics/recall(B)', 'metrics/mAP50(B)', 'metrics/mAP50-95(B)']\n",
       "maps: array([    0.39974])\n",
       "names: {0: 'person'}\n",
       "plot: True\n",
       "results_dict: {'metrics/precision(B)': 0.7607806804631674, 'metrics/recall(B)': 0.5605006954102921, 'metrics/mAP50(B)': 0.6326469042401576, 'metrics/mAP50-95(B)': 0.3997372233117045, 'fitness': 0.42302819140454984}\n",
       "save_dir: WindowsPath('D:/Programming/Python/AI/Work/ultralytics/runs/detect/yolov8m_custom')\n",
       "speed: {'preprocess': 0.08657550811767578, 'inference': 3.1490020751953125, 'loss': 0.0, 'postprocess': 1.0530800819396973}\n",
       "task: 'detect'"
      ]
     },
     "execution_count": 12,
     "metadata": {},
     "output_type": "execute_result"
    }
   ],
   "source": [
    "model.train(\n",
    "    data=r\"data\\dataset.yaml\",\n",
    "    imgsz=320,\n",
    "    patience=50,\n",
    "    epochs=100,\n",
    "    batch=16,\n",
    "    workers=1,\n",
    "    name='yolov8m_custom',\n",
    ")"
   ]
  },
  {
   "cell_type": "code",
   "execution_count": 13,
   "id": "d0002346-addc-420b-ad98-7c2aae3a87cd",
   "metadata": {},
   "outputs": [
    {
     "name": "stdout",
     "output_type": "stream",
     "text": [
      "Ultralytics YOLOv8.1.38 🚀 Python-3.11.5 torch-2.2.2+cu118 CUDA:0 (NVIDIA GeForce RTX 3050 Laptop GPU, 4096MiB)\n",
      "Model summary (fused): 218 layers, 25840339 parameters, 0 gradients, 78.7 GFLOPs\n"
     ]
    },
    {
     "name": "stderr",
     "output_type": "stream",
     "text": [
      "\u001b[34m\u001b[1mval: \u001b[0mScanning D:\\Programming\\Python\\AI\\Work\\datasets\\data\\labels\\val.cache... 500 images, 0 backgrounds, 0 corrupt: 100\u001b[0m\n",
      "                 Class     Images  Instances      Box(P          R      mAP50  mAP50-95): 100%|██████████| 32/32 [00:05\n"
     ]
    },
    {
     "name": "stdout",
     "output_type": "stream",
     "text": [
      "                   all        500       2157      0.763       0.56      0.633      0.399\n",
      "Speed: 0.4ms preprocess, 6.2ms inference, 0.0ms loss, 1.1ms postprocess per image\n",
      "Results saved to \u001b[1mD:\\Programming\\Python\\AI\\Work\\ultralytics\\runs\\detect\\yolov8m_custom2\u001b[0m\n"
     ]
    }
   ],
   "source": [
    "metrics = model.val()  # evaluate model performance on the validation set"
   ]
  },
  {
   "cell_type": "code",
   "execution_count": 14,
   "id": "aad98d20-b44e-4310-b846-0391b4862343",
   "metadata": {},
   "outputs": [
    {
     "name": "stdout",
     "output_type": "stream",
     "text": [
      "\n",
      "Found https://ultralytics.com/images/bus.jpg locally at bus.jpg\n",
      "image 1/1 D:\\Programming\\Python\\AI\\Work\\ultralytics\\bus.jpg: 320x256 4 persons, 112.6ms\n",
      "Speed: 0.0ms preprocess, 112.6ms inference, 0.0ms postprocess per image at shape (1, 3, 320, 256)\n"
     ]
    }
   ],
   "source": [
    "results = model(\"https://ultralytics.com/images/bus.jpg\")  # predict on an image"
   ]
  },
  {
   "cell_type": "code",
   "execution_count": null,
   "id": "a4d74812-0a93-46f2-9b1a-19fb53d57ad4",
   "metadata": {},
   "outputs": [],
   "source": [
    "path = model.export(format=\"onnx\", opset=12, imgsz=[320, 320], int8=True)  # export the model to ONNX format"
   ]
  },
  {
   "cell_type": "code",
   "execution_count": null,
   "id": "14deb65f-2aee-41ae-a789-513c7006ef4d",
   "metadata": {},
   "outputs": [],
   "source": [
    "!yolo predict model=best.pt source='https://ultralytics.com/images/zidane.jpg'"
   ]
  }
 ],
 "metadata": {
  "kernelspec": {
   "display_name": "Python 3 (ipykernel)",
   "language": "python",
   "name": "python3"
  },
  "language_info": {
   "codemirror_mode": {
    "name": "ipython",
    "version": 3
   },
   "file_extension": ".py",
   "mimetype": "text/x-python",
   "name": "python",
   "nbconvert_exporter": "python",
   "pygments_lexer": "ipython3",
   "version": "3.11.5"
  }
 },
 "nbformat": 4,
 "nbformat_minor": 5
}
